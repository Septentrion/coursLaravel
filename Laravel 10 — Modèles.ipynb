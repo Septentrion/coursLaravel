{
 "cells": [
  {
   "cell_type": "markdown",
   "id": "d1ddb653",
   "metadata": {},
   "source": [
    "# Le modèle de données\n",
    "\n",
    "\n",
    "## Introduction\n",
    "\n",
    "Laravel inclut Eloquent, un **ORM** qui rend agréable l'interaction avec votre base de données. Lorsque vous utilisez Eloquent, chaque table de base de données a un \"modèle\" correspondant qui est utilisé pour interagir avec cette table. En plus de récupérer des enregistrements de la table de la base de données, les modèles Eloquent vous permettent d'insérer, de mettre à jour et de supprimer des enregistrements de la table.\n",
    "\n",
    "### Configuration\n",
    "\n",
    "La configuration des services de base de données de Laravel se trouve dans le fichier de configuration config/database.php de votre application. Dans ce fichier, vous pouvez définir toutes vos connexions à la base de données, ainsi que spécifier quelle connexion doit être utilisée par défaut. La plupart des options de configuration de ce fichier sont déterminées par les valeurs des variables d'environnement de votre application. Des exemples pour la plupart des systèmes de bases de données supportés par Laravel sont fournis dans ce fichier.\n",
    "\n",
    "Par défaut, l'exemple de configuration d'environnement de Laravel est prêt à être utilisé avec Laravel Sail, qui est une configuration Docker pour développer des applications Laravel sur votre machine locale. Cependant, vous êtes libre de modifier votre configuration de base de données en fonction des besoins de votre base de données locale\n",
    "\n",
    "## Création du modèle\n",
    "\n",
    "Pour commencer, nous allons créer un modèle Eloquent. Les modèles se trouvent généralement dans le répertoire `app\\Models` et héritent de la classe `Illuminate\\Database\\Eloquent\\Model`. Vous pouvez utiliser la commande  `make:model` pour générer un nouveau modèle :"
   ]
  },
  {
   "cell_type": "code",
   "execution_count": null,
   "id": "e6140138",
   "metadata": {},
   "outputs": [],
   "source": [
    "%%bash\n",
    "\n",
    "php artisan make:model Product"
   ]
  },
  {
   "cell_type": "markdown",
   "id": "b6923cd7",
   "metadata": {},
   "source": [
    "Si vous souhaitez générer une migration de la base de données lorsque vous générez le modèle, vous pouvez utiliser l'option --migration ou -m :"
   ]
  },
  {
   "cell_type": "code",
   "execution_count": null,
   "id": "b3b83235",
   "metadata": {},
   "outputs": [],
   "source": [
    "%%bash\n",
    "\n",
    "php artisan make:model Product --migration"
   ]
  },
  {
   "cell_type": "markdown",
   "id": "31c11726",
   "metadata": {},
   "source": [
    "Vous pouvez générer divers autres types de classes lors de la génération d'un modèle, comme les usines, les ensemenceurs, les politiques, les contrôleurs et les requêtes de formulaire. En outre, ces options peuvent être combinées pour créer plusieurs classes à la fois :"
   ]
  },
  {
   "cell_type": "code",
   "execution_count": null,
   "id": "0ee5e6cb",
   "metadata": {},
   "outputs": [],
   "source": [
    "%%bash\n",
    "\n",
    "# Générer un modèle et une classe FlightFactory...\n",
    "php artisan make:model Product --factory\n",
    "\n",
    "# Générer un modèle et une classe FlightSeeder...\n",
    "php artisan make:model Product --seed\n",
    " \n",
    "# Génère un modèle et une classe FlightController...\n",
    "php artisan make:model Product --controller\n",
    " \n",
    "# Génère un modèle, une classe ressource FlightController, et des classes de requête de formulaire...\n",
    "php artisan make:model Product --controller --resource --requests\n",
    " \n",
    "# Générer un modèle et une classe FlightPolicy...\n",
    "php artisan make:model Product --policy\n",
    " \n",
    "# Génère un modèle et une classe de migration, factory, seeder, et controller...\n",
    "php artisan make:model Product -mfsc\n",
    " \n",
    "# Raccourci pour générer un modèle, une migration, une usine, un seeder, une politique, un contrôleur et des demandes de formulaire...\n",
    "php artisan make:model Product --all\n",
    " \n",
    "# Générer un modèle de pivot...\n",
    "php artisan make:model Member --pivot"
   ]
  },
  {
   "cell_type": "markdown",
   "id": "31cd90fe",
   "metadata": {},
   "source": [
    "### Inspection des modèles\n",
    "\n",
    "Parfois, il peut être difficile de déterminer tous les attributs et relations disponibles d'un modèle juste en parcourant son code. Essayez plutôt la commande artisan model:show, qui fournit un aperçu pratique de tous les attributs et relations du modèle :"
   ]
  },
  {
   "cell_type": "code",
   "execution_count": null,
   "id": "020a3fcd",
   "metadata": {},
   "outputs": [],
   "source": [
    "%%bash\n",
    "\n",
    "php artisan model:show Product"
   ]
  },
  {
   "cell_type": "markdown",
   "id": "197f7f25",
   "metadata": {},
   "source": [
    "### Configuration du modèle\n",
    "\n",
    "Les modèles générés par la commande `make:model` seront placés dans le répertoire `app/Models`. Examinons une classe de modèle de base et discutons de certaines des conventions clés d'Eloquent :"
   ]
  },
  {
   "cell_type": "code",
   "execution_count": null,
   "id": "e9d2370c",
   "metadata": {},
   "outputs": [],
   "source": [
    "%%php\n",
    "<?php\n",
    " \n",
    "espace de noms App\\Models ;\n",
    " \n",
    "utilisez Illuminate\\Database\\Eloquent\\Model ;\n",
    " \n",
    "class Product extends Model\n",
    "{\n",
    "    //\n",
    "}"
   ]
  },
  {
   "cell_type": "markdown",
   "id": "11d198c0",
   "metadata": {},
   "source": [
    "#### Noms de table\n",
    "\n",
    "Après avoir jeté un coup d'œil à l'exemple ci-dessus, vous avez peut-être remarqué que nous n'avons pas indiqué à Eloquent quelle table de base de données correspond à notre modèle `Product`. Par convention, le nom en \"snake case\", de la classe au pluriel sera utilisé comme nom de table à moins qu'un autre nom ne soit explicitement spécifié. Ainsi, dans ce cas, Eloquent supposera que le modèle `Product` stocke les enregistrements dans la table `products`, tandis qu'un modèle `ProductLine` stockerait les enregistrements dans la table `product_lines`.\n",
    "\n",
    "Si la table de base de données correspondante de votre modèle ne correspond pas à cette convention, vous pouvez spécifier manuellement le nom de la table du modèle en définissant une propriété de table sur le modèle :"
   ]
  },
  {
   "cell_type": "code",
   "execution_count": null,
   "id": "da31425f",
   "metadata": {},
   "outputs": [],
   "source": [
    "%%php\n",
    "\n",
    "/**\n",
    " * @var string\n",
    " */\n",
    "protected $table = 'my_products' ;"
   ]
  },
  {
   "cell_type": "markdown",
   "id": "3b2ded05",
   "metadata": {},
   "source": [
    "#### Clés primaires\n",
    "\n",
    "Eloquent suppose également que la table de base de données correspondante de chaque modèle possède une colonne de clé primaire nommée `id`. Si nécessaire, vous pouvez définir une propriété protégée `primaryKey` sur votre modèle pour spécifier une colonne différente qui sert de clé primaire à votre modèle :"
   ]
  },
  {
   "cell_type": "code",
   "execution_count": null,
   "id": "04845fbf",
   "metadata": {},
   "outputs": [],
   "source": [
    "%%php\n",
    "\n",
    "/**\n",
    " * @var string\n",
    " */\n",
    "protected $primaryKey = 'productCode' ;"
   ]
  },
  {
   "cell_type": "markdown",
   "id": "94df2a7e",
   "metadata": {},
   "source": [
    "De plus, Eloquent suppose que la clé primaire est une valeur entière incrémentale, ce qui signifie qu'Eloquent va automatiquement convertir la clé primaire en un entier. Si vous souhaitez utiliser une clé primaire non incrémentale ou non numérique, vous devez définir une propriété publique `incrementing` sur votre modèle qui est définie à `false`. i la clé primaire de votre modèle n'est pas un nombre entier, vous devez définir une propriété protégée $keyType sur votre modèle. Cette propriété doit avoir une valeur de chaîne de caractères."
   ]
  },
  {
   "cell_type": "code",
   "execution_count": null,
   "id": "addbd2b5",
   "metadata": {},
   "outputs": [],
   "source": [
    "%%php\n",
    "\n",
    "/**\n",
    " * @var bool\n",
    " */\n",
    "public $incrementing = false ;\n",
    "\n",
    "/**\n",
    " * @var string\n",
    " */\n",
    "protected $keyType = 'string' ;\n"
   ]
  },
  {
   "cell_type": "markdown",
   "id": "69bff089",
   "metadata": {},
   "source": [
    "##### Clés UUID et ULID\n",
    "\n",
    "Au lieu d'utiliser des entiers auto-incrémentés comme clés primaires de votre modèle Eloquent, vous pouvez choisir d'utiliser des UUIDs. Les UUID sont des identifiants alphanumériques universellement uniques de 36 caractères.\n",
    "\n",
    "Si vous souhaitez qu'un modèle utilise une clé UUID au lieu d'une clé entière à incrémentation automatique, vous pouvez utiliser le trait `Illuminate\\Database\\Eloquent\\Concerns\\HasUuids` sur le modèle. Bien entendu, vous devez vous assurer que le modèle possède une colonne de clé primaire équivalente à UUID :"
   ]
  },
  {
   "cell_type": "code",
   "execution_count": null,
   "id": "ef52a3fc",
   "metadata": {},
   "outputs": [],
   "source": [
    "%%php\n",
    "\n",
    "use Illuminate\\Database\\Eloquent\\Concerns\\HasUuids ;\n",
    "use IlluminateDatabase\\Eloquent\\Model ;\n",
    " \n",
    "class Article extends Model\n",
    "{\n",
    "    use HasUuids ;\n",
    " \n",
    "    // ...\n",
    "}\n",
    " \n",
    "$article = Article::create(['title' => 'Traveling to Europe']) ;\n",
    " \n",
    "$article->id ; // \" 8f8e8478-9035-4d23-b9a7-62f4d2612ce5 \""
   ]
  },
  {
   "cell_type": "markdown",
   "id": "baf12dfd",
   "metadata": {},
   "source": [
    "Par défaut, le trait HasUuids génère des UUID \"ordonnés\" pour vos modèles. Ces UUID sont plus efficaces pour le stockage dans des bases de données indexées car ils peuvent être triés lexicographiquement.\n",
    "\n",
    "Vous pouvez remplacer le processus de génération des UUID pour un modèle donné en définissant une méthode `newUniqueId` sur le modèle. En outre, vous pouvez préciser quelles colonnes doivent recevoir des UUID en définissant une méthode `uniqueIds` sur le modèle :"
   ]
  },
  {
   "cell_type": "code",
   "execution_count": null,
   "id": "5e51fff3",
   "metadata": {},
   "outputs": [],
   "source": [
    "%%php\n",
    "\n",
    "use Ramsey\\Uuid\\Uuid ;\n",
    " \n",
    "/**\n",
    " * Génère un nouvel UUID pour le modèle.\n",
    " *\n",
    " * @return string\n",
    " */\n",
    "public function newUniqueId()\n",
    "{\n",
    "    return (string) Uuid::uuid4() ;\n",
    "}\n",
    " \n",
    "/**\n",
    " * Obtenez les colonnes qui doivent recevoir un identifiant unique.\n",
    " *\n",
    " * @return array\n",
    " */\n",
    "public function uniqueIds()\n",
    "{\n",
    "    return ['id', 'discount_code'] ;\n",
    "}"
   ]
  },
  {
   "cell_type": "markdown",
   "id": "983dad8b",
   "metadata": {},
   "source": [
    "Si vous le souhaitez, vous pouvez choisir d'utiliser des \"ULID\" au lieu des UUID. Les ULID sont similaires aux UUID, mais ils ne comportent que 26 caractères. Comme les UUID ordonnés, les ULID peuvent être triés lexicographiquement pour une indexation efficace de la base de données. Pour utiliser les ULID, vous devez utiliser le trait Illuminate\\Database\\Eloquent\\Concerns\\HasUlids sur votre modèle. Vous devez également vous assurer que le modèle possède une colonne de clé primaire équivalente aux ULID :"
   ]
  },
  {
   "cell_type": "code",
   "execution_count": null,
   "id": "0eadf9dc",
   "metadata": {},
   "outputs": [],
   "source": [
    "%%php\n",
    "\n",
    "use IlluminateDatabase\\Eloquent\\Concerns\\HasUlids ;\n",
    "use Illuminate\\Database\\Eloquent\\Model ;\n",
    " \n",
    "class Article extends Model\n",
    "{\n",
    "    use HasUlids ;\n",
    " \n",
    "    // ...\n",
    "}\n",
    " \n",
    "$article = Article::create(['title' => 'Traveling to Asia']) ;\n",
    " \n",
    "$article->id ; // \"01gd4d3tgrrfqeda94gdbtdk5c\""
   ]
  },
  {
   "cell_type": "markdown",
   "id": "2e9f098c",
   "metadata": {},
   "source": [
    "#### Horodatage\n",
    "\n",
    "Par défaut, Eloquent s'attend à ce que les colonnes created_at et updated_at existent sur la table de base de données correspondante de votre modèle. Eloquent définit automatiquement les valeurs de ces colonnes lorsque les modèles sont créés ou mis à jour. Si vous ne voulez pas que ces colonnes soient automatiquement gérées par Eloquent, vous devez définir une propriété $timestamps sur votre modèle avec une valeur de false :"
   ]
  },
  {
   "cell_type": "code",
   "execution_count": null,
   "id": "b16c3fc7",
   "metadata": {},
   "outputs": [],
   "source": [
    "%%php\n",
    "\n",
    "/**\n",
    " * @var bool\n",
    " */\n",
    "public $timestamps = false ;"
   ]
  },
  {
   "cell_type": "markdown",
   "id": "8225007a",
   "metadata": {},
   "source": [
    "Si vous devez personnaliser le format des horodatages de votre modèle, définissez la propriété `dateFormat` sur votre modèle. Cette propriété détermine la façon dont les attributs de date sont stockés dans la base de données, ainsi que leur format lorsque le modèle est sérialisé dans un tableau ou JSON :"
   ]
  },
  {
   "cell_type": "code",
   "execution_count": null,
   "id": "8f62384c",
   "metadata": {},
   "outputs": [],
   "source": [
    "%%php\n",
    " \n",
    "/**\n",
    " * @var string\n",
    " */\n",
    "protected $dateFormat = 'U' ;\n"
   ]
  },
  {
   "cell_type": "markdown",
   "id": "bb6c7453",
   "metadata": {},
   "source": [
    "Si vous avez besoin de personnaliser les noms des colonnes utilisées pour stocker les horodatages, vous pouvez définir les constantes CREATED_AT et UPDATED_AT sur votre modèle :"
   ]
  },
  {
   "cell_type": "code",
   "execution_count": null,
   "id": "dceac24b",
   "metadata": {},
   "outputs": [],
   "source": [
    "%%php\n",
    " \n",
    "class Product extends Model\n",
    "{\n",
    "    const CREATED_AT = 'creation_date' ;\n",
    "    const UPDATED_AT = 'updated_date' ;\n",
    "}"
   ]
  },
  {
   "cell_type": "markdown",
   "id": "ef3d1b75",
   "metadata": {},
   "source": [
    "Si vous souhaitez effectuer des opérations sur le modèle sans que l'horodatage de la date de mise à jour du modèle ne soit modifié, vous pouvez opérer sur le modèle dans une fermeture donnée à la méthode withoutTimestamps :"
   ]
  },
  {
   "cell_type": "code",
   "execution_count": null,
   "id": "ad2650b3",
   "metadata": {},
   "outputs": [],
   "source": [
    "%%php\n",
    "\n",
    "Model::withoutTimestamps(fn () => $post->increment(['reads'])) ;"
   ]
  },
  {
   "cell_type": "markdown",
   "id": "b6428ea5",
   "metadata": {},
   "source": [
    "#### Connexion aux bases de données\n",
    "\n",
    "Par défaut, tous les modèles Eloquent utiliseront la connexion de base de données par défaut qui est configurée pour votre application. Si vous souhaitez spécifier une connexion différente qui doit être utilisée lors de l'interaction avec un modèle particulier, vous devez définir une propriété $connection sur le modèle :"
   ]
  },
  {
   "cell_type": "code",
   "execution_count": null,
   "id": "5a44c3c3",
   "metadata": {},
   "outputs": [],
   "source": [
    "%%php\n",
    " \n",
    "namespace App\\Models ;\n",
    " \n",
    "use Illuminate\\Database\\Eloquent\\Model ;\n",
    " \n",
    "class Product extends Model\n",
    "{\n",
    "    /**\n",
    "     * La connexion à la base de données qui doit être utilisée par le modèle.\n",
    "     *\n",
    "     * @var string\n",
    "     */\n",
    "    protected $connection = 'sqlite' ;\n",
    "}"
   ]
  },
  {
   "cell_type": "markdown",
   "id": "480b064f",
   "metadata": {},
   "source": [
    "#### Valeurs d'attribut par défaut\n",
    "\n",
    "Par défaut, une instance de modèle nouvellement instanciée ne contient aucune valeur d'attribut. Si vous souhaitez définir les valeurs par défaut de certains attributs de votre modèle, vous pouvez définir une propriété $attributes sur votre modèle. Les valeurs d'attributs placées dans le tableau $attributes doivent être dans leur format brut, \"stockable\", comme si elles venaient d'être lues dans la base de données :"
   ]
  },
  {
   "cell_type": "code",
   "execution_count": null,
   "id": "82e532ae",
   "metadata": {},
   "outputs": [],
   "source": [
    "%%php\n",
    " \n",
    "namespace App\\Models ;\n",
    " \n",
    "use Illuminate\\Database\\Eloquent\\Model ;\n",
    " \n",
    "class product extends Model\n",
    "{\n",
    "    /**\n",
    "     * Les valeurs par défaut du modèle pour les attributs.\n",
    "     *\n",
    "     * @var array\n",
    "     */\n",
    "    protected $attributes = [\n",
    "        'scale' => '1:10',\n",
    "        'productVendor' => 'Heller',\n",
    "    ] ;\n",
    "}"
   ]
  },
  {
   "cell_type": "markdown",
   "id": "1e9056c2",
   "metadata": {},
   "source": [
    "#### Configuration de la rigueur d'Eloquent\n",
    "\n",
    "Laravel offre plusieurs méthodes qui vous permettent de configurer le comportement et la \"sévérité\" d'Eloquent dans une variété de situations.\n",
    "\n",
    "Premièrement, la méthode `preventLazyLoading` accepte un argument booléen facultatif qui indique si le chargement paresseux doit être empêché. Par exemple, vous pouvez souhaiter désactiver le chargement paresseux uniquement dans les environnements de non-production afin que votre environnement de production continue à fonctionner normalement même si une relation chargée paresseusement est accidentellement présente dans le code de production. Typiquement, cette méthode devrait être invoquée dans la méthode de démarrage de l'AppServiceProvider de votre application :"
   ]
  },
  {
   "cell_type": "code",
   "execution_count": null,
   "id": "f70b26d2",
   "metadata": {},
   "outputs": [],
   "source": [
    "%%php \n",
    "\n",
    "use Illuminate\\Database\\Eloquent\\Model ;\n",
    " \n",
    "/**\n",
    " * Bootstrap de tout service d'application.\n",
    " *\n",
    " * @return void\n",
    " */\n",
    "public function boot()\n",
    "{\n",
    "    Model::preventLazyLoading( ! $this->app->isProduction()) ;\n",
    "}"
   ]
  },
  {
   "cell_type": "markdown",
   "id": "a8a2beeb",
   "metadata": {},
   "source": [
    "Vous pouvez également demander à Laravel de lever une exception lors de la tentative de remplissage d'un attribut non remplissable en invoquant la méthode preventSilentlyDiscardingAttributes. Cela permet d'éviter des erreurs inattendues au cours du développement local lorsque l'on tente de définir un attribut qui n'a pas été ajouté au tableau remplissable du modèle :"
   ]
  },
  {
   "cell_type": "code",
   "execution_count": null,
   "id": "79684780",
   "metadata": {},
   "outputs": [],
   "source": [
    "%%php\n",
    "\n",
    "Model::preventSilentlyDiscardingAttributes( ! $this->app->isProduction()) ;"
   ]
  },
  {
   "cell_type": "markdown",
   "id": "ef46fdcc",
   "metadata": {},
   "source": [
    "Enfin, vous pouvez demander à Eloquent de lever une exception si vous tentez d'accéder à un attribut sur un modèle alors que cet attribut n'a pas été récupéré dans la base de données ou que l'attribut n'existe pas. Par exemple, cela peut se produire lorsque vous oubliez d'ajouter un attribut à la clause de sélection d'une requête Eloquent :"
   ]
  },
  {
   "cell_type": "code",
   "execution_count": null,
   "id": "9f5715bd",
   "metadata": {},
   "outputs": [],
   "source": [
    "%%php\n",
    "\n",
    "Model::preventAccessingMissingAttributes( ! $this->app->isProduction()) ;"
   ]
  },
  {
   "cell_type": "markdown",
   "id": "b815aed7",
   "metadata": {},
   "source": [
    "##### Activation du \"mode strict\" d'Eloquent\n",
    "\n",
    "Pour des raisons pratiques, vous pouvez activer les trois méthodes mentionnées ci-dessus en invoquant simplement la méthode `shouldBeStrict` :"
   ]
  },
  {
   "cell_type": "code",
   "execution_count": null,
   "id": "52190749",
   "metadata": {},
   "outputs": [],
   "source": [
    "%%php \n",
    "\n",
    "Model::shouldBeStrict( ! $this->app->isProduction()) ;"
   ]
  },
  {
   "cell_type": "markdown",
   "id": "3da58f27",
   "metadata": {},
   "source": [
    "### Propriétés du modèle\n",
    "\n",
    "Jusqu'à présent, nous n'avons parlé de la classe de modèle que sous l'angle de la configuration.\n",
    "\n",
    "En effet, contrairement à `Symfony`, les propriétés ne sont pas définies _dans_ la classe d'entité (ou de modèle). Elles le sont dans la classe de migration associée à l'entité. C'est pourquoi vous aurez toujours intérêt à créer les classes de modèle avec l'option `--migration` qui crée la classe de migration.\n",
    "\n",
    "En vérité, la solution la plus simple et la plus sûre est de créer la classe de modèle avec tous ses satellites :"
   ]
  },
  {
   "cell_type": "code",
   "execution_count": null,
   "id": "b9f6266d",
   "metadata": {},
   "outputs": [],
   "source": [
    "%%bash\n",
    "\n",
    "./artisan create:model Product --all"
   ]
  },
  {
   "cell_type": "markdown",
   "id": "385a4ae6",
   "metadata": {},
   "source": [
    "## Associations entre entités du modèle\n",
    "\n",
    "### Introduction\n",
    "\n",
    "Contrairement aux propriétés, les associations sont décrites dans la classe de modèle.\n",
    "\n",
    "### One-to-one\n",
    "\n",
    "L'association **OneToOne** est sans doute la moins fréquente des associations. Parmi les exemples couramment évoqués, on pense à la relation entre client et panier sur un site de commerce en ligne.\n",
    "\n",
    "Ce type d'association est souvent éliminé au profit de la fusion des deux tables, dans une base de données relationnelle, mais elle peut servir à indiquer des dépendances optionnelles (ou « _non rigides_ »). Je peux avoir un profil client sur un site sans pour autant acheter quelque chose.\n",
    "\n",
    "Dans ce cas, Laravel prévoit une méthode `hasOne`."
   ]
  },
  {
   "cell_type": "code",
   "execution_count": null,
   "id": "9fc5259c",
   "metadata": {},
   "outputs": [],
   "source": [
    "namespace App\\Models;\n",
    " \n",
    "use Illuminate\\Database\\Eloquent\\Model;\n",
    "use Illuminate\\Database\\Eloquent\\Relations\\HasOne;\n",
    " \n",
    "class User extends Model\n",
    "{\n",
    "    /**\n",
    "     * Un panier associé à un utilisateur\n",
    "     */\n",
    "    public function phone(): HasOne\n",
    "    {\n",
    "        return $this->hasOne(Cart::class);\n",
    "    }\n",
    "}"
   ]
  },
  {
   "cell_type": "markdown",
   "id": "9188b5f0",
   "metadata": {},
   "source": [
    "On notera que si l'association est spécifée, les noms de propriétés correspondantes ne le sont pas. Par défaut, `Laravel` les déduira du contexte. Ici par exemple, il prendra pour nom de colonne support de la clef étrangère `cart_id` et suppposera que sa cible est une colonne `id` (clef primaire) de la table `cart`.\n",
    "\n",
    "Mais naturellement, nous pouvons modifier ce comportement par défaut en ajoutant les noms de colonnes dans la définition.\n",
    "\n",
    "Autre point, chaque association peut avoir une association inverse, qui n'est dependant pas obligatoire. Dans ce cas, nous aurions à définir dans le modèle `Cart` une fonction `user()` avec la méthode `belongsTo()`.\n",
    "\n",
    "Nous voyons au passage que les assocviations ne sont pas symétriques, véritablement, et qu'il y a toujours un sens privilégié qui peut avoir de l'importance."
   ]
  },
  {
   "cell_type": "code",
   "execution_count": null,
   "id": "813ebe40",
   "metadata": {},
   "outputs": [],
   "source": [
    "namespace App\\Models;\n",
    " \n",
    "use Illuminate\\Database\\Eloquent\\Model;\n",
    "use Illuminate\\Database\\Eloquent\\Relations\\BelongsTo;\n",
    " \n",
    "class Cart extends Model\n",
    "{\n",
    "    /**\n",
    "     * Un utilisateur associé à un panier\n",
    "     */\n",
    "    public function user(): BelongsTo\n",
    "    {\n",
    "        return $this->belongsTo(Cart::class);\n",
    "    }\n",
    "}"
   ]
  },
  {
   "cell_type": "markdown",
   "id": "8c98334c",
   "metadata": {},
   "source": [
    "### One-To-Many\n",
    "\n",
    "L'association **OneToMany** définit l'association d'une liste d'objet à un unique objet. Dans les spécifications UML, cette association prend deux formes possibles : **agrégation** ou **composition**.\n",
    "\n",
    "> **Note* La composition est une association plus forte puisqu'elle signifie que le objets sont _intrinsèquement_ liés entre eux et que leurexistence séparée n'aurait pas de sens. Ce qui veut dire concrètemeent que supprimer l'un entraînerait de supprimer les autres.\n",
    "\n",
    "Pour faire cela, `Laravel` propose une méthode `hasMany`, qui est l'association _directrice_.\n",
    "\n",
    "> **Note** On remarquera que le choix ets inverse de celui fait par `Doctrine`\n",
    "\n",
    "Typiquement, nos produits sont classés en « types de produits » :"
   ]
  },
  {
   "cell_type": "code",
   "execution_count": null,
   "id": "49c072e9",
   "metadata": {},
   "outputs": [],
   "source": [
    "%%php \n",
    "\n",
    "namespace App\\Models;\n",
    " \n",
    "use Illuminate\\Database\\Eloquent\\Model;\n",
    "use Illuminate\\Database\\Eloquent\\Relations\\HasMany;\n",
    " \n",
    "class ProductType extends Model\n",
    "{\n",
    "    /**\n",
    "     * Un panier associé à un utilisateur\n",
    "     */\n",
    "    public function products(): HasMany\n",
    "    {\n",
    "        return $this->hasMany(Product::class);\n",
    "    }\n",
    "}"
   ]
  },
  {
   "cell_type": "markdown",
   "id": "f1457da8",
   "metadata": {},
   "source": [
    "De la même manière que précédemment, lassociation invers, **ManyToOne** sera implémentée par la méthode `belongsTo()`.\n",
    "\n",
    "#### Méthodes avancées\n",
    "\n",
    "Les classes de modèle permettent aussi d'implémenter des accesseurs qui nous donneront accès à _un_ objet privilégié parmi les « _many_ ». Grâce à cela,, nous aurons l'impression d'une association OnrToOne implicite.\n",
    "\n",
    "Quelques exemples :"
   ]
  },
  {
   "cell_type": "code",
   "execution_count": null,
   "id": "73458aae",
   "metadata": {},
   "outputs": [],
   "source": [
    "// Le dernier produit enregistré de cette catégorie\n",
    "public function latestProduct(): HasOne\n",
    "{\n",
    "    return $this->hasOne(Product::class)->latestOfMany();\n",
    "}\n",
    "\n",
    "// Le plus ancien produit enregistré de cette catégorie\n",
    "public function latestProduct(): HasOne\n",
    "{\n",
    "    return $this->hasOne(Product::class)->oldestOfMany();\n",
    "}\n",
    "\n",
    "// Le produit de la catégorie dont le prix est le plus petit\n",
    "public function latestProduct(): HasOne\n",
    "{\n",
    "    return $this->hasOne(Product::class)->ofMany('price', min);\n",
    "}\n",
    "\n",
    "// Le dernier produit enregistré de cette catégorie\n",
    "public function latestProduct(): HasOne\n",
    "{\n",
    "    return $this->hasOne(Product::class)->latestOfMany();\n",
    "}\n",
    "\n",
    "// Le produit le plus cher de cette catégorie qui soit actuellement en stock\n",
    "public function currentPricing(): HasOne\n",
    "{\n",
    "    return $this->hasOne(Product::class)->ofMany([\n",
    "        'price' => 'max',\n",
    "    ], function (Builder $query) {\n",
    "        $query->where('quantityInStock', '>', 0);\n",
    "    });\n",
    "}"
   ]
  },
  {
   "cell_type": "markdown",
   "id": "3c800553",
   "metadata": {},
   "source": [
    "Les modèles `Laravel`savent aussi gérer des chaînes d'association.\n",
    "\n",
    "Dans notre cas, par exemple, si un `Product` est lié à une `Producer`, alors il est possible d'implémenter une méthode dans la classe `Productype` quinous donne directement accès au producteur."
   ]
  },
  {
   "cell_type": "markdown",
   "id": "658ba6ac",
   "metadata": {},
   "source": [
    "### Many-to-Many\n",
    "\n",
    "L'association **ManyToMany** est la plus générale puisqu'elle permet es associations multiples réciproques. Le vcas typique es la notion d'ami. Chaque personne a plusieurs amis, qui ont eux-mêmes plusieurs amis.\n",
    "\n",
    "Ou dans notre cas, un utilisateur peut avoir plusieurs rôles et un rôle peut être tenu par plusieurs utilisateurs.\n",
    "\n",
    "`Laravel` fournit pour cela une méthode `belongsToMany()` qui, cette fois-ci est symétrique."
   ]
  },
  {
   "cell_type": "code",
   "execution_count": null,
   "id": "81c960be",
   "metadata": {},
   "outputs": [],
   "source": [
    "namespace App\\Models;\n",
    " \n",
    "use Illuminate\\Database\\Eloquent\\Model;\n",
    "use Illuminate\\Database\\Eloquent\\Relations\\BelongsToMany;\n",
    " \n",
    "class User extends Model\n",
    "{\n",
    "    /**\n",
    "     * The roles that belong to the user.\n",
    "     */\n",
    "    public function roles(): BelongsToMany\n",
    "    {\n",
    "        return $this->belongsToMany(Role::class);\n",
    "    }\n",
    "}"
   ]
  },
  {
   "cell_type": "markdown",
   "id": "47800476",
   "metadata": {},
   "source": [
    "Généralement, nous créerons la méthode en miroir dans le modèle `Role`.\n",
    "\n",
    "#### Table de liaison\n",
    "\n",
    "Comme `SQL` ne sait pas gérer ce genre d'association, il faut passer par une table intermédiaire, appelée table d jointure ou table de liaison.\n",
    "\n",
    "C'est `Laravel` qui s'en occupe et créera automatiquement une table (ici `role_user`) contenant deux clefs étrangères vers les tables associées. \n",
    "\n",
    "> **Note** Cette table a aussi des colonnes de datation, ce qui permet par la suite de faire des requêtes prenant en compte cette information."
   ]
  },
  {
   "cell_type": "markdown",
   "id": "5067da0c",
   "metadata": {},
   "source": [
    "## Associations polymorphes\n",
    "\n",
    "Dans certains cas, les objets associés à un objet donné **ne sont pas du même type**.\n",
    "\n",
    "> **Note** `Doctrine` résout ce problème en implémentant un héritage entre les entités, au même titre que dans la POO\n",
    "\n",
    "`Laravel` adopte comme solution de changer de type d'association.\n",
    "\n",
    "Par exemple, pour **OneToOne**, la méthode `hasOne()` est remplacée par les méthodes `morphTo()` et `morphOne()`. A titre d'exemple, si nous avons une banque d'image, chacune d'elles pouvant être relative à un produit ou à une personne (exclusivement, c'est important ici), nous pourrions avoir la structure de classes suvante :"
   ]
  },
  {
   "cell_type": "code",
   "execution_count": null,
   "id": "50d611da",
   "metadata": {},
   "outputs": [],
   "source": [
    "%%php\n",
    "\n",
    "namespace App\\Models;\n",
    " \n",
    "use Illuminate\\Database\\Eloquent\\Model;\n",
    "use Illuminate\\Database\\Eloquent\\Relations\\MorphTo;\n",
    " \n",
    "class Image extends Model\n",
    "{\n",
    "    /**\n",
    "     * Associer un produit ou un utilisateut\n",
    "     */\n",
    "    public function imageable(): MorphTo\n",
    "    {\n",
    "        return $this->morphTo();\n",
    "    }\n",
    "}\n",
    " \n",
    "use Illuminate\\Database\\Eloquent\\Model;\n",
    "use Illuminate\\Database\\Eloquent\\Relations\\MorphOne;\n",
    " \n",
    "class Product extends Model\n",
    "{\n",
    "    /**\n",
    "     * Associer une image à un produit\n",
    "     */\n",
    "    public function image(): MorphOne\n",
    "    {\n",
    "        return $this->morphOne(Image::class, 'imageable');\n",
    "    }\n",
    "}\n",
    " \n",
    "use Illuminate\\Database\\Eloquent\\Model;\n",
    "use Illuminate\\Database\\Eloquent\\Relations\\MorphOne;\n",
    " \n",
    "class User extends Model\n",
    "{\n",
    "    /**\n",
    "     * Associer une image à un utilisateur.\n",
    "     */\n",
    "    public function image(): MorphOne\n",
    "    {\n",
    "        return $this->morphOne(Image::class, 'imageable');\n",
    "    }\n",
    "}"
   ]
  },
  {
   "cell_type": "markdown",
   "id": "8994b1dc",
   "metadata": {},
   "source": [
    "- Pour les associations **OneToMany**, les équivalents sont `morphTo()`et `morphMany()`\n",
    "- Pour les association **ManytoMany**,  les équivalents sont `morphToMany()`et `morphByMany()`"
   ]
  },
  {
   "cell_type": "markdown",
   "id": "05a92052",
   "metadata": {},
   "source": [
    "## Requêtes simples\n",
    "\n",
    "Une fois que vous avez créé un modèle et sa table de base de données associée, vous êtes prêt à commencer à extraire des données de votre base de données. Vous pouvez considérer chaque modèle Eloquent comme un puissant générateur de requêtes vous permettant d'interroger couramment la table de base de données associée au modèle. La méthode all du modèle récupère tous les enregistrements de la table de base de données associée au modèle :"
   ]
  },
  {
   "cell_type": "code",
   "execution_count": null,
   "id": "8dddd657",
   "metadata": {},
   "outputs": [],
   "source": [
    "%%php\n",
    "\n",
    "use App\\Models\\Product ;\n",
    " \n",
    "foreach (Product::all() as $product) {\n",
    "    echo $flight->name ;\n",
    "}"
   ]
  },
  {
   "cell_type": "markdown",
   "id": "d8027dce",
   "metadata": {},
   "source": [
    "#### Création de requêtes\n",
    "\n",
    "La méthode Eloquent `all` renvoie tous les résultats dans le tableau du modèle. Cependant, puisque chaque modèle Eloquent sert de constructeur de requêtes, vous pouvez ajouter des contraintes supplémentaires aux requêtes et ensuite invoquer la méthode get pour récupérer les résultats :"
   ]
  },
  {
   "cell_type": "code",
   "execution_count": null,
   "id": "2fc9ca41",
   "metadata": {},
   "outputs": [],
   "source": [
    "%%php\n",
    "\n",
    "$vols = Flight::where('active', 1)\n",
    "               ->orderBy('name')\n",
    "               ->take(10)\n",
    "               ->get() ;"
   ]
  }
 ],
 "metadata": {
  "kernelspec": {
   "display_name": "Python 3 (ipykernel)",
   "language": "python",
   "name": "python3"
  },
  "language_info": {
   "codemirror_mode": {
    "name": "ipython",
    "version": 3
   },
   "file_extension": ".py",
   "mimetype": "text/x-python",
   "name": "python",
   "nbconvert_exporter": "python",
   "pygments_lexer": "ipython3",
   "version": "3.8.8"
  }
 },
 "nbformat": 4,
 "nbformat_minor": 5
}
