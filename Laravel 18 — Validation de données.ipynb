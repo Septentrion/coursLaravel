{
 "cells": [
  {
   "cell_type": "markdown",
   "id": "1f3c9943",
   "metadata": {},
   "source": [
    "# Validation de données"
   ]
  },
  {
   "cell_type": "markdown",
   "id": "65b6e394",
   "metadata": {},
   "source": [
    "## Introduction"
   ]
  },
  {
   "cell_type": "markdown",
   "id": "5d5da8f2",
   "metadata": {},
   "source": [
    "## Mise en œuvre\n",
    "\n",
    "Lorsque l'on utilise la stratégie native de `Laravel` (cf. 'Formulaires'), la validation de données se fait dans le contrôleur.\n",
    "\n",
    "Admettons que nous recevions un formulaire pour un nouveau produit, dans la classe `ProductContrpller`, via une méthode `store` :"
   ]
  },
  {
   "cell_type": "code",
   "execution_count": null,
   "id": "1bf02b72",
   "metadata": {},
   "outputs": [],
   "source": [
    "%%php\n",
    "\n",
    "class ProductController extends Controller\n",
    "{\n",
    "   /**\n",
    "    * Store a newly created resource in storage.\n",
    "    *\n",
    "    * @param  \\App\\Http\\Requests\\StoreProductRequest $request\n",
    "    */\n",
    "    public function store(StoreProductRequest $request): RedirectResponse\n",
    "    {\n",
    "        // Création d'un nouveau produit\n",
    "        $product = new Product();\n",
    "        // fusion de l'objet avec les données du formulaire\n",
    "        $product->fill($request->all());\n",
    "        // Ecriture dans la base de données\n",
    "        $procduct->save();\n",
    "        \n",
    "        return redirect(...)\n",
    "        \n",
    "    }\n",
    "}"
   ]
  },
  {
   "cell_type": "markdown",
   "id": "314e7f0b",
   "metadata": {},
   "source": [
    "Si nous voulons insérer la procédure de validation, nous devons faire appel à a méthode `validate`de la requête :"
   ]
  },
  {
   "cell_type": "code",
   "execution_count": null,
   "id": "b9514d53",
   "metadata": {},
   "outputs": [],
   "source": [
    "%%php\n",
    "\n",
    "public function store(StoreProductRequest $request): RedirectResponse\n",
    "{\n",
    "    $product = new Product();\n",
    "    // Validation\n",
    "    if ($request->validate($rules)) {\n",
    "        // Suite du code...\n",
    "    };\n",
    "}"
   ]
  },
  {
   "cell_type": "markdown",
   "id": "6dbc218d",
   "metadata": {},
   "source": [
    "La variable `rules`contient toutes les contraintes de validité et peut s'écrire sous deux formes :\n",
    "\n",
    "1. linéaire: "
   ]
  },
  {
   "cell_type": "code",
   "execution_count": null,
   "id": "cffb467b",
   "metadata": {},
   "outputs": [],
   "source": [
    "%%php\n",
    "\n",
    "$rules = [\n",
    "    'title' => 'required|unique:posts|max:255'\n",
    "];"
   ]
  },
  {
   "cell_type": "markdown",
   "id": "a34711bc",
   "metadata": {},
   "source": [
    "2 tableau :"
   ]
  },
  {
   "cell_type": "code",
   "execution_count": null,
   "id": "c87f33c7",
   "metadata": {},
   "outputs": [],
   "source": [
    "%%php\n",
    "\n",
    "$rules = [\n",
    "    'title' => ['required', 'unique:posts', 'max:255']\n",
    "];"
   ]
  },
  {
   "cell_type": "markdown",
   "id": "ac5621cc",
   "metadata": {},
   "source": [
    "L'ensemble des règles de validité est expliqué dans la [documentation de `Laravel`](https://laravel.com/docs/10.x/validation#available-validation-rules).\n",
    "\n",
    "### Traitement des erreurs\n",
    "\n",
    "Si certaines contraintes ne sont pas vérifiées, nous voulons faire trois choses :\n",
    "- Remplir le formulaire avec des données précedemment entrées\n",
    "- Renvoyer le formulaire à l'utilisateur\n",
    "- Afficher les erreurs\n",
    "\n",
    "#### Remplir à nouveau le formulaire\n",
    "\n",
    "Nous pouvons avoir recours à la fonction utilitaire `old` qui race les données, qui ont été sauvegardées dans la session."
   ]
  },
  {
   "cell_type": "code",
   "execution_count": null,
   "id": "d0a5f7fe",
   "metadata": {},
   "outputs": [],
   "source": [
    "%%blade\n",
    "\n",
    "<input type=\"text\" name=\"title\" value=\"{{ old('title') }}\" />"
   ]
  },
  {
   "cell_type": "markdown",
   "id": "310becde",
   "metadata": {},
   "source": [
    "#### Renvoyer le formulaire\n",
    "\n",
    "Ici nous pouvons simplement réafficher la vue"
   ]
  },
  {
   "cell_type": "code",
   "execution_count": null,
   "id": "fa500348",
   "metadata": {},
   "outputs": [],
   "source": [
    "%%php\n",
    "\n",
    "return view('product.new', [])"
   ]
  },
  {
   "cell_type": "markdown",
   "id": "264a8c2a",
   "metadata": {},
   "source": [
    "#### Afficher les erreurs\n",
    "\n",
    "Les erreurs peuvent être récupérées via la directive `@errors`"
   ]
  },
  {
   "cell_type": "code",
   "execution_count": null,
   "id": "9cf01b29",
   "metadata": {},
   "outputs": [],
   "source": [
    "%%blade\n",
    "\n",
    "<input type=\"text\" name=\"title\" value=\"{{ old('title') }}\" @error('title') class=\"is-invalid\" @enderror />\n",
    "\n",
    "@error('title')\n",
    "    <div class=\"alert alert-danger\">{{ $message }}</div>\n",
    "@enderror\n",
    "\n"
   ]
  },
  {
   "cell_type": "markdown",
   "id": "a91eb958",
   "metadata": {},
   "source": [
    "On peut aussi utiliser une variable globale du nom de `errors`."
   ]
  },
  {
   "cell_type": "markdown",
   "id": "65b9fefc",
   "metadata": {},
   "source": [
    "## Utiliser des classes de requêtes\n",
    "\n",
    "Dans la logique de `Laravel`, chaque classe d'entité devrait être associée à une « _classe de requêtes_ ».\n",
    "\n",
    "C'es ce que nous avons fait dans le premier exemple, et vous pouvez vous reporter au document sur les modèles ([Modèles]())\n",
    "\n",
    "Cette classe prend en charge la validation au travers de la méthode `rules`. Le corps de cette méthode rend exactement le même tableau que celui que nous avons défini précédemment."
   ]
  },
  {
   "cell_type": "code",
   "execution_count": null,
   "id": "376d7c67",
   "metadata": {},
   "outputs": [],
   "source": [
    "%%php\n",
    "\n",
    "class StoreAuthorRequest extends FormRequest\n",
    "{\n",
    "    public function rules()\n",
    "    {\n",
    "        return [\n",
    "            'title' => 'required|unique:posts|max:255'];\n",
    "     }\n",
    "}"
   ]
  },
  {
   "cell_type": "markdown",
   "id": "02c68e98",
   "metadata": {},
   "source": [
    "Les classes de requêtes fournissent plusieurs méthodes qui sont très utiles :\n",
    "\n",
    "1. `fails` : indique quela validation du formulaire a échoué quelque part :"
   ]
  },
  {
   "cell_type": "code",
   "execution_count": null,
   "id": "118e9641",
   "metadata": {},
   "outputs": [],
   "source": [
    "%%php\n",
    "\n",
    "if ($request->fails() {\n",
    "    return view('product.new', ...)\n",
    "}"
   ]
  },
  {
   "cell_type": "markdown",
   "id": "d59e2b23",
   "metadata": {},
   "source": [
    "2. `validated` : renvoie un tableau de toutes les données validées"
   ]
  },
  {
   "cell_type": "code",
   "execution_count": null,
   "id": "fe3013e8",
   "metadata": {},
   "outputs": [],
   "source": [
    "%%php\n",
    "\n",
    "$safe = $request->validated();"
   ]
  },
  {
   "cell_type": "markdown",
   "id": "22bb05c4",
   "metadata": {},
   "source": [
    "3. `safe` : renvoue un itérateur des données validées, qui peut être filtré avec `only` ou `except` (voire `all`), ce qui marque la différence avec la méthode précedente."
   ]
  },
  {
   "cell_type": "code",
   "execution_count": null,
   "id": "f7e1644f",
   "metadata": {},
   "outputs": [],
   "source": [
    "%%php\n",
    "\n",
    "$safe = $request->safe()->only(['title', 'price']);"
   ]
  },
  {
   "cell_type": "markdown",
   "id": "760526f0",
   "metadata": {},
   "source": []
  }
 ],
 "metadata": {
  "kernelspec": {
   "display_name": "Python 3 (ipykernel)",
   "language": "python",
   "name": "python3"
  },
  "language_info": {
   "codemirror_mode": {
    "name": "ipython",
    "version": 3
   },
   "file_extension": ".py",
   "mimetype": "text/x-python",
   "name": "python",
   "nbconvert_exporter": "python",
   "pygments_lexer": "ipython3",
   "version": "3.8.8"
  }
 },
 "nbformat": 4,
 "nbformat_minor": 5
}
