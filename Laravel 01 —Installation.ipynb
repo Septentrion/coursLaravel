{
 "cells": [
  {
   "cell_type": "markdown",
   "id": "157ff261",
   "metadata": {},
   "source": [
    "# Laravel 1 : Installation\n",
    "\n",
    "\n",
    "## Pré-requis\n",
    "\n",
    "### Environnement web\n",
    "\n",
    "Avant de pouvoir utiliser `Laravel`, vous devez avoir installé un environnement d'exécution web, c'est-à-dire globalement :\n",
    "- PHP\n",
    "- un serveur HTTP\n",
    "- un système de gestion de base de données (relationnelle de préférence)\n",
    "\n",
    "Pour cela vous avez plusieurs options.\n",
    "\n",
    "1. Vous pouvez installer nativement les outils nécessaires. En général, cela nécessite maintenant de passer par un **gestionnaire de paquetages** dont les plus répandus sont `apt` (Linux Debian), `homebrew` (Linux, macOS) et `Chocolatey` ou `Scoop` (Windows). Dans ce cas, vous devrez donc installer au préalable le gestionnaire adéquat. L'avantage est évidemment que vous disposez d'un environnement natif et que vous pouvez le configurer à votre guise.\n",
    "2. Vous pouvez également utiliser un environnement pré-configuré, comme MAMP ou XAMPP, qui sont des serveurs complets avec un (petit) tableau de bord. L'avantage de cette solution est que tous les outils sont déjà préparés ; en revanche, vous risquez d'occuper beaucoup de place sur votre disque avec des logiciels inutiles.\n",
    "3. Vous pouvez encore utiliser un conteneur Docker, à condition que vous en trouviez un à votre disposition.\n",
    "\n",
    "### Outils PHP\n",
    "\n",
    "Deuxième phase, vous devez installer un gestionnaire de bibliothèques pour PHP. Le plus courant est `Composer`.\n",
    "\n",
    "`Composer` propose deux services distincts :\n",
    "- Il permet de gérer les dépendances d'un projet vis-à-vis de bibliothèques tierces\n",
    "- Il permet la gestion de l'auto-chargement des classes PHP lors de l'exécution de l'application"
   ]
  },
  {
   "cell_type": "markdown",
   "id": "d6013a90",
   "metadata": {},
   "source": [
    "## Installation de Laravel\n",
    "\n",
    "### La commande `laravel`\n",
    "\n",
    "Dans un premier temps, vous pouvez, même si ce n'est pas requis, installer l'utilitaire en ligne de commande `laravel`. Cet outil permettra par la suite de gérer certains aspects de l'application. Pour cela"
   ]
  },
  {
   "cell_type": "code",
   "execution_count": null,
   "id": "73c63def",
   "metadata": {},
   "outputs": [],
   "source": [
    "%%bash\n",
    "\n",
    "composer global require laravel/installer"
   ]
  },
  {
   "cell_type": "markdown",
   "id": "23365254",
   "metadata": {},
   "source": [
    "En général, `Composer` installera `laravel` dans un sous-dossier de votre compte personnel. Pour l’utiliser, vous devrez donc ajouter ce chemin à votre variable d'environnement système.\n",
    "\n",
    "> - macOS : ~/.composer/vendor/bin\n",
    "> - Windows: %USERPROFILE%\\AppData\\Roaming\\Composer\\vendor\\bin\n",
    "> - Linux : ~ /.config/composer/vendor/bin ou ~/.composer/vendor/bin\n"
   ]
  },
  {
   "cell_type": "markdown",
   "id": "1e1500fa",
   "metadata": {},
   "source": [
    "### Installation de la plate-forme Laravel\n",
    "\n",
    "Arrivé à ce stade, il ne reste plus qu'à installer le « framework » (ou plate-forme de développement).\n",
    "\n",
    "Vous avez deux possibilités :"
   ]
  },
  {
   "cell_type": "code",
   "execution_count": 1,
   "id": "ab804f5d",
   "metadata": {},
   "outputs": [],
   "source": [
    "%%bash\n",
    "\n",
    "# La plus directe en utilisant Composer\n",
    "composer create-project laravel/laravel my_project"
   ]
  },
  {
   "cell_type": "markdown",
   "id": "3cb512e5",
   "metadata": {},
   "source": [
    "`Composer` charge toutes les bibliothèques nécessaires au fonctionnement de Laravel, dans le dossier que vous lui indiquez (ici `my_project`).\n",
    "\n",
    "Vous pouvez éventuellement spécifier une version précise de Laravel :"
   ]
  },
  {
   "cell_type": "code",
   "execution_count": null,
   "id": "f28ae476",
   "metadata": {},
   "outputs": [],
   "source": [
    "%%bash\n",
    "\n",
    "# Installer Laravel 8\n",
    "composer create-project laravel/laravel:^8.0 my_project"
   ]
  },
  {
   "cell_type": "markdown",
   "id": "cbd44c24",
   "metadata": {},
   "source": [
    "Naturellement, vous pouvez également avoir recours à la commande `laravel` :"
   ]
  },
  {
   "cell_type": "code",
   "execution_count": null,
   "id": "b55a1574",
   "metadata": {},
   "outputs": [],
   "source": [
    "%%bash\n",
    "\n",
    "laravel new my_project"
   ]
  },
  {
   "cell_type": "markdown",
   "id": "c133e7b5",
   "metadata": {},
   "source": [
    "Les deux méthodes aboutissent au même résultat.\n",
    "\n",
    "#### Laravel Mix\n",
    "\n",
    "Les ressources web sont maintenant de plus en plus gérées par le biais de « _bundlers_ » (ou compilateurs) qui permettent de partir de codes sources, SCSS pour les feuilles de style, TypeScript pour les scripts JS, et d'engendrer le code optimisé utilisé par l'application.\n",
    "\n",
    "Ces outils sont extrêmement volatiles et sont très susceptibles de changer encore à l'avenir, au gré des innovations techniques et des changements stratégiques.\n",
    "\n",
    "Aujourd'hui, Webpack est l'un des outils les plus couramment employés, et celui que les plates-formes PHP, comme Symfony ou Laravel, ont choisi.\n",
    "\n",
    "> A noter toutefois qu'une nouvelle génération de compilateurs arrive, avec `Svelte`, `Vite` par exemple ou d'autres outils similaires et la montée en puissance du Server Side Rendering.\n",
    "\n",
    "Laravel Mix est une surcouche de Webpack, qui permet de configurer plus facilement la compilatrion des ressources web et de mieux intérer le processus dans Laravel.\n",
    "\n",
    "Pour l'installer, rien de plus simple :"
   ]
  },
  {
   "cell_type": "code",
   "execution_count": null,
   "id": "2e7b9414",
   "metadata": {},
   "outputs": [],
   "source": [
    "%%bash\n",
    "\n",
    "npm init -y\n",
    "npm install laravel-mix --save-dev"
   ]
  },
  {
   "cell_type": "markdown",
   "id": "00b5dd27",
   "metadata": {},
   "source": [
    "Vous verrez apparaître un dossier `node-modules`à la racide l'application"
   ]
  },
  {
   "cell_type": "markdown",
   "id": "2195d2cf",
   "metadata": {},
   "source": [
    "## Structure des applications Laravel\n",
    "\n",
    "Après l'installation, le dossier de l'application est structuré de la manière suivante :\n",
    "\n",
    "- `app` : contient le code _métier_ de l'application\n",
    "- `bootstrap` : contient le fichier de démarrage de l'application `app.php` plus un dossier pour les caches engendrés par l'application lors de l'exécution\n",
    "- `config`: contient, comme son nom l'indique, tous les fichiers de configuration de l'application``\n",
    "- `database` : contient toutes les ressources liées au modèle et aux données de l'application\n",
    "- `public` : contient toutes les ressources publiques de l'application, dont le contrôleur principal `index.php`. On y trouvera aussi les ressources web, feuilles de style, scripts, images, etc.\n",
    "- `resources` : contient les différentes **vues** de l'application, ainsi que les fichiers sources des ressources web (avant leur compilation avec Webpack) ou encore les fichiers de traduction pour les applications multilingues\n",
    "- `routes` : contient les fichiers de routage ; par défaut, Laravel sépare les différents accès à l'application, web, api et autres\n",
    "- `storage` : contient différents types de fichiers engendrés par l'application, comme des logs, des caches o encore des vues compilées\n",
    "- `tests` : contient les classes pour les tests unitaires\n",
    "- `vendor` : contient tout le code de la plate-forme et des bibliothèques tierces\n",
    "\n",
    "Globalement, c'est le dossier `app` qui contiendra la plus grande partie du code que nous aurons à écrire pour une application.\n",
    "\n",
    "En dehors de ces dossiers, on trouve naturellement toute une série de fichiers :\n",
    "- `.env` : qui permet de définir des variables d'environnement, directement intégrées aux varibles superglobales de PHP ; le fichier peur être décliné en plusieurs variantes comme `.env.local`\n",
    "- `composer.json` : le fichier de gestion des dépendances de l'application\n",
    "- `artisan` : utilitaire de ligne de commande de Laravel, très utile notamment pour faciliter la phase d'échafaudage de l'application\n",
    "- `phpunit.xml` : le fichier de configuration de PHPUnit, le principal outil de test unitaire de PHP\n",
    "- `server.php` : émule le module de réécriture d'Apache sivous utilisez le serveur HTTP intégré de Laravel\n",
    "- `webpack.mix.js` : le fichier de configuration de Laravel Mix pour Webpack"
   ]
  },
  {
   "cell_type": "markdown",
   "id": "7af54121",
   "metadata": {},
   "source": [
    "## Configuration de base\n",
    "\n",
    "### Variables d'environnement\n",
    "\n",
    "Il est souvent utile de disposer de valeurs de configuration différentes en fonction de l'environnement dans lequel l'application est exécutée. Par exemple, vous pouvez souhaiter utiliser localement un pilote de cache différent de celui utilisé sur votre serveur de production.\n",
    "\n",
    "Pour faciliter cette tâche, Laravel utilise la bibliothèque `DotEnv`. Dans une nouvelle installation de Laravel, le répertoire racine de votre application contient un fichier .env.example qui définit de nombreuses variables d'environnement courantes. Au cours du processus d'installation de Laravel, ce fichier sera automatiquement copié en .env.\n",
    "\n",
    "Le fichier .env par défaut de Laravel contient certaines valeurs de configuration communes qui peuvent différer selon que votre application est exécutée localement ou sur un serveur web de production. Ces valeurs sont ensuite extraites de divers fichiers de configuration de Laravel dans le répertoire config à l'aide de la fonction env de Laravel.\n",
    "\n",
    "### Fichiers de configuration\n",
    "\n",
    "Le dossier `config` abrite tous les fichiers de configuration des différentes bibliothèques de l'application.\n",
    "\n",
    "Ces fichiers sont de simples scripts PHP qui rendent des tableaux associatifs et définissent des paramètres de l'application ou des variables d'environnement. A titre d'exemple, voici la configuration des vues :"
   ]
  },
  {
   "cell_type": "code",
   "execution_count": null,
   "id": "36421eaf",
   "metadata": {},
   "outputs": [],
   "source": [
    "%%php\n",
    "\n",
    "<?php\n",
    "\n",
    "// config/views.php\n",
    "\n",
    "return [\n",
    "\n",
    "    'paths' => [\n",
    "        resource_path('views'),\n",
    "    ],\n",
    "\n",
    "   'compiled' => env(\n",
    "        'VIEW_COMPILED_PATH',\n",
    "        realpath(storage_path('framework/views'))\n",
    "    ),\n",
    "];\n"
   ]
  },
  {
   "cell_type": "markdown",
   "id": "3c1dccbf",
   "metadata": {},
   "source": [
    "Ici :\n",
    "- `path` indique le dossier source des vues (`resources/views`)\n",
    "- `compiled` indique le dossier où sont rangées les vues compilées (`storage/framework/views`)\n"
   ]
  }
 ],
 "metadata": {
  "kernelspec": {
   "display_name": "Python 3 (ipykernel)",
   "language": "python",
   "name": "python3"
  },
  "language_info": {
   "codemirror_mode": {
    "name": "ipython",
    "version": 3
   },
   "file_extension": ".py",
   "mimetype": "text/x-python",
   "name": "python",
   "nbconvert_exporter": "python",
   "pygments_lexer": "ipython3",
   "version": "3.8.8"
  }
 },
 "nbformat": 4,
 "nbformat_minor": 5
}
