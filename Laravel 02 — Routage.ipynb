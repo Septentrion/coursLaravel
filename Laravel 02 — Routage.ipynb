{
 "cells": [
  {
   "cell_type": "markdown",
   "id": "dbc84a0d",
   "metadata": {},
   "source": [
    "# Routage\n",
    "\n",
    "## Sommaire\n",
    "\n",
    "1. [Introduction](#introduction)\n",
    "1. [Bases du routage dans Laravel](#bases)\n",
    "    1. [Fichiers de routage](#files)\n",
    "    1. [Méthodes HTTP et routes](#methodes)\n",
    "        1. [Requêtes HTTP](#requetes)\n",
    "        1. [Redirections HTTP](#redirections)\n",
    "        1. [Vues](#vues)\n",
    "1. [Options de routes](#options)\n",
    "    1. [Nommer les routes](#nommage)\n",
    "    1. [Paramètres de routes](#parametres)\n",
    "        1. [Contraintes globales](#contraintes)\n",
    "    1. [Préfixes de routes](#prefixes)\n",
    "    1. [Gestion des erreurs](#erreurs)"
   ]
  },
  {
   "cell_type": "markdown",
   "id": "c3d8c227",
   "metadata": {},
   "source": [
    "<a id='introduction'></a>\n",
    "## Introduction\n",
    "\n",
    "Le routage est une phase essentielle des applications web. Celles-ci sont en effet définies par leur **API**, qui est constituée par l'ensemble des URI accessibles via des requêtes HTTP.\n",
    "\n",
    "> <div class=\"alert alert-block alert-info\">\n",
    "> <b>Note :</b> Il existe par ailleurs des outils pour spécifier l'API d'une application web, comme <b>Swagger</b>, mais ce n'est pas vraiment l'objet du cours.\n",
    "> </div>\n",
    "\n",
    "Rappelons que l'application est (généralement) accessible par un unique point d'entrée, appelé **contrôleur principal**. Ce point d'entrée est (là aussi, généralement, par convention) le script `public/index.php`. D'une manière générale, c'est le serveur HTTP, comme Apache ou Nginx, qui se charge de renvoyer la requête vers le point d'entrée par le biais d'un mécanisme de **réécriture d'URL**.\n",
    "\n",
    "Rappelons aussi que, par mesure de sécurité, le dossier `public` doit être le seul accessible depuis le monde extérieur.\n",
    "\n",
    "Une fois la phase d'initialisation de l'application terminée, la plate-forme devra interpréter la requête qui lui est transmise. Contrairement à une page web statique dont la (représentation de la) ressource est directement liée à un URL, les ressources délivrées par Laravel sont « virtuelles », au sens où elles calculées à chaque requête de l'utilisateur. La phase de routage consiste donc décoder la requête pour trouver quelle fonction doit effectuer ce calcul. Elle est donc un moment spécifique qui vient s'intercaler entre l'événement utilisateur et la prise en charge de la requête par un **contrôleur**."
   ]
  },
  {
   "cell_type": "markdown",
   "id": "f39e034b",
   "metadata": {},
   "source": [
    "<a id='bases'></a>\n",
    "## Bases du routage dans Laravel\n",
    "\n",
    "Avec Laravel, l'ensemble du routage est implémenté de manière _fonctionnelle_, c'est-à-dire que les routes sont des fonctions associées à des **fonctions de rappel** (ou « callbacks » en anglais). C'est à peu près la même forme que ce que l'on trouve en JavaScript avec `fetch` (ou pour les plus anciens, les requêtes AJAX à la `jQuery`).\n",
    "\n",
    "Une route est donc définie principalement trois éléments :\n",
    "- une **méthode HTTP**, qui indique quel type de requête que l'on s'attend à traiter\n",
    "- un **schéma d'URL** qui précise la ressource qui est attendue par l'utilisateur\n",
    "- une **fonction de rappel** qui spécifie comment la requête doit être traitée et, éventuellement, ce qui doit être renvoyé au client.\n",
    "\n",
    "Sous sa forme la plus simple, elle se déclare ainsi :"
   ]
  },
  {
   "cell_type": "code",
   "execution_count": 1,
   "id": "24217e09",
   "metadata": {
    "collapsed": true
   },
   "outputs": [
    {
     "name": "stderr",
     "output_type": "stream",
     "text": [
      "UsageError: Cell magic `%%php` not found.\n"
     ]
    }
   ],
   "source": [
    "%%php\n",
    "\n",
    "use Illuminate\\Support\\Facades\\Route;\n",
    " \n",
    "Route::get('/greeting', fn () => 'Hello World');"
   ]
  },
  {
   "cell_type": "markdown",
   "id": "d5d9ddbf",
   "metadata": {},
   "source": [
    "Nous retrouvons :\n",
    "- la méthode `GET`, qui correspond à la méthode statique `get` de la classe `Route` ;\n",
    "- un URL (`/greeting` pour `http://<domaine>/greeting`) qui est transmis par le client\n",
    "- une simple fonction anonyme qui rend une chaîne de caractères constituant la **réponse** (au sens HTTP du serveur à la requête.\n",
    "\n",
    "### Fichiers de routage\n",
    "\n",
    "L'ensemble de l'API de l'application est définie dans des fichiers de routage qui sont de simples scripts PHP. Ceux-ci résident dans le dossier `routes`, à la racine de l'application.\n",
    "\n",
    "Dans ce dossier, on trouve quatre fichiers différents, qui correspondent à quatre types de requêtes :\n",
    "1. `web` : le groupe de routes le plus courant, représentant des requêtes émises par des clients web, comme des navigateurs ; le groupe `web` autorise la gestion de sessions et de protection CSRF\n",
    "2. `api` : groupe de routes représentant des requêtes « sans état » (_stateless_, c'est-à-dire strictement REST)\n",
    "3. `channels` : groupe de route pour (principalement) la diffusion de notification en mode « _broadcast_ » vers un ensemble d'écouteurs\n",
    "4. `console` : groupe de routes destiné à exécuter des commandes depuis la ligne de commande\n",
    "\n",
    "Pour le moment, nous nous intéresserons principalement aux routes du groupe `web`.\n",
    "\n",
    "Comme nous pouvons le voir dans le fichier d'exemple, nous n'avons rien d'autre à faire que déclarer les routes.\n",
    "\n",
    "### Méthodes de routes\n",
    "\n",
    "Les routes peuvent être réparties en plusieurs catégories.\n",
    "\n",
    "#### Requêtes HTTP\n",
    "\n",
    "En premier lieu, celles qui correspondent à des requêtes HTTP. De même que nous avons vu l'emploi de `GET`, il existe des outils pour appréhender les autres méthodes HTTP "
   ]
  },
  {
   "cell_type": "code",
   "execution_count": null,
   "id": "09ac0d0e",
   "metadata": {},
   "outputs": [],
   "source": [
    "%%php\n",
    "\n",
    "Route::get($uri, $callback);\n",
    "Route::post($uri, $callback);\n",
    "Route::put($uri, $callback);\n",
    "Route::patch($uri, $callback);\n",
    "Route::delete($uri, $callback);\n",
    "Route::options($uri, $callback);"
   ]
  },
  {
   "cell_type": "markdown",
   "id": "e084958c",
   "metadata": {},
   "source": [
    "Selon les serveurs HTTP, il peut être plus ou moins facile d'indiquer quelle méthode HTTP est employée. De plus les navigateurs web ne savent globalement gérer que des `GET` et des `POST`. Nous verrons par la suite, lors de la question des formulaires, comment indiquer à Laravel que nous voulons une méthode précise, conforme aux recommandations de REST.\n",
    "\n",
    "Quelquefois, nous aimerions qu'une requête soit associée à plusieurs méthodes HTTP alternatives. Dans ce cas, on peut utiliser `match`, voire `any` qui autorise, comme son nom l'indique, n'importe quelle méthode."
   ]
  },
  {
   "cell_type": "markdown",
   "id": "97c48b33",
   "metadata": {},
   "source": [
    "%%php\n",
    "\n",
    "Route::match(['get', 'post'], '/book', fn() => 'Hello world');\n",
    "Route::any('/book', fn() => 'Hello world');"
   ]
  },
  {
   "cell_type": "markdown",
   "id": "9cde8ebf",
   "metadata": {},
   "source": [
    "> <div class=\"alert alert-block alert-info\">\n",
    "> <b>Note :</b> L'ordre de déclaration des routes n'est pas anondin, car Laravel prendra la première route dont le schéma d'URL correspond à la requête entrante.\n",
    "> </div>\n",
    "\n",
    "#### Redirections HTTP\n",
    "\n",
    "Une catégorie spécifique traite des redirections, c'est-à-dire des réponses de statut 30x. Pour cela, on utilise la fonction `redirect` :"
   ]
  },
  {
   "cell_type": "code",
   "execution_count": null,
   "id": "dae3ae7f",
   "metadata": {},
   "outputs": [],
   "source": [
    "%%php\n",
    "\n",
    "Route::redirect('/url_1', '/url_2', <code de statut>);\n",
    "\n",
    "// permanentRedirect renvie implicitement le code 301\n",
    "Route::permanentRedirect('/url_1', '/url_2');"
   ]
  },
  {
   "cell_type": "markdown",
   "id": "5c56b36e",
   "metadata": {},
   "source": [
    "#### Vues\n",
    "\n",
    "La troisième catégorie de routes est celle qui faire référence à des **vues**.\n",
    "\n",
    "> <div class=\"alert alert-block alert-info\">\n",
    "> <b>Note :</b> Pour plus de détails sur les vues et le moteur de rendu <b>Blade</b>, reportez-vous au document afférent.\n",
    "> </div>\n",
    "\n",
    "On peut utiliser la fonction de support `view` pour faire référence à un fichier statique. Par exemple :"
   ]
  },
  {
   "cell_type": "code",
   "execution_count": null,
   "id": "8daaf827",
   "metadata": {},
   "outputs": [],
   "source": [
    "%%php\n",
    "\n",
    "Route::view('/about', 'about', ['day' => (new Datetime())->format('d/m/Y')]);"
   ]
  },
  {
   "cell_type": "markdown",
   "id": "0a1fc503",
   "metadata": {},
   "source": [
    "Dans cet exemple :\n",
    "- le premier argument est un schéma d'URL\n",
    "- le second argument est le nom du fichier contenant la page à afficher\n",
    "- le troisième argument permet de passer des variables qui seront insérées dans la page par le moteur de rendu."
   ]
  },
  {
   "cell_type": "markdown",
   "id": "f1435840",
   "metadata": {},
   "source": [
    "## Options de routes\n",
    "\n",
    "Nous savons maintenant comment créer des routes simples et afficher du contenu dans l'écran du navigateur. Mais, naturellement, nous voyons bien que beaucoup de choses manquent ou sont difficilement exploitables. Comment améliorer nore système de routage ?\n",
    "\n",
    "### Nommer les routes\n",
    "\n",
    "Donner une « étiquette » à une route est très important. En utilisant les étiquettes dans le code au lieu de faire directement référenc à la route, nous allons nous abstraire du code et augmenter la résilience de l'application en cas de modification de la politique d'URL, par rexemple. Nommer une route est très simple :"
   ]
  },
  {
   "cell_type": "code",
   "execution_count": null,
   "id": "03c18c3f",
   "metadata": {},
   "outputs": [],
   "source": [
    "Route::get('/greeting', fn () => 'Hello World';)->name('greeting');"
   ]
  },
  {
   "cell_type": "markdown",
   "id": "2d842f32",
   "metadata": {},
   "source": [
    "Grâce au nom que nous donnons à la route, nous pourrons désormais engendrer des URL dans le code de l'application, par exemple pour insérer des liens hypertextes dans les pages HTML."
   ]
  },
  {
   "cell_type": "code",
   "execution_count": null,
   "id": "1c4f88ab",
   "metadata": {},
   "outputs": [],
   "source": [
    "%%php\n",
    "\n",
    "$url = route('greeting');"
   ]
  },
  {
   "cell_type": "markdown",
   "id": "0f562bed",
   "metadata": {},
   "source": [
    "Désormais, si je souhaite changer l'URL de `/greeting` en `/bienvenue`, cela reste transparent du pont de vue du code de l'application.\n",
    "\n",
    "De même nous pouvons améliorer nos redirections HTTP :"
   ]
  },
  {
   "cell_type": "code",
   "execution_count": null,
   "id": "c5df3c56",
   "metadata": {},
   "outputs": [],
   "source": [
    "%%php\n",
    "\n",
    "return redirect()->route('greeting');"
   ]
  },
  {
   "cell_type": "markdown",
   "id": "8cb1d508",
   "metadata": {},
   "source": [
    "> <div class=\"alert alert-block alert-info\">\n",
    "> <b>Note :</b> En termes de bonnes pratiques, toutes les routes devraient être nommées. Naturellement, deux routes ne pourront pas porter le même nom, au risque de créer des conflits de nommage et des erreurs dans le traitement des requêtes.\n",
    "> </div>\n",
    "\n",
    "### Paramètres de routes\n",
    "\n",
    "Dans de nombreux cas, évidemment, nous aurons besoin de capturer la notion de « _famille de routes_ ». Dans une application de commerce en ligne, par exemple, on a besoin d'une page pour afficher chaque produit, identifié par sa référence. Nous devons donc avoir un moyen d'introduire des variables dans les schémas d'URL.\n",
    "\n",
    "Rien de plus simple :"
   ]
  },
  {
   "cell_type": "code",
   "execution_count": null,
   "id": "f5cfbdee",
   "metadata": {},
   "outputs": [],
   "source": [
    "%%php\n",
    "\n",
    "Route::get('/product/{id}', function ($id) {\n",
    "    return 'Produit n° '.$id;\n",
    "});"
   ]
  },
  {
   "cell_type": "markdown",
   "id": "7c7483e8",
   "metadata": {},
   "source": [
    "Comme on le voit :\n",
    "- Les parties variables d'URL sont entourées d'accolades (les noms de variables peuvent contenir des `_`) ;\n",
    "- La variable `id` est réutilisée comme paramètre de la fonction de rappel.\n",
    "\n",
    "On peut apporter quelques précisions sur le fonctionnement de ces paramètres :\n",
    "- Il est possible de définir autant de paramètres que nécessaire dans le schéma d'URL\n",
    "- La correspondance entre le schéma d'URL et la liste des paramètres de la fonction de rappel se fait en fonction de leur **position** (elles peuvent donc ne pas porter le même nom (même si cela ne semble pas une bonne pratique)\n",
    "- Il est possible de rendre un paramètre optionnel en ajoutant un `?` après le nom du paramètre dans l'URL... et en définissant une valeur par défaut dans la fonction de rappel\n",
    "- Il est possible de définir des contraintes sur les paramètres, en particulier basées sur des expressions régulières.\n",
    "\n",
    "Voici un petit exemple synthétisant ces possibilités :"
   ]
  },
  {
   "cell_type": "code",
   "execution_count": null,
   "id": "e8cae920",
   "metadata": {},
   "outputs": [],
   "source": [
    "%%php\n",
    "\n",
    "Route::get('/post/{pid}/comment/{cid?}', function ($postId, $commentId = 'all') {\n",
    "    return 'Commentaires de l’article n° '.$postId;\n",
    "})->where('pid', '[0-9]+')\n",
    "  ->where('cid', '[0-9]+|all');"
   ]
  },
  {
   "cell_type": "markdown",
   "id": "d8ced86b",
   "metadata": {},
   "source": [
    "Dans notre cas, nous définissons que si l'identitiant d'un commentaire n'est pas précisé, l'application doit les afficher tous.\n",
    "\n",
    "\n",
    "> <div class=\"alert alert-block alert-info\">\n",
    "> <b>Note :</b> Nous verrons un peu plus loin au moment de l'étude des contrôleurs et des modèles deux autres mécanismes des routes :\n",
    "> - l'**injection de dépendances, qui permet de d'importer des classes dans les contrôleurs (entre autres)\n",
    "> - la **conversion de paramètres**, qui permet d'importer un objet directement à partir de son identifiant\n",
    "> </div>\n",
    "\n",
    "#### Contraintes globales\n",
    "\n",
    "Dans le cas où un paramètre d'une route aurait toujours la même forme, il est possible de définir cette contrainte globalement, et non pas pour chaque route.\n",
    "\n",
    "Pour cela, nous devons faire appel à un type de classes particulier, appelé `Provider` ou **fournisseur de service**. Ces classes se trouvent dans le dossier `/app/Providers`.\n",
    "\n",
    "> <div class=\"alert alert-block alert-info\">\n",
    "> <b>Note :</b> Les fournisseurs de services sont le point central de l'amorçage de toutes les applications Laravel. C'est-à-dire la pahse où il s'agit d'enregistrer des objets requis par l'application, comme des liaisons de conteneurs de services, des écouteurs d'événements, des intergiciels et même des routes. Si vous ouvrez le fichier `config/app.php`, vous verrez un tableau de ces fournisseurs. Il s'agit de toutes les classes qui seront chargées pour votre application. Par défaut, un ensemble de fournisseurs de services de base de Laravel est répertorié dans ce tableau. Ces fournisseurs amorcent les composants de base de Laravel, tels que le mailer, la file d'attente, le cache, etc. Beaucoup de ces fournisseurs sont des fournisseurs \"différés\", ce qui signifie qu'ils ne seront pas chargés à chaque demande, mais seulement lorsque les services qu'ils fournissent sont réellement nécessaires.\n",
    "> </div>\n",
    "\n",
    "Parmi toutes les classes, on trouve `RouteServiceProvider`, qui est l'endroit où nouspouvons définir des contraintes globales pour les paramètres de routes :"
   ]
  },
  {
   "cell_type": "code",
   "execution_count": null,
   "id": "b64c521d",
   "metadata": {},
   "outputs": [],
   "source": [
    "public function boot()\n",
    "{\n",
    "    Route::pattern('id', '[0-9]+');\n",
    "}"
   ]
  },
  {
   "cell_type": "markdown",
   "id": "16f1af83",
   "metadata": {},
   "source": [
    "### Préfixes de routes\n",
    "\n",
    "Les routes peuvent être groupées, ce qui permet de faciliter certains aspects de leur définition. Comme nous allons le voir par la suite, les groupes sont liés à la notion de « _middleware_ » (ou intergiciel) et de contrôleur. Pour ce qui concerne les routes elles-mêmes, il est possible de modifier la structure de tout un ensemble d'URL."
   ]
  },
  {
   "cell_type": "code",
   "execution_count": null,
   "id": "d7cd6365",
   "metadata": {},
   "outputs": [],
   "source": [
    "%%php\n",
    "\n",
    "Route::prefix('admin')->group(function () {\n",
    "    Route::get('/users', function () {\n",
    "        // Matches The \"/admin/users\" URL\n",
    "    });\n",
    "});\n",
    "        \n",
    "Route::name('admin.')->group(function () {\n",
    "    Route::get('/users', function () {\n",
    "        // Route assigned name \"admin.users\"\n",
    "    })->name('users');\n",
    "}); "
   ]
  },
  {
   "cell_type": "markdown",
   "id": "df703fa8",
   "metadata": {},
   "source": [
    "- Dans le premier cas, c'est le schéma des URL qui est modifié\n",
    "- Dans le second cas, c'est le nom des URL qui est modifié\n",
    "\n",
    "On trouve un exemple très parlant dans la configuration par défaut de Laravel, qui regroupe des reoutes sur la base du nom du fichier dans lequel elles sont écrites. Dans le fournisseur de services `RouteServiceProvder` :"
   ]
  },
  {
   "cell_type": "code",
   "execution_count": null,
   "id": "32d3986b",
   "metadata": {},
   "outputs": [],
   "source": [
    "%%php\n",
    "\n",
    "Route::prefix('api')\n",
    "    // ...\n",
    "    ->group(base_path('routes/api.php'));"
   ]
  },
  {
   "cell_type": "markdown",
   "id": "10e786b3",
   "metadata": {},
   "source": [
    "La fonction `base_path` récupère le le chemin de système de fichiers d'un certain fichier PHP, ici le fichier de routage pour l'accès à l'application par API. Toutes les routes définies dans le fichier de routage sont ensuite préfixées par le segment `api`."
   ]
  },
  {
   "cell_type": "markdown",
   "id": "4d6d9a67",
   "metadata": {},
   "source": [
    "### Gestion des erreurs\n",
    "\n",
    "En utilisant la méthode `Route::fallback`, vous pouvez définir une route qui sera exécutée lorsqu'aucune autre route ne correspond à la requête entrante. En règle générale, les requêtes non traitées renvoient automatiquement une page \"404\" via le gestionnaire d'exceptions de votre application. Cependant, comme vous définissez généralement la route de repli dans votre fichier routes/web.php, tous les intergiciels du groupe d'intergiciels Web s'appliqueront à cette route. Vous êtes libre d'ajouter des intergiciels supplémentaires à cette route si nécessaire :"
   ]
  },
  {
   "cell_type": "code",
   "execution_count": 3,
   "id": "e3147fea",
   "metadata": {
    "collapsed": true
   },
   "outputs": [
    {
     "name": "stderr",
     "output_type": "stream",
     "text": [
      "UsageError: Cell magic `%%php` not found.\n"
     ]
    }
   ],
   "source": [
    "%%php\n",
    "\n",
    "Route::fallback(function () {\n",
    "    return 'Aucune ressource ne correspond à votre demande'\n",
    "});"
   ]
  },
  {
   "cell_type": "markdown",
   "id": "61bfe8ec",
   "metadata": {},
   "source": [
    "Cette méthode devrait naturellement être la dernière definie par votre application."
   ]
  }
 ],
 "metadata": {
  "kernelspec": {
   "display_name": "Python 3 (ipykernel)",
   "language": "python",
   "name": "python3"
  },
  "language_info": {
   "codemirror_mode": {
    "name": "ipython",
    "version": 3
   },
   "file_extension": ".py",
   "mimetype": "text/x-python",
   "name": "python",
   "nbconvert_exporter": "python",
   "pygments_lexer": "ipython3",
   "version": "3.8.8"
  }
 },
 "nbformat": 4,
 "nbformat_minor": 5
}
