{
 "cells": [
  {
   "cell_type": "markdown",
   "id": "8cd46772",
   "metadata": {},
   "source": [
    "# Laravel 4 : Middleware\n",
    "\n",
    "## Introduction\n",
    "\n",
    "La notion de « _middleware_ » (ou intergiciel en français) est souvent définie de manière confuse. Si l'on en croit [Wikipedia](https://www.wikiwand.com/fr/Intergiciel) :\n",
    "\n",
    "> En architecture informatique, un middleware (anglicisme) ou intergiciel est un logiciel tiers qui crée un réseau d'échange d'informations entre différentes applications informatiques. Le réseau est mis en œuvre par l'utilisation d'une même technique d'échange d'informations dans toutes les applications impliquées à l'aide de composants logiciels.\n",
    ">\n",
    ">Les composants logiciels du middleware assurent la communication entre les applications quels que soient les ordinateurs impliqués et quelles que soient les caractéristiques matérielles et logicielles des réseaux informatiques, des protocoles réseau, des systèmes d'exploitation impliqués.\n",
    ">\n",
    ">Les techniques les plus courantes d'échange d'informations sont l'échange de messages, l'appel de procédures à distance et la manipulation d'objets à distance.\n",
    ">\n",
    ">Les middlewares sont typiquement utilisés comme ciment pour relier des applications informatiques disparates des systèmes d'information des entreprises et des institutions.\n",
    "\n",
    "C'est donc une brique logicielle qui n'a pas de caractère _fonctionnel_, mais qui permet, en particulier dans les applications distribuées, d'établir des communications entre différents élements, éventuellement hétérogènes, d'un _cluster_.\n",
    "\n",
    "Cette technique a aussi été utlisée comme adaptateur, pour permettre à des applications « modernes » d'interagir avec une base de code ancienne ( « _legacy_ » comme disent les anglophones.\n",
    "\n",
    "Ce qui va être décrit ci-après ne correspond pas tout à fait à la définition, mais s'en rapproche dans le sans où les classes intergicielles de Laravel ne s'occupent pas du traitement des données lui-même (dévolu au **contrôleur**), mais vont s'occuper de tâches plus « administratives », comme les droits d'accès aux ressources, par exemple. On peut voir cela comme une couche transparente entre le routeur et le contrôleur, qu ne modifie pas les données mais établit la validité de la requête.\n",
    "\n",
    "Le _middelware_ fournit un mécanisme pratique pour inspecter et filtrer les requêtes HTTP qui entrent dans votre application. Par exemple, Laravel inclut un intergiciel qui vérifie que l'utilisateur de votre application est authentifié. Si l'utilisateur n'est pas authentifié, l'intergiciel le redirigera vers l'écran de connexion de votre application. Cependant, si l'utilisateur est authentifié, l'intergiciel permettra à la requête de se poursuivre dans l'application.\n",
    "\n",
    "Des intergiciels supplémentaires peuvent être écrits pour effectuer une variété de tâches autres que l'authentification. Par exemple, un intergiciel de journalisation peut enregistrer toutes les demandes entrantes dans votre application. Plusieurs intergiciels sont inclus dans le framework Laravel, notamment des intergiciels pour l'authentification et la protection CSRF. Tous ces intergiciels sont situés dans le répertoire `app/Http/Middleware`."
   ]
  },
  {
   "cell_type": "markdown",
   "id": "b8cbeb44",
   "metadata": {},
   "source": [
    "## Structure d'une classe intergicielle\n",
    "\n",
    "Toutes les classes intergicielles héritent normalement de la classe `Illuminate\\Auth\\Middleware\\Authenticate`, mais Laravel cherche des classes qui sont dans le « bon » dossier (`app/Http/Middleware`).\n",
    "\n",
    "Une telle classe repose essentiellement sur une méthode nommée `handle`. Si nous regardons la classe de Laravel, nous voyons que sa signature estla suivante :"
   ]
  },
  {
   "cell_type": "code",
   "execution_count": null,
   "id": "a9bc02c2",
   "metadata": {},
   "outputs": [],
   "source": [
    "%%php\n",
    "\n",
    "public function handle($request, Closure $next, ...$guards);"
   ]
  },
  {
   "cell_type": "markdown",
   "id": "2dc502e2",
   "metadata": {},
   "source": [
    "Pour expliquer très succinctement la signature de la fonction :\n",
    "\n",
    "1. Vous voyons que le premier paramètre de la méthode (`request`) attend la requête reçue par le serveur (on s'attendrait d'ailleurs à ce que ce paramètre soit typé). L'objet de la classe `Request` est construit pas le routeur et « intercepté » par la couche intergicielle avant d'être, éventuellement, transmis au contrôleur.\n",
    "2. Un deuxième paramètre (`next`) attend une fonction. Celle-ci représente un traitement _suivant_. En effet, il faut comprendre que la couche intergicielle est formée de plusieurs sous-couches, qui sont appelées successivement pour effectuer toutes les tâches préalables au traitement de la requête proprement dit. La couche et l'enchaînement des différentes tâches et gérée par Laravel.\n",
    "3. Le troisième paramètre, (`guards`), sert à définir des modes d'authentification pour les utilisateurs. Cette notion de « garde » est liéeà celles de « _driver_ » (pilote) et « _provider_ » (fournisseur, généralement une classe d'utilisateurs).\n",
    "\n",
    "A titre d'exemple, voici la méthode `handle` de la classe intergiceille `RedirectIfAuthenticated` :"
   ]
  },
  {
   "cell_type": "code",
   "execution_count": null,
   "id": "da30a17b",
   "metadata": {},
   "outputs": [],
   "source": [
    "%%php\n",
    "\n",
    "public function handle(Request $request, Closure $next, ...$guards)\n",
    "{\n",
    "        $guards = empty($guards) ? [null] : $guards;\n",
    "\n",
    "        /*\n",
    "         * On fait appel à tous les gardes pour voir si une méthode d’authentification réussit\n",
    "         * Dès qu’un succès est constaté, l’utilisateur est renvoyé vers la page d’accueil\n",
    "         */\n",
    "        foreach ($guards as $guard) {\n",
    "            if (Auth::guard($guard)->check()) {\n",
    "                return redirect(RouteServiceProvider::HOME);\n",
    "            }\n",
    "        }\n",
    "\n",
    "        /*\n",
    "         * Sinon, en cas d’échec, on passe à l’élément suivant de la chaîne\n",
    "         */\n",
    "        return $next($request);\n",
    "    }"
   ]
  },
  {
   "cell_type": "markdown",
   "id": "a58cf872",
   "metadata": {},
   "source": [
    "> <div class=\"alert alert-block alert-info\">\n",
    "> <b>Note :</b> La fonction `redirect` employée ici est un utilitaire dont on peut trouver l'implémentation dans la bibliothèque `/laravel/framework/src/Illuminate/foundation/helpers.php`\n",
    "> </div>\n",
    "\n",
    "## Utiliser les classes intergicielles\n",
    "\n",
    "### Classes globales\n",
    "\n",
    "Si vous voulez qu'une tâche soit exécutée pour toute requête HTTP arrivantsur le serveur, le moyen le plus simple est de l'enregistrer dans le fichier `app/Http/Kernel.php`.\n",
    "\n",
    "Cette classe définit plusieurs tableaux dont un appelé `middleware`, qui liste les tâches globales."
   ]
  },
  {
   "cell_type": "code",
   "execution_count": null,
   "id": "abab5a41",
   "metadata": {},
   "outputs": [],
   "source": [
    "%%php\n",
    "\n",
    "protected $middleware = [\n",
    "    // \\App\\Http\\Middleware\\TrustHosts::class,\n",
    "    \\App\\Http\\Middleware\\TrustProxies::class,\n",
    "    \\Fruitcake\\Cors\\HandleCors::class,\n",
    "    \\App\\Http\\Middleware\\PreventRequestsDuringMaintenance::class,\n",
    "    \\Illuminate\\Foundation\\Http\\Middleware\\ValidatePostSize::class,\n",
    "    \\App\\Http\\Middleware\\TrimStrings::class,\n",
    "    \\Illuminate\\Foundation\\Http\\Middleware\\ConvertEmptyStringsToNull::class,\n",
    "];"
   ]
  },
  {
   "cell_type": "markdown",
   "id": "97595d9d",
   "metadata": {},
   "source": [
    "### Assigner une classe à une route\n",
    "\n",
    "Si une route spécifique doit passer par certains pré-traitements, il existe alors deux syntaxes pour cela.\n",
    "\n",
    "La plus simple est d'associer la classe à la route avec la méthode `middleware`."
   ]
  },
  {
   "cell_type": "code",
   "execution_count": null,
   "id": "c1c3859e",
   "metadata": {},
   "outputs": [],
   "source": [
    "use App\\Http\\Middleware\\EnsureTokenIsValid;\n",
    " \n",
    "Route::get('/profile', function () { /* ... */ })->middleware(EnsureTokenIsValid::class);"
   ]
  },
  {
   "cell_type": "markdown",
   "id": "17a1edf0",
   "metadata": {},
   "source": [
    "Il est aussi possible de nommer la classe en l'enregistrant dans le tableau `routeMiddleware` du fichier `app/Http/Kernel.php`. Dans ce cas, si notre classe correpond àla clef `validToken`, la syntaxe devient plus simple :"
   ]
  },
  {
   "cell_type": "code",
   "execution_count": null,
   "id": "e7877231",
   "metadata": {},
   "outputs": [],
   "source": [
    "Route::get('/profile', function () { /* ... */ })->middleware('validToken');"
   ]
  },
  {
   "cell_type": "markdown",
   "id": "781cb519",
   "metadata": {},
   "source": [
    "Si une classe doit être utilisée pour plusieurs routes, cette syntaxe facilite la réutilisation.\n",
    "\n",
    "### Assigner une classe à un groupe de routes\n",
    "\n",
    "Comme les routes peuvent être groupées (cf. [Routage]()), la méthode middleware peut aussi être utilisée une seule fois, comme par exemple :"
   ]
  },
  {
   "cell_type": "code",
   "execution_count": null,
   "id": "9ff6f822",
   "metadata": {},
   "outputs": [],
   "source": [
    "%%php\n",
    "\n",
    "public function boot()\n",
    "{\n",
    "    $this->configureRateLimiting();\n",
    "\n",
    "    $this->routes(function () {\n",
    "        Route::prefix('api')\n",
    "            /*\n",
    "             * Pour toutes les routes du groupe 'api'\n",
    "             * appliquer la tâche définie sous le nom 'api' dans le tableau `routeMiddleware'\n",
    "             */\n",
    "            ->middleware('api')\n",
    "            ->namespace($this->namespace)\n",
    "            ->group(base_path('routes/api.php'));\n",
    "\n",
    "        /*\n",
    "         * Comme les routes 'web' ne sont pas préfixées,\n",
    "         * on peut utiliser directement la méthode 'Route::middleware' sur ce groupe\n",
    "         */\n",
    "        Route::middleware('web')\n",
    "            ->namespace($this->namespace)\n",
    "            ->group(base_path('routes/web.php'));\n",
    "    });\n",
    "}"
   ]
  },
  {
   "cell_type": "markdown",
   "id": "4ed8f1f6",
   "metadata": {},
   "source": [
    "### Exclure une tâche\n",
    "\n",
    "Si une tâche est assignée à ungroupe de routes, il arrive que l'on souhaite la désactiver dans certains cas. Cela est possible avec la méthode `withoutMiddleware`: "
   ]
  },
  {
   "cell_type": "code",
   "execution_count": null,
   "id": "31daa88f",
   "metadata": {},
   "outputs": [],
   "source": [
    "use App\\Http\\Middleware\\EnsureTokenIsValid;\n",
    " \n",
    "Route::get('/profile', function () { /* ... */ })->withoutMiddleware('validToken');"
   ]
  },
  {
   "cell_type": "markdown",
   "id": "d100aea4",
   "metadata": {},
   "source": [
    "On ne peut exclure des tâches enregistrées comme globales."
   ]
  },
  {
   "cell_type": "markdown",
   "id": "43b695db",
   "metadata": {},
   "source": [
    "### Groupes de classes intergicielles\n",
    "\n",
    "Dans de nombreux cas, une série de tâches doivent être effectuées, selon le contexte de l'application. Il est alors possible de grouper ces tâches au sein du tableau `middlewareGroups` du fichier `Kernel.php`. Comme nous pouvons le voir, des groupes par défuat sont déjà définis, `web`et `api`, qui correspondant aux contextes des fichiers `web.php`et `api.php` du dossier `/routes`. La concordance est configurée dans la classe `RouteServiceProvider`.\n",
    "\n",
    "Appliquer un groupe d'intergiciels à une route ou à groupe de routes sefait suivant la même syntaxe que celle vue précédemment :"
   ]
  },
  {
   "cell_type": "code",
   "execution_count": null,
   "id": "2be80949",
   "metadata": {},
   "outputs": [],
   "source": [
    "%%php\n",
    "\n",
    "// Pour une route\n",
    "Route::get('/profile', function () { /* ... */ })->middleware('web');\n",
    "\n",
    "// Pour un groupe de route\n",
    "Route::middleware('web')->group(base_path('routes/web.php'));\n"
   ]
  },
  {
   "cell_type": "markdown",
   "id": "4f8fda97",
   "metadata": {},
   "source": [
    "### Paramètres pour les classes intergicielles\n",
    "\n",
    "Il est possible qu'une tâche nécessite un paramètre.\n",
    "\n",
    "Dans ce cas, la valeur de l'argument est accolé au nom de l'intergiciel avec le caractères `: `."
   ]
  },
  {
   "cell_type": "code",
   "execution_count": null,
   "id": "70eefd29",
   "metadata": {},
   "outputs": [],
   "source": [
    "%%php\n",
    "\n",
    "Route::put('/post/{id}', function ($id) { /* .. */ })->middleware('role:editor');"
   ]
  },
  {
   "cell_type": "markdown",
   "id": "89d16298",
   "metadata": {},
   "source": [
    "Dans cet exemple, la création d'articles n'est autorisée quepour des personnes ayant le rôle « éditeur** ».\n",
    "\n",
    "Pour que cette valeur soit prise en compte par la classe, il est nécessaire d'introdure un nouveau paramètre dans la méthode `handle`de la classe correspondants :"
   ]
  },
  {
   "cell_type": "code",
   "execution_count": null,
   "id": "b22696f6",
   "metadata": {},
   "outputs": [],
   "source": [
    "%%php\n",
    "\n",
    "public function handle($request, Closure $next, $role)\n",
    "{\n",
    "    if (! $request->user()->hasRole($role)) {\n",
    "        // Redirect...\n",
    "    }\n",
    "\n",
    "    return $next($request);\n",
    "}"
   ]
  },
  {
   "cell_type": "markdown",
   "id": "fa2dd6af",
   "metadata": {},
   "source": [
    "## Middleware, gardes et authentification\n",
    "\n"
   ]
  }
 ],
 "metadata": {
  "kernelspec": {
   "display_name": "Python 3 (ipykernel)",
   "language": "python",
   "name": "python3"
  },
  "language_info": {
   "codemirror_mode": {
    "name": "ipython",
    "version": 3
   },
   "file_extension": ".py",
   "mimetype": "text/x-python",
   "name": "python",
   "nbconvert_exporter": "python",
   "pygments_lexer": "ipython3",
   "version": "3.8.8"
  }
 },
 "nbformat": 4,
 "nbformat_minor": 5
}
