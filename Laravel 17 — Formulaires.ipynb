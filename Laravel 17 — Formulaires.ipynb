{
 "cells": [
  {
   "cell_type": "markdown",
   "id": "cfe9ffd3",
   "metadata": {},
   "source": [
    "# Formulaires"
   ]
  },
  {
   "cell_type": "markdown",
   "id": "5d97151a",
   "metadata": {},
   "source": [
    "## Introduction\n",
    "\n",
    "`Laravel` ne possède pas nativement de mécanismede gestion de formulaires aussi sophistiqué que `Symfony`.\n",
    "Les formulaires sont intégrés dans les squelettes `Blade`.\n",
    "\n",
    "- La manière la plus courante de faire est d'écrire les formulaires en HTML.\n",
    "- Il est possible d'utiliser la [bibliothèque `html`]() de LaravelCollective (mais plus mise à jour depuis 2019)\n",
    "- Il existe aussi une [bibliothèque](https://github.com/Momenoor/form-builder) qui porte les formulaires `Symfony` dans `Laravel`\n"
   ]
  },
  {
   "cell_type": "markdown",
   "id": "f9e0fe6c",
   "metadata": {},
   "source": [
    "## Création de formulaire\n",
    "\n",
    "Par défaut, Laravel n'offre pas procédure particulière pour créer des formulaires. Par conséquent, on a tendance à créer de simples formulaires HTML dous forme de fichiers `Blade`.\n",
    "\n",
    "Ces formulaires contiennent des variables, en particulier pour définirla route de retour.\n",
    "\n",
    "> **Note** Une bonne pratique consistera à créer deux routes séparées pour les versants `GET` et `POST` du formulaire, par exemple :\n",
    ">\n",
    "> - Route::get('product/add', ...);\n",
    "> - Route::post('product/new', ...);\n",
    "\n",
    "### Sécurisation\n",
    "\n",
    "La chose la plus importante est l'intégration du jeton de sécurité qui vise à emp^cher les **attaques CSRF**. Pour cela, il faut ajouter la directive :"
   ]
  },
  {
   "cell_type": "markdown",
   "id": "b6751b3d",
   "metadata": {},
   "source": [
    "%%blade\n",
    "\n",
    "<form method=\"POST\" action=\"{{ route(product.new) }}\">\n",
    "@csrf\n",
    "</form>"
   ]
  },
  {
   "cell_type": "markdown",
   "id": "d29f5986",
   "metadata": {},
   "source": [
    "###  Méthodes HTTP\n",
    "\n",
    "Il est possible d'utiliser toutes les méthodes HTTP disponibles,et il est bien sûr recommandé de le faire. Pour cela, nous devrons intégrer deux éléments dans notre code :\n",
    "\n",
    "1. La déclaration de la méthode dans le formulaire,ce qui se fait avec une directive ad hoc `@method` :"
   ]
  },
  {
   "cell_type": "code",
   "execution_count": null,
   "id": "38611fee",
   "metadata": {},
   "outputs": [],
   "source": [
    "%%blade\n",
    "\n",
    "<form action=\"{{ route('users.update',['id' => $id]) }}\">\n",
    "    @csrf\n",
    "    @method('PATCH')\n",
    "</form>"
   ]
  },
  {
   "cell_type": "markdown",
   "id": "82cd7301",
   "metadata": {},
   "source": [
    "2. Naturellement, déclarer une route qui accepte la méthode :"
   ]
  },
  {
   "cell_type": "code",
   "execution_count": null,
   "id": "680263ce",
   "metadata": {},
   "outputs": [],
   "source": [
    "%%php\n",
    "\n",
    "Route::patch('users/{id}', 'UsersController@update')->name('users.update');\n",
    "// ou\n",
    "Route::resource('users', 'UsersController');"
   ]
  },
  {
   "cell_type": "markdown",
   "id": "d1ad55bb",
   "metadata": {},
   "source": [
    "## Les formulaires « à la Symfony »\n",
    "\n",
    "`Symfony` gère les formulaires de manière très différente.\n",
    "\n",
    "1. D'une part, les caractéristiques des formulaires sont décrites dans une classe\n",
    "2. La vue ne fait que déclarer les noms des champs, laissant l'environnement engendrer le code HTML\n",
    "\n",
    "Si vous voulez adopter cette manière de faire, vous devrez installer la bibiothèque requise, comme :"
   ]
  },
  {
   "cell_type": "code",
   "execution_count": null,
   "id": "169c3e4d",
   "metadata": {},
   "outputs": [],
   "source": [
    "%%bash\n",
    "\n",
    "composer require momenoor/form-builder"
   ]
  },
  {
   "cell_type": "markdown",
   "id": "8801f395",
   "metadata": {},
   "source": [
    "Vous bénéficiez alors d'un nouvelle commande `make` :"
   ]
  },
  {
   "cell_type": "markdown",
   "id": "a5834c91",
   "metadata": {},
   "source": [
    "%%bash\n",
    "\n",
    "./artisan make:form Forms/ProductForm"
   ]
  },
  {
   "cell_type": "markdown",
   "id": "64d8ebef",
   "metadata": {},
   "source": [
    "Vous avez maintenant une nouvelle classe qui est une représentation abstraite du formulaire. Celui-ci est construit par une méthode `buildForm`, dont l'action principale est de lister les champs à afficher via la méthode `add`."
   ]
  },
  {
   "cell_type": "code",
   "execution_count": null,
   "id": "8da8406e",
   "metadata": {},
   "outputs": [],
   "source": [
    "%%php\n",
    "\n",
    "namespace App\\Forms;\n",
    "\n",
    "use Momenoor\\FormBuilder\\FormValidator;\n",
    "\n",
    "class ProductForm extends FormValidator\n",
    "{\n",
    "    public function buildForm()\n",
    "    {\n",
    "        $this->add('name', 'text');\n",
    "        \n",
    "        // Autres champs ..\n",
    "\n",
    "        $this->addDefaultActions();\n",
    "    }\n",
    "}"
   ]
  },
  {
   "cell_type": "markdown",
   "id": "a5d0dfe6",
   "metadata": {},
   "source": [
    "`add` définit un champ au trvers de trois arguments :\n",
    "- un nom, qui doit correspondre à une propriété de l'entité\n",
    "- un type, qui doit aussi correspondre au type de la propriété et qui servira à la création du wifget HTML\n",
    "- un ensemble d'options.\n",
    "\n",
    "Par exemple :"
   ]
  },
  {
   "cell_type": "code",
   "execution_count": null,
   "id": "da5d1657",
   "metadata": {},
   "outputs": [],
   "source": [
    "%%php\n",
    "\n",
    "public function buildForm()\n",
    "{\n",
    "    $this->add('status', 'choice', [\n",
    "        'choices'     => StaticLabel::status(),\n",
    "        'empty_value' => _('-'),\n",
    "        'validation'  => 'required',\n",
    "        'label'       => _('Status')\n",
    "    ])\n",
    "}\n"
   ]
  },
  {
   "cell_type": "markdown",
   "id": "c177f572",
   "metadata": {},
   "source": [
    "Nous déclarons ici un champ de type `Choice`, à savoir une liste déroulante, sont les valeurs sont issues d'une classe particulière, du modèle par exemple, avec un label, une valeu par défaut et une méthode de validation.\n",
    "\n",
    "> **Note** Comme vous pouvez le remarquer, les classes de formulaires héritent de la classe `FormValidator` — ce qui est en soi un peu curieux — et la validation se définit directement dans la classe. Elle se fera du côé du navigateur, ce qui n'exclut pas la validation coté serveur que nous verrons après.\n",
    "\n",
    "La documentation de la bibliothèque fournit d'autres exemples de définitions de champs.\n",
    "\n",
    "Il est possible en particulier de définir des sous-formulaires :"
   ]
  },
  {
   "cell_type": "code",
   "execution_count": null,
   "id": "ed7ca82a",
   "metadata": {},
   "outputs": [],
   "source": [
    "%%php\n",
    "\n",
    "$this->add('user', 'form', [\n",
    "   'label' => _('User'),\n",
    "   'icon'  => 'user',\n",
    "   'class' => \\FormBuilder::create('Momenoor\\Expendable\\Forms\\User\\UserForm', [\n",
    "       'model'                  => $this->getUserModel(),\n",
    "       'do_not_display_role_id' => true\n",
    "   ])\n",
    "]);"
   ]
  },
  {
   "cell_type": "markdown",
   "id": "9c72e79c",
   "metadata": {},
   "source": [
    "Une fois le formulaire créé, nous puvons l'utiliser dansun contrôleur :"
   ]
  },
  {
   "cell_type": "code",
   "execution_count": null,
   "id": "7ddb6ed4",
   "metadata": {},
   "outputs": [],
   "source": [
    "%%php\n",
    "\n",
    "class SongsController extends BaseController {\n",
    "\n",
    "    public function create(FormBuilder $formBuilder)\n",
    "    {\n",
    "        $form = $formBuilder->create(\\App\\Forms\\SongForm::class, [\n",
    "            'method' => 'POST',\n",
    "            'url' => route('song.store')\n",
    "        ]);\n",
    "\n",
    "        return view('song.create', compact('form'));\n",
    "    }\n",
    "\n",
    "    public function store(FormBuilder $formBuilder)\n",
    "    {\n",
    "        $form = $formBuilder->create(\\App\\Forms\\SongForm::class);\n",
    "\n",
    "        if (!$form->isValid()) {\n",
    "            return redirect()->back()->withErrors($form->getErrors())->withInput();\n",
    "        }\n",
    "\n",
    "        // Suite du code...\n",
    "    }\n",
    "}"
   ]
  },
  {
   "cell_type": "markdown",
   "id": "26a98fec",
   "metadata": {},
   "source": [
    "Et il faut encore l'intégrer dans le squelette `Blade` correspondant :"
   ]
  },
  {
   "cell_type": "markdown",
   "id": "8bafb4da",
   "metadata": {},
   "source": [
    "%%blade\n",
    "\n",
    "@extends('app')\n",
    "\n",
    "@section('content')\n",
    "    {!! form($form) !!}\n",
    "@endsection"
   ]
  },
  {
   "cell_type": "markdown",
   "id": "d1ce26a8",
   "metadata": {},
   "source": []
  },
  {
   "cell_type": "markdown",
   "id": "a30e85fa",
   "metadata": {},
   "source": [
    "## LaravelCollective\n",
    "\n",
    "Il existe enfin une troisième méthode de construction de formulaire avec la bilbliothèque `html` de LaravelCollective.\n",
    "\n",
    "Celle-ci doit néanmoins être utilisée avec précaution, car elle ne semble plus activement maintenue depuis quelques années.\n",
    "\n",
    "Elles s'appuie sur une syntaxe mixte PHP/HTML, plus proche du style natif de `Laravel`. Ci-dessous, nous affichons par par exemple un champ de type `password` ayant une classe CSS `secret`:"
   ]
  },
  {
   "cell_type": "code",
   "execution_count": null,
   "id": "b7263d98",
   "metadata": {},
   "outputs": [],
   "source": [
    "%%blade\n",
    "\n",
    "{!! Form::password('password', ['class' => 'secret']); !!}"
   ]
  },
  {
   "cell_type": "markdown",
   "id": "a354b690",
   "metadata": {},
   "source": [
    "> **Note** Comme on le remarque, nous demandons à Blade de ne pas protéger le code HTML produit.\n",
    "\n",
    "Pour créer un formulaire complet, il faudra intégrer dans un squelette `Blade` :"
   ]
  },
  {
   "cell_type": "code",
   "execution_count": null,
   "id": "602544d6",
   "metadata": {},
   "outputs": [],
   "source": [
    "%%blade\n",
    "\n",
    "{!! Form::open(['route' => ['route.name', $user->id]], 'method' => 'PUT') !!}\n",
    "{!! Form::token() !!}\n",
    "{!! Form::label('email', 'Adresse électronique') !!}\n",
    "{!! Form::text('email', '', ['class' => 'text-field']) !!}\n",
    "{!! Form::label(['city', 'Ville') !!}\n",
    "{!! Form::select('city', '['75000' => 'Paris', '59000' => 'Lille', '33000' => 'Bordeaux']', ['class' => 'select-field']) !!}\n",
    "{!! Form::close() !!}\n",
    "        "
   ]
  },
  {
   "cell_type": "markdown",
   "id": "2cb1ae45",
   "metadata": {},
   "source": [
    "## Ressources\n",
    "\n",
    "- [Documentation de Laravel]()\n",
    "- [Documentation de Momenoor](https://github.com/Momenoor/form-builder)\n",
    "- [Documentation de Kistijan Husak](https://github.com/kristijanhusak/laravel-form-builder)\n",
    "- [Documentation de Laravelcollective](https://laravelcollective.com/docs/6.x/html)"
   ]
  }
 ],
 "metadata": {
  "kernelspec": {
   "display_name": "Python 3 (ipykernel)",
   "language": "python",
   "name": "python3"
  },
  "language_info": {
   "codemirror_mode": {
    "name": "ipython",
    "version": 3
   },
   "file_extension": ".py",
   "mimetype": "text/x-python",
   "name": "python",
   "nbconvert_exporter": "python",
   "pygments_lexer": "ipython3",
   "version": "3.8.8"
  }
 },
 "nbformat": 4,
 "nbformat_minor": 5
}
