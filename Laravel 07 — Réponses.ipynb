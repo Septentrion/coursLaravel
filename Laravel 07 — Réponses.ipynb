{
 "cells": [
  {
   "cell_type": "markdown",
   "id": "541685c9",
   "metadata": {},
   "source": [
    "# La classe Response\n",
    "\n",
    "## Introduction"
   ]
  },
  {
   "cell_type": "markdown",
   "id": "b2a6b446",
   "metadata": {},
   "source": [
    "## Types de réponses\n",
    "\n",
    "D'une manière très générale, avec Laravel, une réponse est une valeur qui est retournée par la fonctionde rappel associée à une route.\n",
    "\n",
    "Une réponse peut donc se présenter sous plusieurs formes.\n",
    "\n",
    "La forme la plus élémentaire est une simple chaîne de caractères :"
   ]
  },
  {
   "cell_type": "code",
   "execution_count": null,
   "id": "d26a0b5b",
   "metadata": {},
   "outputs": [],
   "source": [
    "%%php\n",
    "\n",
    "Route::get('/', function () {\n",
    "    return '<h1>Hello World</h1>';\n",
    "});"
   ]
  },
  {
   "cell_type": "markdown",
   "id": "44a15b0b",
   "metadata": {},
   "source": [
    "Il apparaît clairement que cette forme est très limitée, quand bien même on passerait le code HTML d'une page entière.\n",
    "\n",
    "> <div class=\"alert alert-block alert-info\">\n",
    "> <b>Note :</b> Si la valeur de retour est un tableau ou un objet, Laravel inférera que la réponse est au format JSON.\n",
    "> </div>\n",
    "\n",
    "Plutôt que d'envoyer une chaîne, nous avons la possibilité d'utiliser des objets de la classe `Response`. Ce qui nous donnerait :"
   ]
  },
  {
   "cell_type": "code",
   "execution_count": null,
   "id": "53eddc9f",
   "metadata": {},
   "outputs": [],
   "source": [
    "%%php\n",
    "\n",
    "Route::get('/home', function () {\n",
    "    return response('Hello World', 200);\n",
    "});"
   ]
  },
  {
   "cell_type": "markdown",
   "id": "ee0d7021",
   "metadata": {},
   "source": [
    "La fonction `response`qui fait partie des utilitaires Laravel crée un objet, lui asigne un contenu et, dans l'exemple, envoie un code de statut `200` pour dire quetout s'est bien passé.\n",
    "\n",
    "Souvent la réponse sera encapsulée dans d'autres couches logicielles. Par exemple, nous pourrions renvoyer une vue (cf. [Blade]()), sachant que celle-ci contruit implicitement la réponse. De même, en utilisant des contrôleurs, le cas le plus fréquent, le résultat sera une instance de`Response`.\n",
    "\n",
    "Globalement, Laravel connaît trois grands types de réponses.\n",
    "\n",
    "### Vues\n",
    "\n",
    "La classe `Response `possède une méthode `view` (cf. [Blade]()) qui construit une vue )à partir d'un gabarit Blade.\n",
    "Par exemple :"
   ]
  },
  {
   "cell_type": "code",
   "execution_count": null,
   "id": "495fc0e4",
   "metadata": {},
   "outputs": [],
   "source": [
    "%%php\n",
    "\n",
    "return response()->view('hello', ['userName' => 'Zorglub', 'type' => 'author'], 200)"
   ]
  },
  {
   "cell_type": "markdown",
   "id": "96659b09",
   "metadata": {},
   "source": [
    "Nous cherchons un gabarit du nom de `hello.blade.php` dans le dossier `/resources/views`,auquel nous passons des valeurs contenues dans le second argument de `view`.\n",
    "\n",
    "### JSON\n",
    "\n",
    "Si le client attend une réponse au format JSON, il existe une méthode `json` ad hoc :"
   ]
  },
  {
   "cell_type": "code",
   "execution_count": null,
   "id": "6e37dd57",
   "metadata": {},
   "outputs": [],
   "source": [
    "%%php\n",
    "\n",
    "return response()->json([\n",
    "    'name' => 'Abigail',\n",
    "    'state' => 'CA',\n",
    "]);"
   ]
  },
  {
   "cell_type": "markdown",
   "id": "f878af70",
   "metadata": {},
   "source": [
    "### Fichiers\n",
    "\n",
    "Si la réponse est sous form d'un fichier, il existe là encore plusieurs olutions.\n",
    "\n",
    "#### Téléchargement\n",
    "\n",
    "La méthode `download` télécharge le fichier pour quel'utilisateur l'enregistre sur son disque local\n",
    "\n",
    "#### Streaming\n",
    "\n",
    "La méthode `streamDownload` envoie non plus un fichier, mais le résultat d'une opération, ce qui permet d'envoyr les données sous forme de flux."
   ]
  },
  {
   "cell_type": "code",
   "execution_count": null,
   "id": "57da0c5c",
   "metadata": {},
   "outputs": [],
   "source": [
    "use App\\Services\\GitHub;\n",
    " \n",
    "return response()->streamDownload(function () {\n",
    "    echo GitHub::api('repo')\n",
    "                ->contents()\n",
    "                ->readme('laravel', 'laravel')['contents'];\n",
    "}, 'laravel-readme.md');"
   ]
  },
  {
   "cell_type": "markdown",
   "id": "ab0e8375",
   "metadata": {},
   "source": [
    "Dans l'exemple, on va interroger l'API de Github pour lire le contenu du fichier README d'un dépôt particulier. L'instruction `echo` indique que les données ne sont pas envoyées vers le disque (ou la mémoire) mais directement sur le flux de sortie de PHP. C'est-à-dire,ici, envoyées au client web."
   ]
  },
  {
   "cell_type": "markdown",
   "id": "72de5bb7",
   "metadata": {},
   "source": [
    "#### Affichage\n",
    "\n",
    "Enfin, si vous souhaitez que le contenu du fichier s'affiche dirctement dans le navigateur, dans le cas où cela est possible (une image, un fichier PDF, etc.), une troisième méthode `file`est disponible :"
   ]
  },
  {
   "cell_type": "code",
   "execution_count": null,
   "id": "60ca172b",
   "metadata": {},
   "outputs": [],
   "source": [
    "%%php\n",
    "\n",
    "return response()->file($pathToFile);"
   ]
  },
  {
   "cell_type": "markdown",
   "id": "84855bc9",
   "metadata": {},
   "source": [
    "## Méta-données de la réponse\n",
    "\n",
    "Laravel gère implicitement les méta-données associées à une réponse. Néanmoins, on aura quelquefois envie de les paramétrer manuellement. Pour cela il suffit d'emplouer la méthode `header`ou `withHeader`."
   ]
  },
  {
   "cell_type": "code",
   "execution_count": null,
   "id": "573c3d9e",
   "metadata": {},
   "outputs": [],
   "source": [
    "%%php \n",
    "\n",
    "return response($content)->header('Content-Type', 'text/html');"
   ]
  },
  {
   "cell_type": "markdown",
   "id": "e602dcf4",
   "metadata": {},
   "source": [
    "De même pour les cookies :"
   ]
  },
  {
   "cell_type": "code",
   "execution_count": null,
   "id": "31c95bad",
   "metadata": {},
   "outputs": [],
   "source": [
    "%%php\n",
    "\n",
    "return response('Hello World')->cookie('name', 'value', $minutes, $path, $domain, $secure, $httpOnly);"
   ]
  },
  {
   "cell_type": "markdown",
   "id": "e2f4aed3",
   "metadata": {},
   "source": [
    "La méthode `cookie` émule la fonction `setCookie`de PHP.\n",
    "\n",
    "> <div class=\"alert alert-block alert-info\">\n",
    "> <b>Note :</b> Pour les cookies, on peut activer une classe intergicielle du nom de `cache.headers` pour associer un cookie à un groupe de routes.\n",
    "> </div>\n"
   ]
  },
  {
   "cell_type": "code",
   "execution_count": null,
   "id": "4fac7744",
   "metadata": {},
   "outputs": [],
   "source": []
  }
 ],
 "metadata": {
  "kernelspec": {
   "display_name": "Python 3 (ipykernel)",
   "language": "python",
   "name": "python3"
  },
  "language_info": {
   "codemirror_mode": {
    "name": "ipython",
    "version": 3
   },
   "file_extension": ".py",
   "mimetype": "text/x-python",
   "name": "python",
   "nbconvert_exporter": "python",
   "pygments_lexer": "ipython3",
   "version": "3.8.8"
  }
 },
 "nbformat": 4,
 "nbformat_minor": 5
}
