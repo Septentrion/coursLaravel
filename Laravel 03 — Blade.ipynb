{
 "cells": [
  {
   "cell_type": "markdown",
   "id": "447ffca6",
   "metadata": {},
   "source": [
    "# Laravel 2 : Blade\n",
    "\n",
    "\n",
    "## Introduction\n",
    "\n",
    "`Blade` est un moteur de rendu simple, mais puissant. En tant que tel, il sert à crer des gabarits d'affichage. Il se rapproche beaucoup d'autres moteurs comme **Twig** (Symfony) ou **Jinja** (Django). Tous les modèles Blade sont compilés en code PHP et mis en cache jusqu'à ce qu'ils soient modifiés, ce qui signifie que Blade n'ajoute pratiquement aucune surcharge à l'application. \n",
    "\n",
    "Les fichiers des modèles Blade utilisent l'extension de fichier `.blade.php` et sont généralement stockés dans le répertoire `resources/views`.\n",
    "\n",
    "Les vues Blade peuvent être renvoyées depuis les routes ou les contrôleurs en utilisant la fonction de support `view` du routeur."
   ]
  },
  {
   "cell_type": "code",
   "execution_count": null,
   "id": "712b264f",
   "metadata": {},
   "outputs": [],
   "source": [
    "%%php \n",
    "\n",
    "Route::get('/greeting', function () {\n",
    "    return view('greeting', ['name' => 'FINN']);\n",
    "});"
   ]
  },
  {
   "cell_type": "markdown",
   "id": "ac30f593",
   "metadata": {},
   "source": [
    "Dans l'exemple ci-dessus, la route fait directement appel à une fonction anonyme qui rend une **vue** correpondant à un fichier `greeting.blade.php`, auquel est transmis un tableau de données.\n",
    "\n",
    "Le fichier en question pourrait tout simplement ressembler à ceci :"
   ]
  },
  {
   "cell_type": "code",
   "execution_count": null,
   "id": "ffc2b89d",
   "metadata": {},
   "outputs": [],
   "source": [
    "%%html\n",
    "\n",
    "<html>\n",
    "  <head></head>\n",
    "  <body>\n",
    "    <h1>Hello {{ substr(ucfirst($name),0,1) }} !</h1>\n",
    "  </body>\n",
    "</html>"
   ]
  },
  {
   "cell_type": "markdown",
   "id": "7ba06e76",
   "metadata": {},
   "source": [
    "Comme on le voit, un emplacement est ménagé, marqué par les doubles accolades, pour insérer la valeur d'une variable du nom de `name`, dont la valeur est stipulée dans le tableau associatif de la fonction anonyme.\n",
    "\n",
    "De surcroît, cette syntaxe permet d'inclure dans le gabarit Blade du code PHP arbitraire, comme :"
   ]
  },
  {
   "cell_type": "code",
   "execution_count": null,
   "id": "a41823ea",
   "metadata": {},
   "outputs": [],
   "source": [
    "Hello {{ $name }}, il est {{ time() }}"
   ]
  },
  {
   "cell_type": "markdown",
   "id": "fc81e3ea",
   "metadata": {},
   "source": [
    "## Directives Blade\n",
    "\n",
    "Blade offre un certain nombre de « _directives_ », qui permettent d'intervenir sur le comportement des gabarits.\n",
    "\n",
    "### Conditionnelles\n",
    "\n",
    "Faire de l'affichage conditionnel :"
   ]
  },
  {
   "cell_type": "code",
   "execution_count": null,
   "id": "76f120bc",
   "metadata": {},
   "outputs": [],
   "source": [
    "%%blade\n",
    "\n",
    "@if (count($records) === 1)\n",
    "    J’ai un enregistrement !\n",
    "@elseif (count($records) > 1)\n",
    "    J’ai plusieurs enregistrements !\n",
    "@else\n",
    "    Je n’ai aucun enregistrement !\n",
    "@endif"
   ]
  },
  {
   "cell_type": "markdown",
   "id": "bce3cf6e",
   "metadata": {},
   "source": [
    "Blade admet également les conditions `@unless`, `@isset` et `@empty`.\n",
    "\n",
    "On peut également utiliser la structure de contrôle `@switch` qui fonctionne de la même manière qu'en PHP, avec une suite de `@case`."
   ]
  },
  {
   "cell_type": "markdown",
   "id": "0a8a745f",
   "metadata": {},
   "source": [
    "### Exercice\n",
    "\n",
    "On passe à un gabarit Blade le nom d'une personne, la date du jour, un nombre de tâches en cours et un nombre de taches terminées.\n",
    "- On veut affiche le nom de la personne\n",
    "- on veut afficher le nombre total de tâches\n",
    "- s'il reste des tâches en cours, on affiche un message , le texte en couleur orange\n",
    "- Si toutes les tâches sont terminées , on affiche un autre message et le texte en vert."
   ]
  },
  {
   "cell_type": "markdown",
   "id": "1c883e60",
   "metadata": {},
   "source": [
    "### Itérateurs\n",
    "\n",
    "Blade sait itérer sur des listes de valeurs, avec diverses syntaxes de boucles :"
   ]
  },
  {
   "cell_type": "code",
   "execution_count": null,
   "id": "d74ac413",
   "metadata": {},
   "outputs": [],
   "source": [
    "%%blade \n",
    "\n",
    "@for ($i = 0; $i < 10; $i++)\n",
    "     <p>{{ $i }}</p>\n",
    "@endfor\n",
    " \n",
    "@foreach ($users as $user)\n",
    "    <p>Nom : {{ $user->name }}</p>\n",
    "@endforeach\n",
    " \n",
    "@forelse ($users as $user)\n",
    "    <li>Nom : {{ $user->name }}</li>\n",
    "@empty\n",
    "    <p>No users</p>\n",
    "@endforelse\n",
    " \n",
    "@while (true)\n",
    "    <p>Oups ! Une boucle infinie.</p>@endwhile"
   ]
  },
  {
   "cell_type": "markdown",
   "id": "55e564ec",
   "metadata": {},
   "source": [
    "## Exercice\n",
    "\n",
    "On veut afficher une liste de tâches, liste qui est définie dans une variable globale `taskList`.\n",
    "- l'affichage de fait sous forme de liste HTML\n",
    "- chaque tâche est associée à une date de fin.\n",
    "- on voudra compter le nombre de tâches en cours et de tâches terminéeset afficher ces nombres\n"
   ]
  },
  {
   "cell_type": "markdown",
   "id": "c032f297",
   "metadata": {},
   "source": [
    "Les itérateurs Blade possèdent en particulier un variable spéciale, `$loop`, qui permet d'accéder à l'itérateur lui-même. `$loop` est un objet dont lespropriétés sont :"
   ]
  },
  {
   "cell_type": "markdown",
   "id": "658a85ce",
   "metadata": {},
   "source": [
    "| Propriété | Description |\n",
    "|---|---|\n",
    "| index | L'indice courant de la boucle (commence à 0 |\n",
    "| iteration | L'itération courante de la boucle (commence à 1) |\n",
    "| remaining | Le nombre d'itérations restantes |\n",
    "| count | Le nombre total d'itérations |\n",
    "| first | Est-ce la première itération ? |\n",
    "| last | Est-ce la dernière itération ? |\n",
    "| even | Est-ce une itération paire ? |\n",
    "| odd | Est-ce une itération impaire ? |\n",
    "| depth | Le niveau d'imbrication de la boucle courante |\n",
    "| parent | La boucle du niveau immédiatement supérieur |"
   ]
  },
  {
   "cell_type": "markdown",
   "id": "6cadd945",
   "metadata": {},
   "source": [
    "### Autres directives\n",
    "\n",
    "Blade dispose de nombreuses autres directives dont voici quelques exemples :\n",
    "- `@auth` : l'utilisateur est authentifié\n",
    "- `@guest` : l'utilisateur est un invité\n",
    "- `@env` : détermine l'environnement de production ('development', 'staging', 'production', etc.)\n",
    "- `@hasSection` : détermine si une vue hiérarchique à une section\n",
    "- `@sectionMissing` : propose un contenu de remplacement si une section est manquante dans une vue hérarchique\n",
    "- `@php` : permet d'inclure du code PHP arbitraire\n",
    "    \n",
    "Des directivs peuvent modifier des éléments HTML, comme\n",
    "- `@class` : ajoute des classes CSS conditionnelles à un élément du gabarit    "
   ]
  },
  {
   "cell_type": "code",
   "execution_count": null,
   "id": "88d4ec22",
   "metadata": {},
   "outputs": [],
   "source": [
    "%%html\n",
    "\n",
    "@php\n",
    "    $isActive = false;\n",
    "    $hasError = true;\n",
    "@endphp\n",
    " \n",
    "<span @class([\n",
    "    'p-4',\n",
    "    'font-bold' => $isActive,\n",
    "    'text-gray-500' => ! $isActive,\n",
    "    'bg-red' => $hasError,\n",
    "])></span>"
   ]
  },
  {
   "cell_type": "markdown",
   "id": "7a9fdb12",
   "metadata": {},
   "source": [
    "- `@style` : idem mais avec l'attribut `style`\n",
    "- `@checked`, `@disabled`, `@readonly`, `@required` : ajoutent, sous condition, les attributs correspondants à un élément HTML"
   ]
  },
  {
   "cell_type": "code",
   "execution_count": null,
   "id": "f4d0ce13",
   "metadata": {},
   "outputs": [],
   "source": [
    "%%html\n",
    "\n",
    "<input type=\"email\" name=\"email\" value=\"email@laravel.com\" @readonly($user->isNotAdmin()) />"
   ]
  },
  {
   "cell_type": "markdown",
   "id": "d669eea1",
   "metadata": {},
   "source": [
    "<div class=\"alert alert-block alert-info\">\n",
    "<b>Note :</b> Il est possible, en plus de directives natives, de créer ses propres directives\n",
    "</div>"
   ]
  },
  {
   "cell_type": "markdown",
   "id": "5ead529d",
   "metadata": {},
   "source": [
    "## Vue hiérarchiques\n",
    "\n",
    "Le principal intérêt d'utiliser **Blade** plutôt que PHP, c'est de pouvoir **composer** des vues à partir de différents fragments. Ce serait possible de le faire en PHP grâce à des `include` ou `require`, mais le mécanisme serait en fait très différent ; PHP compose les fichiers de manière _descendante_, alors que Blade les compose de manière _ascendente_. Ce serait donc au prix d'un code assez lourd.\n",
    "\n",
    "### Définir le contenu spécifique d'une page\n",
    "\n",
    "Dans une application, ce qui nous intéresse en premier lieu, c'est de dire comment afficher du **contenu**. Ce contenu est différent selon les pages, naturellement. Dans une application de commerce en ligne, nous voudrons une page pour afficher les listes de produits, une page pour afficher les caractéristiques d'un produit, une page sur les conditions de vente, une page pour afficher le panier du client, etc. \n",
    "\n",
    "Ce que nous voudrions, c'est donc un mécanisme qui nous permette de décrire _uniquement_ ces parties, sans avoir ànous préoccuper à chaque fois des parties _communes_ à toutes les pages.\n",
    "\n",
    "Nous allons pouvoir faire cela en définissant des fragments à base de **section**. Une section, repérée par la directive `@section` est juste un conteneur qui encapsule du code HTML :"
   ]
  },
  {
   "cell_type": "code",
   "execution_count": null,
   "id": "34ee63dc",
   "metadata": {},
   "outputs": [],
   "source": [
    "%%blade\n",
    "\n",
    "@section('menu')\n",
    "    <ul>\n",
    "        <li><a href= \"#\">Accueil</a></li>\n",
    "        <li><a href= \"#\">Catalogue</a></li>\n",
    "        <li><a href= \"#\">Connexion</a></li>\n",
    "    </ul>\n",
    "@endsection\n",
    "\n",
    "@section('main')\n",
    "    <!-- Ici le contenu principal de la page -->\n",
    "@endsection"
   ]
  },
  {
   "cell_type": "markdown",
   "id": "7ba17241",
   "metadata": {},
   "source": [
    "Comme on peut le voir, à chaque section est assigné un _nom_, ici `menu` ou `main`. Ces noms sont arbitraires et n'ont aucun rapport avec la syntaxe HTML.\n",
    "\n",
    "Un fragment peut naturellement contenir autant de sections que nécessaire. En revanche, si nous adoptons cette stratégie de mise en page, les fragments ne pourront contenir _que_ des sections. Le reste ne sera pas pris en compte.\n",
    "\n",
    "### Définir une mise en page globale\n",
    "\n",
    "Evidemment, le fichier que nous venons d'écrire ne suffit pas, en lui-même, à afficher les informations comme nous le souhaitons. Pour cela, il nous faudrait un fichier qui contienne le format _global_ de la page. Cela, nous allons le définir dans un fichier spécifique, que les anglophones appellent un « _layout_ ». En français, cela se traduit pas _agencement_, _présentation_, ou encore _mise en page_.\n",
    "\n",
    "Dans cette mise en page, nous allons placer les différentes sections dans des emplacements prévus pour elles dans l'espace de la page. La directive qui indique un emplacement s'appelle `@yield`.\n",
    "\n",
    "Naturellement, nous aurons en général plusieurs sections (`@section`) et plusieurs emplacements (`@yield`). Comment faire les bonnes associations ? En se servant de l'étiquette des sections.\n",
    "\n",
    "Voici un exemple simple de mise en page que l'on pourrait utiliser avec le fragment précédent :"
   ]
  },
  {
   "cell_type": "code",
   "execution_count": null,
   "id": "4707d9e9",
   "metadata": {},
   "outputs": [],
   "source": [
    "%%blade\n",
    "\n",
    "<html>\n",
    "    <head>\n",
    "        <title>Nom du site</title>\n",
    "    </head>\n",
    "    <body>\n",
    "        <header>\n",
    "            @yield('menu')\n",
    "        </header>\n",
    "        <main>\n",
    "            @yield('main')\n",
    "        </main>\n",
    "    </body>\n",
    "</html>"
   ]
  },
  {
   "cell_type": "markdown",
   "id": "f3e905e9",
   "metadata": {},
   "source": [
    "Le nom d'une `@yield` doit correspondre au nom d'une `@section`.\n",
    "\n",
    "Ce n'est pas tout à fait terminé, car une application peut disposer de plusieurs mises en page ! Il faut donc dire dans quel « layout » s'intègre le gabarit. On utilise pour cela la directive `@extends`, ce qui donnerait :"
   ]
  },
  {
   "cell_type": "code",
   "execution_count": null,
   "id": "47fd70e8",
   "metadata": {},
   "outputs": [],
   "source": [
    "%%blade\n",
    "\n",
    "@extends('layouts.app')\n",
    "\n",
    "@section('menu')\n",
    "    <ul>\n",
    "        <li><a href= \"#\">Accueil</a></li>\n",
    "        <li><a href= \"#\">Catalogue</a></li>\n",
    "        <li><a href= \"#\">Connexion</a></li>\n",
    "    </ul>\n",
    "@endsection\n",
    "\n",
    "@section('main')\n",
    "    <!-- Ici le contenu principal de la page -->\n",
    "@ensection"
   ]
  },
  {
   "cell_type": "markdown",
   "id": "1111069d",
   "metadata": {},
   "source": [
    "Dans l'exemple ci-dessus, on attend un fichier `app.blade.php` dans le dossier `/resources/views/layouts`.\n",
    "\n",
    "Admettons que le fichier du fragment s'appelle `products.blade.php`, c'est lui que l'on indiquera à la route pour la réponse :"
   ]
  },
  {
   "cell_type": "code",
   "execution_count": null,
   "id": "c6cfb1a4",
   "metadata": {},
   "outputs": [],
   "source": [
    "Route::get('/greeting', function () {\n",
    "    return view('products');\n",
    "});"
   ]
  },
  {
   "cell_type": "markdown",
   "id": "82816170",
   "metadata": {},
   "source": [
    "On ne fait aucune référence à la mise en page globale.\n",
    "\n",
    "### Comportements spécifiques\n",
    "\n",
    "#### Inclusion\n",
    "\n",
    "cette stratégie « _bottom-up_ », qui reconstruit la page à partir de données de base, peut être complétée avec une stratégie « _top_down_ » analoque à celle de PHP. Il y a pour cela plusieurs directives :\n",
    "- `@include('partials.sidebar', [options => ['calendar', 'rollmap']` : similaire à PHP\n",
    "- `@includeIf('partials.sidebar', [options => ['calendar', 'rollmap']` : Inclusion seulement si le gabarit existe\n",
    "- `@includeWhen(true, 'partials.sidebar', [options => ['calendar', 'rollmap']` : inclusion seulement si le premier paramètre est égal à la valur booléenne `true`\n",
    "- `@includeFirst(['partials.sidebar', defaults.sidebar], [options => ['calendar', 'rollmap']` : Inclusion du premier gabarit trouvé dans la liste\n",
    "\n",
    "la combinaison de ces deux stratégies permet des mises en pages extrêmement sophistiquées ave une simplicité d'écriture assez remarquable.\n",
    "\n",
    "#### Hiérarchies de section\n",
    "\n",
    "La stratégie par défaut de Blade lorsqu'il rencontre un `@section` est de considérer que l'emplacement où l'insérer est _vide_. Or ce n'est pas toujours le cas. Une `@section` peut corresponde à une `@yield`, auquel cas il n'y a pas de problème, mais elle peut correspondre à une autre `@section` dans le gabarit parent. En effet, on peut trouver dans ce dernier la syntaxe suivante :"
   ]
  },
  {
   "cell_type": "code",
   "execution_count": null,
   "id": "e4ffdf79",
   "metadata": {},
   "outputs": [],
   "source": [
    "%%blade\n",
    "\n",
    "@section('events')\n",
    "    <h2>Liste des événements àa venir</h2>\n",
    "@show"
   ]
  },
  {
   "cell_type": "markdown",
   "id": "217d36db",
   "metadata": {},
   "source": [
    "Remarquez que la fin de section n'est pas marquée ici `@endsection`, mais `@show`.\n",
    "\n",
    "Cela veut dire que cette section laisse la porte ouverte pour qu'un gabarit enfant vienne y ajouter du contenu. Or, la stratégie de Blade, considérant la section `events` comme vide, est de **remplacer** son contenu par ce lui de l'enfant. Pour éviter cela, il faudra ajouter une directive `@parent` dans la section de l'enfant :"
   ]
  },
  {
   "cell_type": "code",
   "execution_count": null,
   "id": "14ba6783",
   "metadata": {},
   "outputs": [],
   "source": [
    "%%blade\n",
    "\n",
    "@section('events')\n",
    "    @parent\n",
    "    \n",
    "    <ul>\n",
    "        @foreach($events as $e)\n",
    "            <li>{{ $e }}</li>\n",
    "        @endforeach\n",
    "    </ul>\n",
    "@endsection"
   ]
  },
  {
   "cell_type": "markdown",
   "id": "b0df266d",
   "metadata": {},
   "source": [
    "## Composants\n",
    "\n",
    "\n",
    "Une seconde solution, spécifique à Blade, pour résoudre le problème précédentest est la notion de **composant**, qui est proche de celle utilisée dans React et ses semblables.\n",
    "\n",
    "### Créer un composant\n",
    "\n",
    "En premier lieu, un composant est une classe. Celle-ci peut être créée avec `artisan`."
   ]
  },
  {
   "cell_type": "code",
   "execution_count": null,
   "id": "8673f53a",
   "metadata": {},
   "outputs": [],
   "source": [
    "%%bash\n",
    "\n",
    "php artisan make:component Message"
   ]
  },
  {
   "cell_type": "markdown",
   "id": "01e95567",
   "metadata": {},
   "source": [
    "Ce faisant, `artisan` crée deux fichiers :\n",
    "- Le composant lui-même : `app/View/Component/Message.php`\n",
    "- Le gabarit d'affichage associé : `resources/views/components/message.blade.php`\n",
    "\n",
    "_(avec la configuration par défaut)_\n",
    "\n",
    "\n",
    "La classe de composant sert surtout à faire le rendu, via la méthode `render()`. Elle possède par ailleurs une série de méthodes utilitaires, mais qui ne sont pas essentielles pour le moment.\n",
    "\n",
    "Dans la cas le plus simple, un composant peut juste être un fragment de HTML"
   ]
  },
  {
   "cell_type": "code",
   "execution_count": null,
   "id": "6eb3fb44",
   "metadata": {},
   "outputs": [],
   "source": [
    "<!-- message.blade.php -->\n",
    "<div>\n",
    "    <p> Il est minuit, docteur Schweitzer !</p>\n",
    "</div>"
   ]
  },
  {
   "cell_type": "markdown",
   "id": "f34e4b5a",
   "metadata": {},
   "source": [
    "Si nous voulons importer ce composant dans une autre page, nous devons utiliser une syntaxe particulière qui est du pseudo-HTML :"
   ]
  },
  {
   "cell_type": "code",
   "execution_count": null,
   "id": "30cdf30c",
   "metadata": {},
   "outputs": [],
   "source": [
    "<x-message/>"
   ]
  },
  {
   "cell_type": "markdown",
   "id": "6d45eaa7",
   "metadata": {},
   "source": [
    "Le préfixe `x-` indique au moteur de rendu qu'il a affaire à un composant, dont le nom est ici `message`.\n",
    "\n",
    "### Variables de composant\n",
    "\n",
    "Naturellement, dans la pplupart des cas, on souhaite passer au composant que l'on injecte des valeurs spécifiques, que l'on écrira :"
   ]
  },
  {
   "cell_type": "code",
   "execution_count": null,
   "id": "d8dec170",
   "metadata": {},
   "outputs": [],
   "source": [
    "<x-message time=\"minuit\" :name=\"$name\" />"
   ]
  },
  {
   "cell_type": "markdown",
   "id": "5e66d4cb",
   "metadata": {},
   "source": [
    "Dans les deux attributs ci-dessus, nous remarquons que le second, contrairement au premier est préfixé par `:`. Cela signifie à Blade que sa valeur est une expression PHP. Ici, nous voulons passer la valeur d'une variable PHP `$name` et non la chaîne de caractères \"$name\".\n",
    "\n",
    "Le composant correspondant devrait être réécrit :"
   ]
  },
  {
   "cell_type": "code",
   "execution_count": null,
   "id": "90f27c73",
   "metadata": {},
   "outputs": [],
   "source": [
    "<!-- message.blade.php -->\n",
    "<div>\n",
    "    <p> Il est {{ $time }}, docteur {{ $name }} !</p>\n",
    "</div>"
   ]
  },
  {
   "cell_type": "markdown",
   "id": "00fe848b",
   "metadata": {},
   "source": [
    "Mais on ne peut pas passer directement les valeurs au composant, il faut passer la la _classe_ de composant.\n",
    "\n",
    "Pour cela, il faut paramétrer le constructeur de la classe `Message.php`."
   ]
  },
  {
   "cell_type": "code",
   "execution_count": null,
   "id": "07915d2e",
   "metadata": {},
   "outputs": [],
   "source": [
    "%%php\n",
    "\n",
    "<?php\n",
    " \n",
    "namespace App\\View\\Components;\n",
    " \n",
    "use Illuminate\\View\\Component;\n",
    "use Illuminate\\View\\View;\n",
    " \n",
    "class Message extends Component\n",
    "{\n",
    "    /**\n",
    "     * Définit les attributs ajoutés lors de l’appel au composant\n",
    "     */\n",
    "    public function __construct(\n",
    "        public string $type,\n",
    "        public string $message,\n",
    "    ) {}\n",
    " \n",
    "    /**\n",
    "     * Indique quelle vue doit être affichée lors de l’appel du composant\n",
    "     */\n",
    "    public function render(): View\n",
    "    {\n",
    "        return view('components.alert');\n",
    "    }\n",
    "}"
   ]
  },
  {
   "cell_type": "markdown",
   "id": "4e7f4a9a",
   "metadata": {},
   "source": [
    "<div class=\"alert alert-block alert-info\">\n",
    "<b>Note :</b> Attention aux règles typographiques : si vous utilisez une variable comme `$lastName` (avec une majuscule), l'attribut correspondant sera `last-name` (en minuscules avec un tiret).\n",
    "</div>"
   ]
  },
  {
   "cell_type": "markdown",
   "id": "cf055739",
   "metadata": {},
   "source": [
    "### Options des composants\n",
    "\n",
    "Les composants Blade on des comportements complexes qui sont hors de la portée de ctte introduction et qui feront l'objet dun documentspécifique."
   ]
  },
  {
   "cell_type": "markdown",
   "id": "9a2234d4",
   "metadata": {},
   "source": []
  }
 ],
 "metadata": {
  "kernelspec": {
   "display_name": "Python 3 (ipykernel)",
   "language": "python",
   "name": "python3"
  },
  "language_info": {
   "codemirror_mode": {
    "name": "ipython",
    "version": 3
   },
   "file_extension": ".py",
   "mimetype": "text/x-python",
   "name": "python",
   "nbconvert_exporter": "python",
   "pygments_lexer": "ipython3",
   "version": "3.8.8"
  }
 },
 "nbformat": 4,
 "nbformat_minor": 5
}
