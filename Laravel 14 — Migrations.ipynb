{
 "cells": [
  {
   "cell_type": "markdown",
   "id": "83e1bef6",
   "metadata": {},
   "source": [
    "# Les migrations\n",
    "\n",
    "## Introduction\n",
    "\n",
    "Les **migrations** constituent le moyen désormais convenu de créer et modifier les schémas de bases de données relationnelles selon les pratiques des gestions de versions.\n",
    "\n",
    "Elles permettent de garder une trace des modifications successives (dans la base de données elle-même) et donc de pouvoir revenir à un état antérieur du schéma en cas de besoin.\n",
    "\n",
    "Dans le cas de `Laravel`, les migrations constituent un point essentiel de la définition du modèle de données puisque les entités (appelées de manière assez confuse « _modèles_ », contennent très peu de choses.\n",
    "\n",
    "Les migrations ne sont donc pas ici, comme dans `Symfony`, une simple opération automatique transcrivant la structure d'une entité en son équivalent SQL, mais des classes dans lesquelles le développeur devra manuellement coder les modifications successives du schéma de la base de données de sbn application."
   ]
  },
  {
   "cell_type": "markdown",
   "id": "c496ed15",
   "metadata": {},
   "source": [
    "## Pré-requis\n",
    "\n",
    "Le rôle d'une migration est de modifier le schéma d'une base de données.Il faut donc que celle-ci existe au préalable.\n",
    "\n",
    "Vous devrez donc vérifier que :\n",
    "\n",
    "1. le fichier `.env` contient les bonnes informations de configuration de la connexion, par exemple :"
   ]
  },
  {
   "cell_type": "code",
   "execution_count": null,
   "id": "1dcdc3fa",
   "metadata": {},
   "outputs": [],
   "source": [
    "DB_CONNECTION=mysql\n",
    "DB_HOST=127.0.0.1\n",
    "DB_PORT=8889\n",
    "DB_DATABASE=dm22_amap\n",
    "DB_USERNAME=root\n",
    "DB_PASSWORD=root"
   ]
  },
  {
   "cell_type": "markdown",
   "id": "4d231529",
   "metadata": {},
   "source": [
    "2. le fichier de configuration `config/database.php` importe ces données (c'est normaleent le cas par défaut)\n",
    "3. vous avez créé la base de données sur votre serveur préféré.\n",
    "\n",
    "> **Note** \n",
    ">\n",
    "> Il n'existe pas de commande pour créer la base de données, aussi étrange que cela puisse paraître. Nous verrons plus tard que créer cette commande est pourtant très simple."
   ]
  },
  {
   "cell_type": "markdown",
   "id": "3d8a9da3",
   "metadata": {},
   "source": [
    "## Une migration simple\n",
    "\n",
    "Pour créer une migration, il existe une commande :"
   ]
  },
  {
   "cell_type": "code",
   "execution_count": null,
   "id": "bf3576b9",
   "metadata": {},
   "outputs": [],
   "source": [
    "%%bash\n",
    "\n",
    "php artisan make:migration nouvelle_migration"
   ]
  },
  {
   "cell_type": "markdown",
   "id": "e024b9be",
   "metadata": {},
   "source": [
    "où `nouvelle_migration` est un nom arbitraire.\n",
    "\n",
    "Cette commande crée un classe dans le dossier `/database/migrations` et celle-ci contient principalement deux méthodes : `up` et `down`.\n",
    "\n",
    "- `up` applique la migration\n",
    "- `down` permet de revenir à un état antérieur du schéma de la base.\n",
    "\n",
    "Le nom de la migration est un indicateur important pour `Laravel`, qui essaie de deviner quele est son propos. Un nom comme `create_product_table` indiquera à `Laravel` qu'il doit incorporer une fonction de création de table.\n",
    "\n",
    "### Relation entre modèle et migration\n",
    "\n",
    "D'une manière générale, une première migration peut être créée lorsqu'un nouveau modèle est ajouté à l'application, ne serait-ce que pour créer la table correspondante. Cela se traduit par la commande :"
   ]
  },
  {
   "cell_type": "code",
   "execution_count": null,
   "id": "aee4c8ff",
   "metadata": {},
   "outputs": [],
   "source": [
    "%%bash\n",
    "\n",
    "php artisan make:model Product --migration"
   ]
  },
  {
   "cell_type": "markdown",
   "id": "9f0b62ea",
   "metadata": {},
   "source": [
    "> **Note** L'option `--migration` est contenue dans l'option globale `--all`\n",
    "\n",
    "Toutefois, vous pouvez aussi préférer configurer le modèle (cf. [Modèles]()), puis créer la migration afin de bénéficier de ces éléments de configuration (personnalisation de la clef primaire, gestion des dates administratives, etc.)\n",
    "\n",
    "### Création d'une table\n",
    "\n",
    "Pour créer une table via une migration, il existe une méthode statique `create`."
   ]
  },
  {
   "cell_type": "code",
   "execution_count": null,
   "id": "8ff214ae",
   "metadata": {},
   "outputs": [],
   "source": [
    "%%php\n",
    "\n",
    "public function up()\n",
    "{\n",
    "    Schema::create('contacts', function (Blueprint $table) \n",
    "    {\n",
    "            $table->id();\n",
    "            $table->string('name');\n",
    "            $table->string('mobile_no');\n",
    "            $table->boolean('status');\n",
    "            $table->timestamps();\n",
    "    });\n",
    "}"
   ]
  },
  {
   "cell_type": "markdown",
   "id": "e4f3bcbe",
   "metadata": {},
   "source": [
    "Le point principal ici est la classe `Blueprint`, qui possède une grande variété de méthodes, sur la base des types SQL, pour créer les colonnes de la table.\n",
    "\n",
    "Vous trouverez la référence de toutes ces fonctions dans la [documentation de Laravel](https://laravel.com/docs/10.x/migrations#columns), tout comme la liste des [types disponibles](https://laravel.com/docs/10.x/migrations#available-column-types).\n",
    "\n",
    "### Application des migrations\n",
    "\n",
    "Une fois une migration définie, il ne reste plus qu'à l'appliquer. il y a pour cela une autre commande :"
   ]
  },
  {
   "cell_type": "code",
   "execution_count": null,
   "id": "18a999ce",
   "metadata": {},
   "outputs": [],
   "source": [
    "%%bash\n",
    "\n",
    "php artisan migrate"
   ]
  },
  {
   "cell_type": "markdown",
   "id": "f468b24e",
   "metadata": {},
   "source": [
    "Si vous regardez dans votre base de données, vous constaterez qu'une nouvelle table, appelée par défaut `migrations` a été créée. C'est là que tout l'historique des modifications du schéma de votre base sera conservé.\n",
    "\n",
    "### Modification d'une table\n",
    "\n",
    "Une fois une table créée, si vous voulez modifier sa structure, il existe plusieurs méthodes :"
   ]
  },
  {
   "cell_type": "code",
   "execution_count": null,
   "id": "c17700d2",
   "metadata": {},
   "outputs": [],
   "source": [
    "%%php\n",
    "\n",
    "//  Modification des colonnes\n",
    "Schema::table('products', function(Blueprint $table) {\n",
    "    /* ... */\n",
    "});\n",
    "        \n",
    "// Renommage d’une table\n",
    "// Attention à d’éventuelles clefs étrangères pointant vers cette table !\n",
    "Schema::rename('types', 'product_types');\n",
    "        \n",
    "// Suppression d’une table\n",
    "Schema::dropIfExists('types');"
   ]
  },
  {
   "cell_type": "markdown",
   "id": "4d048094",
   "metadata": {},
   "source": [
    "## Autres fonctionnalités\n",
    "\n",
    "### Informations par défaut\n",
    "\n",
    "Lorsque l'on crée une nouvelle migration, Eloquent prévoit déjà des colonnes par défaut qui sont :\n",
    "- `id`, pour la clef primaire ;\n",
    "- `created_at` et `updated_at`, comme dates de gestion des données.\n",
    "\n",
    "#### Clef primaire\n",
    "\n",
    "Eloquent suppose que la clef primaire s'appelle `id` et qu'elle est à la fois numérique et auto-incrémentée. C'est le sens de la méthode `$table->id()`.\n",
    "\n",
    "Totefois, nous pouvons définir notre propre clef primaire en définissant une colonne et en la déclarant comme clef primaire :"
   ]
  },
  {
   "cell_type": "code",
   "execution_count": null,
   "id": "141c3770",
   "metadata": {},
   "outputs": [],
   "source": [
    "%%php\n",
    "\n",
    "$table->string('email', 128);\n",
    "$table->primary('email');"
   ]
  },
  {
   "cell_type": "markdown",
   "id": "101d5cdc",
   "metadata": {},
   "source": [
    "Au passage, on remarque les paramètres optionnels pour les méthodes de types. Ici, la longueur d'affichage de `email` est de 128 caractères.\n",
    "\n",
    "La clef primaire peut éventuellement être définie sur plusieurs colonnes, en passant un tableau. En revanche, il ne semble pas possible de prendre des fragments des colonnes (p.ex. les 30 premiers caractères de `email`).\n",
    "\n",
    "#### Dates de gestion\n",
    "\n",
    "La fonction `timestamps()` crée les deux colonnes `created_at`et `updated_at`. Naturellement, ces informations sont tout à fait facultatives. Si votre schéma ne les prévoit pas, vous pouvez alors supprimer la ligne de code.\n",
    "\n",
    "### Index et clefs étrangères\n",
    "\n",
    "En dehors de la clef primaire, vous trouverez dans `Blueprint` ce qu'il faut pour déclarer des index divers.\n",
    "\n",
    "#### Index\n",
    "\n",
    "Pour les index simples, il suffit de la méthode `index` :"
   ]
  },
  {
   "cell_type": "code",
   "execution_count": null,
   "id": "e9188440",
   "metadata": {},
   "outputs": [],
   "source": [
    "%%php\n",
    "\n",
    "$table->string('email', 128);\n",
    "$table->index('email');"
   ]
  },
  {
   "cell_type": "markdown",
   "id": "9a4a9e7a",
   "metadata": {},
   "source": [
    "Là non plus, Eloquent ne prévoir pas de créer unindex sur une portion de la chaîne de caractères. En revanche, l'index peut être composé :"
   ]
  },
  {
   "cell_type": "code",
   "execution_count": null,
   "id": "4d6d5d8f",
   "metadata": {},
   "outputs": [],
   "source": [
    "%%php\n",
    "\n",
    "$table->string('prenom');\n",
    "$table->string('nom');\n",
    "$table->index([prenom', 'nom'], 'index_nom_prenom');"
   ]
  },
  {
   "cell_type": "markdown",
   "id": "dad86978",
   "metadata": {},
   "source": [
    "Comme on le voit, il est possible de donner un nom explicite à l'index, mais dans les faits cela est rarement utile.\n",
    "\n",
    "#### Valeurs uniques\n",
    "\n",
    "De la même manière, si une colonne requiert des valeurs toutes diférentes, vous pourrez utiliser la méhode `unique()` :"
   ]
  },
  {
   "cell_type": "code",
   "execution_count": null,
   "id": "e5da8181",
   "metadata": {},
   "outputs": [],
   "source": [
    "%%php\n",
    "\n",
    "$table->string('email', 128);\n",
    "$table->unique('email');"
   ]
  },
  {
   "cell_type": "markdown",
   "id": "48d02c17",
   "metadata": {},
   "source": [
    "#### Clefs étrangères\n",
    "\n",
    "Pour définir une clef étrangère, la syntaxe est un tout petit plus longue :"
   ]
  },
  {
   "cell_type": "code",
   "execution_count": null,
   "id": "addfedfe",
   "metadata": {},
   "outputs": [],
   "source": [
    "%%php\n",
    "\n",
    "$table->string('cusomerNumber', 128);\n",
    "$table->foreign('customerNumber')->references('id')->on('customers');"
   ]
  },
  {
   "cell_type": "markdown",
   "id": "0250e6df",
   "metadata": {},
   "source": [
    "où :\n",
    "- `references` désigne la colonne cible dans la table distante (généralement une clef primaire)\n",
    "- `on` désigne le nom de la table distante.\n",
    "\n",
    "Lorsque l'on crée une base de données, l'ordre des migrations peut avoir de l'importance. Rn effet, la clef étrangère ne pourra être créée que si la clef primaire correpondante existe. En cas d'inversion, il est toujours possible de modifier le schéma d'une table avec la méthode `Schema::table` :"
   ]
  },
  {
   "cell_type": "code",
   "execution_count": null,
   "id": "42b64a28",
   "metadata": {},
   "outputs": [],
   "source": [
    "%%php\n",
    "\n",
    "Schema::create('customers', function (Blueprint $table) { /* ...*/});\n",
    "\n",
    "Schema::table('payments', function (Blueprint $table) {\n",
    "    $table->foreign('customerNumber')->references('id')->on('customers');\n",
    "})"
   ]
  },
  {
   "cell_type": "markdown",
   "id": "67eda0b1",
   "metadata": {},
   "source": [
    "Dans l'exemple ci-dessus, la migration va créer la tables `customers` pui modifier `payments`oury intégrer la clef étrangère.\n",
    "\n",
    "#### Indexation de texte intégral\n",
    "\n",
    "Pour certains besoins, il est également possible, pour les colnnes des type texte, d'ajouter un index pour accélerer la recherche :"
   ]
  },
  {
   "cell_type": "code",
   "execution_count": null,
   "id": "6d268891",
   "metadata": {},
   "outputs": [],
   "source": [
    "%%php\n",
    "\n",
    "$table->text('description');\n",
    "$table->fullText('email');"
   ]
  },
  {
   "cell_type": "markdown",
   "id": "0836558e",
   "metadata": {},
   "source": [
    "## Modification du schéma\n",
    "\n",
    "Lors de la première migration méthode `up()` est assez simple, car tout est à créer. \n",
    "\n",
    "Par la suite, nous serons peut-être amenés à supprimr ddes colonnes, des index, changer de nom, etc. Cela est typiquement le cas lorsqu'il faudra implémente un méthode `down()` pour restaurer un état antérieur.\n",
    "\n",
    "Parallèlement à ce que nous avons décrit précédemment, `Blueprint` dispose de méthodes pour toutes ces tâches."
   ]
  },
  {
   "cell_type": "markdown",
   "id": "b579fe07",
   "metadata": {},
   "source": [
    "## Commandes pour la gestion des migrations\n",
    "\n",
    "Nous avons vu pour créer une classe de migration, nous avions recour à la commande :"
   ]
  },
  {
   "cell_type": "code",
   "execution_count": null,
   "id": "67f75f7a",
   "metadata": {},
   "outputs": [],
   "source": [
    "%%bash\n",
    "\n",
    "php artisan make:migration"
   ]
  },
  {
   "cell_type": "markdown",
   "id": "4ba89317",
   "metadata": {},
   "source": [
    "Puis pour effectuer la migration :"
   ]
  },
  {
   "cell_type": "code",
   "execution_count": null,
   "id": "703e36fc",
   "metadata": {},
   "outputs": [],
   "source": [
    "%%bash\n",
    "\n",
    "php artisan migrate"
   ]
  },
  {
   "cell_type": "markdown",
   "id": "28413e39",
   "metadata": {},
   "source": [
    "Pour revenir à un état antérieur, utilisez la commande :"
   ]
  },
  {
   "cell_type": "code",
   "execution_count": null,
   "id": "0c40c041",
   "metadata": {},
   "outputs": [],
   "source": [
    "%%bash\n",
    "\n",
    "php artisan migrate:rollback --step=3"
   ]
  },
  {
   "cell_type": "markdown",
   "id": "20bb24b2",
   "metadata": {},
   "source": [
    "En ajoutant l'option `step`, pous pourrez revenir de plusieurs étapes en arrière.\n",
    "\n",
    "Vous pouvez également annuler une migration et en lancer une nouvelle (p.ex. en cas d'erreur) :"
   ]
  },
  {
   "cell_type": "code",
   "execution_count": null,
   "id": "b014c1ec",
   "metadata": {},
   "outputs": [],
   "source": [
    "%%bash \n",
    "\n",
    "php artisan migrate:refresh"
   ]
  },
  {
   "cell_type": "markdown",
   "id": "96815838",
   "metadata": {},
   "source": [
    "Et enfin, si vous voulez repartir de zéro :"
   ]
  },
  {
   "cell_type": "code",
   "execution_count": null,
   "id": "1c0f1a0c",
   "metadata": {},
   "outputs": [],
   "source": [
    "%%bash \n",
    "\n",
    "php artisan migrate:fresh"
   ]
  },
  {
   "cell_type": "markdown",
   "id": "41ac4109",
   "metadata": {},
   "source": [
    "Vous pouvez également faire une sauvegarde de l'historique des migrations avec la commande :"
   ]
  },
  {
   "cell_type": "code",
   "execution_count": null,
   "id": "25462ab7",
   "metadata": {},
   "outputs": [],
   "source": [
    "php artisan schema:dump --prune"
   ]
  },
  {
   "cell_type": "markdown",
   "id": "05655018",
   "metadata": {},
   "source": [
    "Dans ce cas `Laravel`créera un fichier dans le répertoire `database/schema` pour synthétiser en une seule migration toutes celles que vous avez déjà exécutées précédemment. L'option `--prune` indique que les migrations passées doivent être écrasées.\n",
    "\n",
    "Si vous voulez migrer votre base de données, `Laravel` commencera par exécuter le instructions du fichier de « _dump_ » avant d'éventuelles migrations restantes."
   ]
  }
 ],
 "metadata": {
  "kernelspec": {
   "display_name": "Python 3 (ipykernel)",
   "language": "python",
   "name": "python3"
  },
  "language_info": {
   "codemirror_mode": {
    "name": "ipython",
    "version": 3
   },
   "file_extension": ".py",
   "mimetype": "text/x-python",
   "name": "python",
   "nbconvert_exporter": "python",
   "pygments_lexer": "ipython3",
   "version": "3.8.8"
  },
  "widgets": {
   "application/vnd.jupyter.widget-state+json": {
    "state": {},
    "version_major": 2,
    "version_minor": 0
   }
  }
 },
 "nbformat": 4,
 "nbformat_minor": 5
}
