{
 "cells": [
  {
   "cell_type": "markdown",
   "id": "3d8a9da3",
   "metadata": {},
   "source": [
    "# Les migrations\n",
    "\n",
    "## Introduction\n",
    "\n",
    "## Une migration simple\n",
    "\n",
    "Pour créer une migration, il existe une commande :"
   ]
  },
  {
   "cell_type": "code",
   "execution_count": null,
   "id": "bf3576b9",
   "metadata": {},
   "outputs": [],
   "source": [
    "%%bash\n",
    "\n",
    "php artisan make:migration nouvelle_migration"
   ]
  },
  {
   "cell_type": "markdown",
   "id": "9f0b62ea",
   "metadata": {},
   "source": [
    "où `nouvelle_migration` est un nom arbitraire.\n",
    "\n",
    "Cette commande crée un classe dans le dossier `/database/migrations` et celle-ci contient principalement deux méthodes : `up` et `down`.\n",
    "\n",
    "- `up` applique la migration\n",
    "- `down` permet de revenir à un état antérieur du schéma de la base (un peu comme un gestinnaire de versions)\n",
    "\n",
    "### Création d'une table\n",
    "\n",
    "Pour créer une table via une migration, il existe une méthode statique `create`."
   ]
  },
  {
   "cell_type": "code",
   "execution_count": null,
   "id": "8ff214ae",
   "metadata": {},
   "outputs": [],
   "source": [
    "%%php\n",
    "\n",
    "public function up()\n",
    "{\n",
    "    Schema::create('contacts', function (Blueprint $table) \n",
    "    {\n",
    "            $table->id();\n",
    "            $table->string('name');\n",
    "            $table->string('mobile_no');\n",
    "            $table->boolean('status');\n",
    "            $table->timestamps();\n",
    "    });\n",
    "}"
   ]
  },
  {
   "cell_type": "markdown",
   "id": "e4f3bcbe",
   "metadata": {},
   "source": [
    "Le point principal ici est la classe `Blueprint`, qui possède une grande variété de méthodes, sur la base des types SQL, pour créer les colonnes de la table.\n",
    "\n",
    "Vous trouverez la référence de toutes ces fonctions dans la [documentation de Laravel](https://laravel.com/docs/9.x/migrations#columns)\n",
    "\n",
    "### Application des migrations\n",
    "\n",
    "Une fois une migration définie, il ne reste plus qu'à l'appliquer. il y a pour cela une autre commande :"
   ]
  },
  {
   "cell_type": "code",
   "execution_count": null,
   "id": "18a999ce",
   "metadata": {},
   "outputs": [],
   "source": [
    "%%bash\n",
    "\n",
    "php artisan migrate"
   ]
  },
  {
   "cell_type": "markdown",
   "id": "4faf79eb",
   "metadata": {},
   "source": [
    "## Autres fonctionnalités\n"
   ]
  }
 ],
 "metadata": {
  "kernelspec": {
   "display_name": "Python 3 (ipykernel)",
   "language": "python",
   "name": "python3"
  },
  "language_info": {
   "codemirror_mode": {
    "name": "ipython",
    "version": 3
   },
   "file_extension": ".py",
   "mimetype": "text/x-python",
   "name": "python",
   "nbconvert_exporter": "python",
   "pygments_lexer": "ipython3",
   "version": "3.8.8"
  }
 },
 "nbformat": 4,
 "nbformat_minor": 5
}
