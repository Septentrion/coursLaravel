{
 "cells": [
  {
   "cell_type": "markdown",
   "id": "4fcdc003",
   "metadata": {},
   "source": [
    "# Services"
   ]
  },
  {
   "cell_type": "markdown",
   "id": "4c492c8f",
   "metadata": {},
   "source": [
    "## Introduction\n",
    "\n",
    "La notion de **service** est essentielle dans toutes les architectures logicielles modernes. \n",
    "\n",
    "> **Note** En allant au bout de la logique, certaines applications sont décomposées en multiples services indépendants appelés « _microservices_ », qui peuvent être hébergés sur des serveurs arbitraires, comme les services « _en nuages_ » (cloud computing).\n",
    "\n",
    "Les services sont les classes qui contiennent toute la logique « _métier_ » de l'application.\n",
    "\n",
    "La structure de base, qui comprend (avec Laravel) les **modèles**, les **contrôleurs**, les **vues**, etc. est en charge pruincipalement de la **gestion** des données et des requêtes de l'utilisateur. Ce sont souvent des fonctionnalités qui se ressemblent d'une appication à l'autre. Ce sont des services qui sont véritablement la **chair** spécifique du domaine.\n",
    "\n",
    "L'architecture **MVC** (ou une équivalente) n'est donc pas vraiment suffisante pour représenter une application complète.\n",
    "\n",
    "Dans les applications basées sur les services, il y a deux notions extrêmement importantes à garder en tête et sur lesquelles nous reviendrons :\n",
    "- la notion de **conteneur de services**\n",
    "- la notion (collatérale) d'**injection de dépendance**"
   ]
  },
  {
   "cell_type": "markdown",
   "id": "2b317112",
   "metadata": {},
   "source": [
    "## Qu'est-ce qu'un service ?\n",
    "\n",
    "En termes logiciels, un service est un module/paquetage qui implémente des fonctionnalités propres à une partie cohérente de l'application, en lien avec unepartie cohérente des métiers qu'automatise l'application.\n",
    "\n",
    "Par exemple, dans une application de commerce en ligne, la question de la livraison pourrait constituer un service, prenant en charge le calcul des frais de livraison, le choix d'un livreur, la vérification de la livraison, etc.\n",
    "\n",
    "Naturellement, comme dans toute architecture, les forntières sont souvent arbitraires et on peut vouloir consttuer des services plus ou moins « _gros_ ».\n",
    "\n",
    "En `PHP`, un service est donc principalement une classe qui implémente les fonctions requises (p. ex. une mathode pour calculer les frais de livraison en fonction de la localisation du client). Rien de plus. Souvent, on regroupera les services apparentés en paquetages de manière à constituer des classes qui ont une responsabilité limitée, conformément aux bonnes pratiques.\n",
    "\n",
    "Voici une classe de service extrêmement simpliste :"
   ]
  },
  {
   "cell_type": "code",
   "execution_count": 1,
   "id": "12c11f79",
   "metadata": {},
   "outputs": [
    {
     "ename": "SyntaxError",
     "evalue": "invalid syntax (2795157088.py, line 1)",
     "output_type": "error",
     "traceback": [
      "\u001b[0;36m  Cell \u001b[0;32mIn[1], line 1\u001b[0;36m\u001b[0m\n\u001b[0;31m    <?php\u001b[0m\n\u001b[0m    ^\u001b[0m\n\u001b[0;31mSyntaxError\u001b[0m\u001b[0;31m:\u001b[0m invalid syntax\n"
     ]
    }
   ],
   "source": [
    "<?php\n",
    "namespace App\\Services;\n",
    "\n",
    "final class Foo\n",
    "{\n",
    "    public function lazy (int $x): int\n",
    "    {\n",
    "        return $x;\n",
    "    }\n",
    "}"
   ]
  },
  {
   "cell_type": "markdown",
   "id": "8c10bd35",
   "metadata": {},
   "source": [
    "### Injection de dépendance\n",
    "\n",
    "Dans les architectures basées sur les services, on utilise un « **modèle de conception** » appelé **injection de dépendance**.\n",
    "\n",
    "L'injection de dépendance consiste principalement à déclarer qu'une classe dépend d'une autre classe en déclarant cette dernière comme paramètre du constructeur.\n",
    "\n",
    "Imaginons qu'une classe **A** ait besoin des fonctionnalités de la classe **Foo** (donc _dépende_ de cette classe), nous aurons donc juste besoin d'écrire :"
   ]
  },
  {
   "cell_type": "code",
   "execution_count": null,
   "id": "1a48615f",
   "metadata": {},
   "outputs": [],
   "source": [
    "%%php\n",
    "\n",
    "namespace App\\Random;\n",
    "\n",
    "use App\\Services\\Foo;\n",
    "\n",
    "final class A\n",
    "{\n",
    "    public function __construct (\n",
    "        private Foo $foo\n",
    "    )\n",
    "    {\n",
    "    }\n",
    "    \n",
    "    public function f()\n",
    "    {\n",
    "        return $this->foo->lazy(5);\n",
    "    }\n",
    "}"
   ]
  },
  {
   "cell_type": "markdown",
   "id": "fab0a033",
   "metadata": {},
   "source": [
    "Par la suite, il nous suffit d'écrire l'appel suivant :"
   ]
  },
  {
   "cell_type": "code",
   "execution_count": null,
   "id": "dd3a5d7d",
   "metadata": {},
   "outputs": [],
   "source": [
    "%%php\n",
    "\n",
    "$a = new A(newFoo());\n",
    "$a->f();"
   ]
  },
  {
   "cell_type": "markdown",
   "id": "c3ed4eac",
   "metadata": {},
   "source": [
    "Nous avons déjà gagné en flexibilité par rapport à la situation où la dépendance serai déclarée **dans** le constructeur. D'ailleurs, pour être tout à fait correct, la classe `A` devrait déclarer :"
   ]
  },
  {
   "cell_type": "code",
   "execution_count": null,
   "id": "f99677ae",
   "metadata": {},
   "outputs": [],
   "source": [
    "%%php\n",
    "\n",
    "public function __construct (private FooInterface $foo) { /* ...*/}"
   ]
  },
  {
   "cell_type": "markdown",
   "id": "3713d0cf",
   "metadata": {},
   "source": [
    "et la classe `Foo` :"
   ]
  },
  {
   "cell_type": "code",
   "execution_count": 2,
   "id": "173abba0",
   "metadata": {
    "collapsed": true
   },
   "outputs": [
    {
     "ename": "SyntaxError",
     "evalue": "invalid syntax (4098221863.py, line 1)",
     "output_type": "error",
     "traceback": [
      "\u001b[0;36m  Cell \u001b[0;32mIn[2], line 1\u001b[0;36m\u001b[0m\n\u001b[0;31m    final class Foo implements FooInterface {/* ... */}\u001b[0m\n\u001b[0m          ^\u001b[0m\n\u001b[0;31mSyntaxError\u001b[0m\u001b[0;31m:\u001b[0m invalid syntax\n"
     ]
    }
   ],
   "source": [
    "final class Foo implements FooInterface {/* ... */}"
   ]
  },
  {
   "cell_type": "markdown",
   "id": "a88535be",
   "metadata": {},
   "source": [
    "Néanmoins, nous allons devoir faire face à un problème dès que la chaîne des dépendances va s'allonger. Nous allons devoir instancier de nombreuses classes.\n",
    "\n",
    "De surcroît, si nous utilisons des bibliothèques tierces, nous ne saurons pas toujours quelles sont les dépendances ces classes que nous utilisons.\n",
    "\n",
    "Enfin... Avec des environnements comme Laravel ou Symfony, notre code instanciera assez rarement explicitement des classes de services (c'est d'ailleurs désormais considéré une mauuvaise pratique).\n",
    "\n",
    "Donc, comment faire ?"
   ]
  },
  {
   "cell_type": "markdown",
   "id": "12771f84",
   "metadata": {},
   "source": [
    "### Le conteneur de services\n",
    "\n",
    "Pour résoudre ces problèmes, Symfony ou Laravel on recours à un objet qui répertorie tous les services et qui, pour cette raison, est appelé **conteneur de services**.\n",
    "\n",
    "Ce conteneur est contrauit au lancement de l'application.\n",
    "\n",
    "Il scanne toutes les classes de l'application et examine leur constructeur pour savoir de quelles autres classes elles dépendent. Et ceci récursivement.\n",
    "\n",
    "A la fin du processus, le conteneur contient un instance unique de chaque service (un singleton) qui est prêt à être appelé par l'application.\n",
    "\n",
    "> **Note** En réalité, le processus est un peu plus complexe car le compilateur du conteneur utilise diverses stratégies pour optimiser celui-ci.\n",
    "\n",
    "Ainsi, nous n'aurons plus jamais à nous préoccuper des sépendances des services que nous appelons. Ils sont toujours pré-configurés par l'nevironnement lui-même."
   ]
  },
  {
   "cell_type": "markdown",
   "id": "e57cf304",
   "metadata": {},
   "source": [
    "### Cas particulier des contrôleurs\n",
    "\n",
    "Comme nous l'avons dit, le cas général est d'injecter les dépendances _par le constructeur_.\n",
    "\n",
    "Les classes de contrôleurs ont une spécificité à cet égard puisque chaque contrôleur peut déclarer des dépendances. Ceci paraît assez logique car chaque contrôleur est indépendant des autres, même au sein d'une même classe.\n",
    "\n",
    "Typiquement, on verra donc ce genre de méthode :"
   ]
  },
  {
   "cell_type": "code",
   "execution_count": null,
   "id": "8b09c3d0",
   "metadata": {},
   "outputs": [],
   "source": [
    "%%php\n",
    "\n",
    "public function insert(Request $request, ProductRepository $rep) { /* ... */ }"
   ]
  },
  {
   "cell_type": "markdown",
   "id": "c08b5689",
   "metadata": {},
   "source": [
    "où l'on aura besoin :\n",
    "- du service `Request` (qui représente la requête HTTP \n",
    "- et du service `ProductRepository` (qui assure la communication entre l'entité `Product`et la base de données)."
   ]
  },
  {
   "cell_type": "markdown",
   "id": "f68d5405",
   "metadata": {},
   "source": [
    "### Utilisation des services\n",
    "\n",
    "L'utilisation des services est donc transparente pour le développeur.\n",
    "\n",
    "Chaque classe ajoutée à l'application sera automatiquement prise en charge par le conteneur de services."
   ]
  },
  {
   "cell_type": "markdown",
   "id": "fef445b1",
   "metadata": {},
   "source": [
    "## Les fournisseurs de services de Laravel\n",
    "\n",
    "Laravel maintient, en plus du conteneur de services un ensemble de classes appelées « **fournisseurs de services** ».\n",
    "\n",
    "Ces classes sont hébergées dans le dossier : `app/Providers`.\n",
    "\n",
    "Ces classes sont le cœur du processus de lancement de `Laravel`. Tous les services, les vôtres ou ceux du noyau, sont initialisés par l'une d'elle. \n",
    "\n",
    "Ce sont elles qui vont, justement :\n",
    "- constreuire le conteneur de services\n",
    "- enregistrer des écouteurs d'événements\n",
    "- mettre en place les classes intergicielles (_middleware_)\n",
    "- déclarer les routes\n",
    "- etc.\n",
    "\n",
    "Tous les fournisseurs de services sont déclarées dans le fichier `config/app.php`, à la section `providers`.\n",
    "\n",
    "### Pourquoi créer un fournisseur de services ?\n",
    "\n",
    "Dans les versions récentes, il n'est pas indispensable de déclarer les services par le biais d'un fournisseur de services. Le noyau détecte automatiquement les chaînes de dépendance.\n",
    "\n",
    "Reste donc le cas où nous avons besoin de **configurer** le service, par le biais d'uun fichier de configuration, contenu dans le dossier `config`.\n",
    "\n",
    "Un exemple particulier est le fournisseur `RouteServiceProvider`, qui permet de configurer le processus de routage, au-delà des classes elles-mêmes."
   ]
  },
  {
   "cell_type": "markdown",
   "id": "df40a8d4",
   "metadata": {},
   "source": [
    "### Créer son propre fournisseur des services\n",
    "\n"
   ]
  },
  {
   "cell_type": "markdown",
   "id": "48d4d73c",
   "metadata": {},
   "source": []
  }
 ],
 "metadata": {
  "kernelspec": {
   "display_name": "Python 3 (ipykernel)",
   "language": "python",
   "name": "python3"
  },
  "language_info": {
   "codemirror_mode": {
    "name": "ipython",
    "version": 3
   },
   "file_extension": ".py",
   "mimetype": "text/x-python",
   "name": "python",
   "nbconvert_exporter": "python",
   "pygments_lexer": "ipython3",
   "version": "3.8.8"
  }
 },
 "nbformat": 4,
 "nbformat_minor": 5
}
