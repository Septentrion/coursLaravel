{
 "cells": [
  {
   "cell_type": "markdown",
   "id": "3d8a9da3",
   "metadata": {},
   "source": [
    "# Les migrations\n",
    "\n",
    "## Introduction\n",
    "\n",
    "Les **migrations** constituent le moyen désormais convenu de créer et modifier les schémas de bases de données relationnelles selon les pratiques des gestions de versions.\n",
    "\n",
    "Elles permettent de garder une trace des modifications successives (dans la base de données elle-même) et donc de pouvoir revenir à un état antérieur du schéma en cas de besoin.\n",
    "\n",
    "## Une migration simple\n",
    "\n",
    "Pour créer une migration, il existe une commande :"
   ]
  },
  {
   "cell_type": "code",
   "execution_count": null,
   "id": "bf3576b9",
   "metadata": {},
   "outputs": [],
   "source": [
    "%%bash\n",
    "\n",
    "php artisan make:migration nouvelle_migration"
   ]
  },
  {
   "cell_type": "markdown",
   "id": "9f0b62ea",
   "metadata": {},
   "source": [
    "où `nouvelle_migration` est un nom arbitraire.\n",
    "\n",
    "Cette commande crée un classe dans le dossier `/database/migrations` et celle-ci contient principalement deux méthodes : `up` et `down`.\n",
    "\n",
    "- `up` applique la migration\n",
    "- `down` permet de revenir à un état antérieur du schéma de la base.\n",
    "\n",
    "### Création d'une table\n",
    "\n",
    "Pour créer une table via une migration, il existe une méthode statique `create`."
   ]
  },
  {
   "cell_type": "code",
   "execution_count": null,
   "id": "8ff214ae",
   "metadata": {},
   "outputs": [],
   "source": [
    "%%php\n",
    "\n",
    "public function up()\n",
    "{\n",
    "    Schema::create('contacts', function (Blueprint $table) \n",
    "    {\n",
    "            $table->id();\n",
    "            $table->string('name');\n",
    "            $table->string('mobile_no');\n",
    "            $table->boolean('status');\n",
    "            $table->timestamps();\n",
    "    });\n",
    "}"
   ]
  },
  {
   "cell_type": "markdown",
   "id": "e4f3bcbe",
   "metadata": {},
   "source": [
    "Le point principal ici est la classe `Blueprint`, qui possède une grande variété de méthodes, sur la base des types SQL, pour créer les colonnes de la table.\n",
    "\n",
    "Vous trouverez la référence de toutes ces fonctions dans la [documentation de Laravel](https://laravel.com/docs/9.x/migrations#columns)\n",
    "\n",
    "### Application des migrations\n",
    "\n",
    "Une fois une migration définie, il ne reste plus qu'à l'appliquer. il y a pour cela une autre commande :"
   ]
  },
  {
   "cell_type": "code",
   "execution_count": null,
   "id": "18a999ce",
   "metadata": {},
   "outputs": [],
   "source": [
    "%%bash\n",
    "\n",
    "php artisan migrate"
   ]
  },
  {
   "cell_type": "markdown",
   "id": "67589456",
   "metadata": {},
   "source": [
    "Si vous regardez dans votre base de données, vous constaterez qu'une nouvelle table, appelée par défaut `migrations` a été créée. C'est là que tout l'historique des modifications du schéma de votre base sera conservé."
   ]
  },
  {
   "cell_type": "markdown",
   "id": "6298d531",
   "metadata": {},
   "source": [
    "## Autres fonctionnalités\n",
    "\n",
    "### Informations par défaut\n",
    "\n",
    "Lorsque l'on crée une nouvelle migration, Eloquent prévoit déjà des colonnes par défaut qui sont :\n",
    "- `id`, pour la clef primaire ;\n",
    "- `created_at` et `updated_at`, comme dates de gestion des données.\n",
    "\n",
    "#### Clef primaire\n",
    "\n",
    "Eloquent suppose que la clef primaire s'appelle `id` et qu'elle est à la fois numérique et auto-incrémentée. C'est le sens de la méthode `$table->id()`.\n",
    "\n",
    "Totefois, nous pouvons définir notre propre clef primaire en définissant une colonne et en la déclarant comme clef primaire :"
   ]
  },
  {
   "cell_type": "code",
   "execution_count": null,
   "id": "5b6e574a",
   "metadata": {},
   "outputs": [],
   "source": [
    "%%php\n",
    "\n",
    "$table->string('email', 128);\n",
    "$table->primary('email');"
   ]
  },
  {
   "cell_type": "markdown",
   "id": "74ee48f2",
   "metadata": {},
   "source": [
    "Au passage, on remarque les paramètres optionnels pour les méthodes de types. Ici, la longueur d'affichage de `email` est de 128 caractères.\n",
    "\n",
    "La clef primaire peut éventuellement être définie sur plusieurs colonnes, en passant un tableau. En revanche, il ne semble pas possible de prendre des fragments des colonnes (p.ex. les 30 premiers caractères de `email`).\n",
    "\n",
    "#### Dates de gestion\n",
    "\n",
    "La fonction `timestamps()` crée les deux colonnes `created_at`et `updated_at`. Naturellement, ces informations sont tout à fait facultatives. Si votre schéma ne les prévoit pas, vous pouvez alors supprimer la ligne de code.\n",
    "\n",
    "### Index et clefs étrangères\n",
    "\n",
    "En dehors de la clef primaire, vous trouverez dans `Blueprint` ce qu'il faut pour déclarer des index divers.\n",
    "\n",
    "#### Index\n",
    "\n",
    "Pour les index simples, il suffit de la méthode `index` :"
   ]
  },
  {
   "cell_type": "code",
   "execution_count": null,
   "id": "50a8ce41",
   "metadata": {},
   "outputs": [],
   "source": [
    "%%php\n",
    "\n",
    "$table->string('email', 128);\n",
    "$table->index('email');"
   ]
  },
  {
   "cell_type": "markdown",
   "id": "deb7f8d6",
   "metadata": {},
   "source": [
    "Là non plus, Eloquent ne prévoir pas de créer unindex sur une portion de la chaîne de caractères. En revanche, l'index peut être composé :"
   ]
  },
  {
   "cell_type": "code",
   "execution_count": null,
   "id": "1f6ec93a",
   "metadata": {},
   "outputs": [],
   "source": [
    "%%php\n",
    "\n",
    "$table->string('prenom');\n",
    "$table->string('nom');\n",
    "$table->index([prenom', 'nom'], 'index_nom_prenom');"
   ]
  },
  {
   "cell_type": "markdown",
   "id": "db5d8d70",
   "metadata": {},
   "source": [
    "Comme on le voit, il est possible de donner un nom explicite à l'index, mais dans les faits cela est rarement utile.\n",
    "\n",
    "#### Valeurs uniques\n",
    "\n",
    "De la même manière, si une colonne requiert des valeurs toutes diférentes, vous pourrez utiliser la méhode `unique()` :"
   ]
  },
  {
   "cell_type": "code",
   "execution_count": null,
   "id": "89f05147",
   "metadata": {},
   "outputs": [],
   "source": [
    "%%php\n",
    "\n",
    "$table->string('email', 128);\n",
    "$table->unique('email');"
   ]
  },
  {
   "cell_type": "markdown",
   "id": "4c66ad4d",
   "metadata": {},
   "source": [
    "#### Clefs étrangères\n",
    "\n",
    "Pour définir une clef étrangère, la syntaxe est un tout petit plus longue :"
   ]
  },
  {
   "cell_type": "code",
   "execution_count": null,
   "id": "d03ef1d2",
   "metadata": {},
   "outputs": [],
   "source": [
    "%%php\n",
    "\n",
    "$table->string('cusomerNumber', 128);\n",
    "$table->foreign('customerNumber')->references('id')->on('customers');"
   ]
  },
  {
   "cell_type": "markdown",
   "id": "ff644d05",
   "metadata": {},
   "source": [
    "où :\n",
    "- `references` désigne la colonne cible dans la table distante (généralement une clef primaire)\n",
    "- `on` désigne le nom de la table distante.\n",
    "\n",
    "Lorsque l'on crée une base de données, l'ordre des migrations peut avoir de l'importance. Rn effet, la clef étrangère ne pourra être créée que si la clef primaire correpondante existe. En cas d'inversion, il est toujours possible de modifier le schéma d'une table avec la méthode `Schema::table` :"
   ]
  },
  {
   "cell_type": "code",
   "execution_count": null,
   "id": "b0f4c541",
   "metadata": {},
   "outputs": [],
   "source": [
    "%%php\n",
    "\n",
    "Schema::create('customers', function (Blueprint $table) { /* ...*/});\n",
    "\n",
    "Schema::table('payments', function (Blueprint $table) {\n",
    "    $table->foreign('customerNumber')->references('id')->on('customers');\n",
    "})"
   ]
  },
  {
   "cell_type": "markdown",
   "id": "4e770594",
   "metadata": {},
   "source": [
    "Dans l'exemple ci-dessus, la migration va créer la tables `customers` pui modifier `payments`oury intégrer la clef étrangère.\n",
    "\n",
    "#### Indexation de texte intégral\n",
    "\n",
    "Pour certains besoins, il est également possible, pour les colnnes des type texte, d'ajouter un index pour accélerer la recherche :"
   ]
  },
  {
   "cell_type": "code",
   "execution_count": null,
   "id": "dc1e9c64",
   "metadata": {},
   "outputs": [],
   "source": [
    "%%php\n",
    "\n",
    "$table->text('description');\n",
    "$table->fullText('email');"
   ]
  },
  {
   "cell_type": "markdown",
   "id": "1023725b",
   "metadata": {},
   "source": [
    "## Modification du schéma\n",
    "\n",
    "Lors de la première migration méthode `up()` est assez simple, car tout est à créer. \n",
    "\n",
    "Par la suite, nous serons peut-être amenés à supprimr ddes colonnes, des index, changer de nom, etc. Cela est typiquement le cas lorsqu'il faudra implémente un méthode `down()` pour restaurer un état antérieur.\n",
    "\n",
    "Parallèlement à ce que nous avons décrit précédemment, `Blueprint` dispose de méthodes pour toutes ces tâches."
   ]
  },
  {
   "cell_type": "markdown",
   "id": "41e56eba",
   "metadata": {},
   "source": [
    "## Commandes pour la gestion des migrations\n",
    "\n",
    "Nous avons vu pour créer une classe de migration, nous avions recour à la commande :"
   ]
  },
  {
   "cell_type": "code",
   "execution_count": null,
   "id": "aa3b4e2a",
   "metadata": {},
   "outputs": [],
   "source": [
    "%%bash\n",
    "\n",
    "php artisan make:migration"
   ]
  },
  {
   "cell_type": "markdown",
   "id": "1620ef26",
   "metadata": {},
   "source": [
    "Puis pour effectuer la migration :"
   ]
  },
  {
   "cell_type": "code",
   "execution_count": null,
   "id": "505919ab",
   "metadata": {},
   "outputs": [],
   "source": [
    "%%bash\n",
    "\n",
    "php artisan migrate"
   ]
  },
  {
   "cell_type": "markdown",
   "id": "9a4c01a7",
   "metadata": {},
   "source": [
    "Pour revenir à un état antérieur, utilisez la commande :"
   ]
  },
  {
   "cell_type": "code",
   "execution_count": null,
   "id": "0a2fc942",
   "metadata": {},
   "outputs": [],
   "source": [
    "%%bash\n",
    "\n",
    "php artisan migrate:rollback --step=3"
   ]
  },
  {
   "cell_type": "markdown",
   "id": "34bb5b7a",
   "metadata": {},
   "source": [
    "En ajoutant l'option `step`, pous pourrez revenir de plusieurs étapes en arrière.\n",
    "\n",
    "Vous pouvez également annuler une migration et en lancer une nouvelle (p.ex. en cas d'erreur) :"
   ]
  },
  {
   "cell_type": "code",
   "execution_count": null,
   "id": "7e37f0b3",
   "metadata": {},
   "outputs": [],
   "source": [
    "%%bash \n",
    "\n",
    "php artisan migrate:refresh"
   ]
  },
  {
   "cell_type": "markdown",
   "id": "f9e68001",
   "metadata": {},
   "source": [
    "Et enfin, si vous voulez repartir de zéro :"
   ]
  },
  {
   "cell_type": "code",
   "execution_count": null,
   "id": "08d76541",
   "metadata": {},
   "outputs": [],
   "source": [
    "%%bash \n",
    "\n",
    "php artisan migrate:fresh"
   ]
  }
 ],
 "metadata": {
  "kernelspec": {
   "display_name": "Python 3 (ipykernel)",
   "language": "python",
   "name": "python3"
  },
  "language_info": {
   "codemirror_mode": {
    "name": "ipython",
    "version": 3
   },
   "file_extension": ".py",
   "mimetype": "text/x-python",
   "name": "python",
   "nbconvert_exporter": "python",
   "pygments_lexer": "ipython3",
   "version": "3.8.8"
  },
  "widgets": {
   "application/vnd.jupyter.widget-state+json": {
    "state": {},
    "version_major": 2,
    "version_minor": 0
   }
  }
 },
 "nbformat": 4,
 "nbformat_minor": 5
}
