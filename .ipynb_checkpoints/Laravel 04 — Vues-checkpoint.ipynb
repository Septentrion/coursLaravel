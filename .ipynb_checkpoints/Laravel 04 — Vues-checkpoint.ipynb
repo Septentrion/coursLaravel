{
 "cells": [
  {
   "cell_type": "markdown",
   "id": "3e99c169",
   "metadata": {},
   "source": [
    "# La classe View\n",
    "\n",
    "## Introduction\n",
    "\n",
    "Les **vues** sont le troisième partie de l'arhitecture MVC.\n",
    "\n",
    "Dans une application web, les choses sont un peu plus compliquées, puisque la question des vues est partagée par le serveur et le client. Traditionnellement, le serveur se charge de construire le squelette de la vue, soit directement en HTML, soit avec des outils comme `Blade` pour Laravel ou `Twig` pour Symfony. Mais c'est le client, le navigateur web, qui effectue réellement le rendu en analysant le code HTML qui lui a été envoyé.\n",
    "\n",
    "Et encore faudrait-il ajouter les applications sous forme d'API (React, microservices et autres) qui ne renvoient que des données, laissant le client faire le reste.\n",
    "\n",
    "Dans cette section et la suivante, nous verrons comment les vues opèrent comme une composante spécifique des plates-formes web."
   ]
  },
  {
   "cell_type": "markdown",
   "id": "0b4a6e92",
   "metadata": {},
   "source": [
    "## Mise en œuvre\n",
    "\n",
    "Dans Laravel, les vues sont pilotées par une [`Façade`](https://www.wikiwand.com/fr/Fa%C3%A7ade%20(patron%20de%20conception), qui est la classe `Illuminate\\Support\\Facades\\View`. Cette façade est implémentée dans la classe `Illuminate\\View\\Factory` et est spécifiée dans l'interface `Illuminate\\Contracts\\View\\Factory`.\n",
    "\n",
    "### make\n",
    "\n",
    "La méthode `make` est la manière la plus simple de construire une vue à l'aide de la façade `View`."
   ]
  },
  {
   "cell_type": "code",
   "execution_count": null,
   "id": "0e3ed595",
   "metadata": {},
   "outputs": [],
   "source": [
    "%%php\n",
    "\n",
    "use Illuminate\\Support\\Facades\\View;\n",
    " \n",
    "return View::make('greeting', ['name' => 'James']);"
   ]
  },
  {
   "cell_type": "markdown",
   "id": "121d9b48",
   "metadata": {},
   "source": [
    "`make` admet deux paramètres :\n",
    "- le nom d'un squelette (template) ou gabarit d'affichage.\n",
    "- un tableau associatif contenant des valeurs à afficher dans le squelette ; ces données sont bien sûr optionnelles\n",
    "\n",
    "Les gabarits sont par défaut rassemblés dans le dossier `/resources/views`. Ils ont en général pour suffixes `.blade.php` ou simplement `.php`.\n",
    "\n",
    "\n",
    "Cela étant, une route, ou un contrôleur, peut retourner une vue qui constituera la réponse envoyée au navigateur.\n",
    "\n",
    "Laravel fournit même un utilitaire comme alias de la méthode `make` :"
   ]
  },
  {
   "cell_type": "code",
   "execution_count": null,
   "id": "20052736",
   "metadata": {},
   "outputs": [],
   "source": [
    "%%php\n",
    "\n",
    "return view('greeting', ['name' => 'James']);"
   ]
  },
  {
   "cell_type": "markdown",
   "id": "e2cfe217",
   "metadata": {},
   "source": [
    "#### Sous-dossiers de vues\n",
    "\n",
    "Les gabarits d'affichage peuvent être classés dans des dossiers différents en fonction de critères arbitraires comme, par exemple, l'affichage de l'interface publique et celui de l'interface d'administration. Pour refléter la structure des sous-dossiers de `/resources/views`, Laravel adopte une syntaxe pointée.\n",
    "\n",
    "Ainsi, si un gabarit `profile.blade.php` est dans un sous-dossier `/resources/views/customer`, on l'appellera :"
   ]
  },
  {
   "cell_type": "code",
   "execution_count": null,
   "id": "363493bc",
   "metadata": {},
   "outputs": [],
   "source": [
    "%%php\n",
    "\n",
    "return view('customer.greeting', ['name' => 'James']);"
   ]
  },
  {
   "cell_type": "markdown",
   "id": "26f20382",
   "metadata": {},
   "source": [
    "### Autre méthodes utilitaires\n",
    "\n",
    "`View` possède d'autres méthodes qui peuvent s'avérer utiles.\n",
    "\n",
    "#### exists\n",
    "\n",
    "La méthode `exixts` vérifie qu'un gabarit existe réellement. "
   ]
  },
  {
   "cell_type": "code",
   "execution_count": null,
   "id": "1341a916",
   "metadata": {},
   "outputs": [],
   "source": [
    "%%php\n",
    "\n",
    "use Illuminate\\Support\\Facades\\View;\n",
    " \n",
    "if (! View::exists('customer.profile') {\n",
    "    // Adapter la logique au cas particulier\n",
    "};"
   ]
  },
  {
   "cell_type": "markdown",
   "id": "0b809f12",
   "metadata": {},
   "source": [
    "#### first\n",
    "\n",
    "La méthode `first` prend en argument un tableau de gabarits et retient le premier qu'elle trouve. Par exemple :"
   ]
  },
  {
   "cell_type": "code",
   "execution_count": null,
   "id": "02f4b404",
   "metadata": {},
   "outputs": [],
   "source": [
    "%%php\n",
    "\n",
    "use Illuminate\\Support\\Facades\\View;\n",
    " \n",
    "return View::first(['customer.profile', 'profile'], ['name' => 'James']);"
   ]
  },
  {
   "cell_type": "markdown",
   "id": "9a3355fc",
   "metadata": {},
   "source": [
    "Si le fichier `/resources/views/customer/profile.blade.php`, alors `View` utilisera un gabarit par défaut, en l'occurrence `/resources/views/profile.blade.php`.\n",
    "\n",
    "#### file\n",
    "\n",
    "La méthode `file` est à peut près équivalente à `make` hormis le fait qu'elle se base sur le chemin d'un fichier dans le système de ficbier et non sur le nom des gabarits.\n",
    "\n",
    "#### share\n",
    "\n",
    "`share` est une méthode qui permet de définir des « _constantes globales_ » (ou partagées) qui seront intégrées à toutes les vues de l'appliction.\n",
    "\n",
    "Pour cela, on ne peut naturellement pas juste les intégrer dans des contrôleurs. Il faut utiliser une classe spécifique. La manière la plus simple est de recourir à la classe `AppServiceProvider` qui est directement appelée par Laravel au lancement de l'application. On ajoutera la déclaration à la méthode `boot`."
   ]
  },
  {
   "cell_type": "code",
   "execution_count": null,
   "id": "70298fcb",
   "metadata": {},
   "outputs": [],
   "source": [
    "%%php\n",
    "\n",
    "    public function boot()\n",
    "    {\n",
    "        View::share('today', new \\DateTime());\n",
    "    }"
   ]
  },
  {
   "cell_type": "markdown",
   "id": "dbbf8474",
   "metadata": {},
   "source": [
    "#### composer\n",
    "\n",
    "Un **compositeur de vue** est une fonction — généralement une méthode de classe ou encore fonction de rappel — qui est appelée systématiquement lorsqu'une vue est rendue. \n",
    "\n",
    "Les compositeurs de vues peuvent s'avérer utiles si la même vue est renvoyée par plusieurs routes ou contrôleurs dans votre application et qu'elle a toujours besoin de certaines données.\n",
    "\n",
    "Comme des données partagées, les appels aux compositeurs de vues sont généralement enregistrés dans `AppServiceProvider` :"
   ]
  },
  {
   "cell_type": "code",
   "execution_count": null,
   "id": "5ac3f5a7",
   "metadata": {},
   "outputs": [],
   "source": [
    "%%php\n",
    "\n",
    "    public function boot()\n",
    "    {\n",
    "        View::composer('profile', ProfileComposer::class);\n",
    "    }\n"
   ]
  },
  {
   "cell_type": "markdown",
   "id": "a78ed35f",
   "metadata": {},
   "source": [
    "Nous prenons ici le parti de créer une classe spécifique pour le compositeur, mais ce pourrait sim^lement être une fonction anonyme.\n",
    "\n",
    "Dans notre cas, Laravel attend qu'une méthode `compose` soit implémentée dans la classe `ProfileComposer`."
   ]
  },
  {
   "cell_type": "code",
   "execution_count": null,
   "id": "1f493f2b",
   "metadata": {},
   "outputs": [],
   "source": [
    "%%php\n",
    "\n",
    "public function compose(View $view)\n",
    "{\n",
    "    $view->with('count', $this->users->count());\n",
    "}"
   ]
  },
  {
   "cell_type": "markdown",
   "id": "c7819ccd",
   "metadata": {},
   "source": [
    "Comme on le voit, `compose`attend une vue — qui est sur le point d'être rendue – et calcule la valeur d'une certaine variable.\n",
    "\n",
    "> <div class=\"alert alert-block alert-info\">\n",
    "> <b>Note :</b> Si vous définissez une classe pour votre compositeur, n'oubliez pas de la déclarer dans les fournisseurs de services de la configuration (`/config.app.php`).\n",
    "> </div>\n",
    "\n",
    "\n",
    "Il existe une alternative à `composer` avec la méthode `creator`, qui a le même rôle mais est appelée immédiatement après l'instanciation de la vue.\n"
   ]
  }
 ],
 "metadata": {
  "kernelspec": {
   "display_name": "Python 3 (ipykernel)",
   "language": "python",
   "name": "python3"
  },
  "language_info": {
   "codemirror_mode": {
    "name": "ipython",
    "version": 3
   },
   "file_extension": ".py",
   "mimetype": "text/x-python",
   "name": "python",
   "nbconvert_exporter": "python",
   "pygments_lexer": "ipython3",
   "version": "3.8.8"
  }
 },
 "nbformat": 4,
 "nbformat_minor": 5
}
