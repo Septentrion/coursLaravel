{
 "cells": [
  {
   "cell_type": "markdown",
   "id": "711cb12a",
   "metadata": {},
   "source": [
    "# Données factices\n",
    "\n",
    "## Introduction\n",
    "\n",
    "\n",
    "## Les classes d'hydratation, ou « seeders »\n",
    "\n",
    "Laravel inclut une méthode simple pour « hydrater » votre base de données avec des données factices en utilisant des classes spécifiques appelées **seeders**. Toutes ces classes sont stockées dans le répertoire `database/seeds`. Les classes d'hydratation peuvent avoir le nom que vous souhaitez, mais elles devraient probablement suivre une convention raisonnable, comme `UserSeeder`, etc. A titre d'exemple, une classe `DatabaseSeeder` est définie pour vous. \n",
    "\n",
    "### Écriture de seeders\n",
    "\n",
    "Pour créer un « _seeder_ », exécutez la commande `make:seeder`. Tous les seeders générés par le framework seront placés dans le répertoire `database/seeds` :"
   ]
  },
  {
   "cell_type": "code",
   "execution_count": null,
   "id": "086d9e19",
   "metadata": {},
   "outputs": [],
   "source": [
    "%%bash\n",
    "\n",
    "php artisan make:seeder ProductSeeder"
   ]
  },
  {
   "cell_type": "markdown",
   "id": "04ac0cba",
   "metadata": {},
   "source": [
    "Une classe de seeder ne contient qu'une seule méthode par défaut : `run`. Cette méthode est appelée lorsque la commande `db:seed` est exécutée. Dans la méthode run, vous pouvez insérer des données dans votre base de données comme vous le souhaitez. Vous pouvez utiliser le constructeur de requêtes pour insérer manuellement des données ou vous pouvez utiliser les usines de modèles Eloquent."
   ]
  },
  {
   "cell_type": "code",
   "execution_count": null,
   "id": "b59a140e",
   "metadata": {},
   "outputs": [],
   "source": [
    "%%php\n",
    "\n",
    "public function run()\n",
    "{\n",
    "    DB::table('users')->insert([\n",
    "        'name' => Str::random(10),\n",
    "        'email' => Str::random(10).'@gmail.com',\n",
    "        'password' => Hash::make('password'),\n",
    "    ])\n",
    "}"
   ]
  },
  {
   "cell_type": "markdown",
   "id": "21c1cf73",
   "metadata": {},
   "source": [
    "Dans cet exemple, on utilise la classe `DB`, qui permet d'écrire des requêtes SQL, pour créer un utilisateur assorti de données aléatoires.\n",
    "\n",
    "Une classe d'hydratation peut en exécuter d'autres :"
   ]
  },
  {
   "cell_type": "code",
   "execution_count": null,
   "id": "8a43a6ab",
   "metadata": {},
   "outputs": [],
   "source": [
    "%%php\n",
    "\n",
    "public function run()\n",
    "{\n",
    "    $this->call([\n",
    "        UserSeeder::class,\n",
    "        PostSeeder::class,\n",
    "        CommentSeeder::class,\n",
    "    ]);\n",
    "}"
   ]
  },
  {
   "cell_type": "markdown",
   "id": "b3d454a9",
   "metadata": {},
   "source": [
    "Pour exécuter la procédure, on utiliseune autre commande `db:seed` :"
   ]
  },
  {
   "cell_type": "code",
   "execution_count": null,
   "id": "a21d5580",
   "metadata": {},
   "outputs": [],
   "source": [
    "%%bash\n",
    "\n",
    "# Lancer tous les _seeders_\n",
    "php artisan db:seed\n",
    "\n",
    "#Lancer un _seeder_ particulier\n",
    "php artisan db:seed --class=PostSeeder"
   ]
  },
  {
   "cell_type": "markdown",
   "id": "6b2f9128",
   "metadata": {},
   "source": [
    "## Utiliser des fabriques, ou « factories »\n",
    "\n",
    "Même si les classes d'hydratation se suffisent à elles-mêmes, ce n'est généralement pas le moyen le plus pratique de créer des objets factices. On préfère déléguer cette tâche à une classe spécifique, que Laravel appelle des « factories ». Cette appellation est un peu trompeuse car elle fait écho au _design pattern_ qui porte le même nom.\n",
    "\n",
    "Une fabrique est une classe qui contient une méthode principale `definition`. En voici un exemple, donné par Laravel :"
   ]
  },
  {
   "cell_type": "code",
   "execution_count": null,
   "id": "8dddf1f1",
   "metadata": {},
   "outputs": [],
   "source": [
    "%%php\n",
    "\n",
    "public function definition()\n",
    "{\n",
    "    return [\n",
    "        'name' => $this->faker->name(),\n",
    "        'email' => $this->faker->unique()->safeEmail(),\n",
    "        'email_verified_at' => now(),\n",
    "        'password' => '$2y$10$92IXUNpkjO0rOQ5byMi.Ye4oKoEa3Ro9llC/.og/at2.uheWG/igi', // password\n",
    "        'remember_token' => Str::random(10),\n",
    "    ];\n",
    "}"
   ]
  },
  {
   "cell_type": "markdown",
   "id": "eb79e3a2",
   "metadata": {},
   "source": [
    "Nous voyons que cette méthode décrit une procédur pour créer un objet (ici un `User`).\n",
    "\n",
    "On remarque l'utilisation d'un objet `faker`,dont nous allons reparler par la suite.\n",
    "\n",
    "Une fois cela fixé, la tâcehe de la classe d'hydratation est d'appeler les fabriques :"
   ]
  },
  {
   "cell_type": "code",
   "execution_count": null,
   "id": "f5582ed4",
   "metadata": {},
   "outputs": [],
   "source": [
    "%%php\n",
    "\n",
    "public function run()\n",
    "{\n",
    "    Post::factory()\n",
    "        ->count(25)\n",
    "        ->create();\n",
    "\n",
    "}"
   ]
  },
  {
   "cell_type": "markdown",
   "id": "f3afe197",
   "metadata": {},
   "source": [
    "Nous voyons dans cet exemple que la création de multiples instances se fait simplement avec la méthode `count`. Ici, nous créons 25 objets.\n",
    "\n",
    "Les fabriques disposent de deux méthodes pour créer des objets :\n",
    "- `make` se contente de créer les objets\n",
    "- `create` les enregistre en plus dans la base de données.\n",
    "\n",
    "### Fabriques et états\n",
    "\n",
    "En dhos de la mtéhode `definition`, les fabriques peuvent comporter de méthodes arbitraires pour engendrer certaines parties de l'objet. Par exemple, créons la méthode suivante, qui définit une entreprise et un mail pour un employé :"
   ]
  },
  {
   "cell_type": "code",
   "execution_count": null,
   "id": "868ac056",
   "metadata": {},
   "outputs": [],
   "source": [
    "%%php\n",
    "\n",
    "public function professionalContact(): self\n",
    "{\n",
    "    return $this->state([\n",
    "        'name' => $this->faker->unique()->company,\n",
    "        'email' => $this->faker->email,\n",
    "    ]);\n",
    "}"
   ]
  },
  {
   "cell_type": "markdown",
   "id": "0778d6c3",
   "metadata": {},
   "source": [
    "Nous pouvons maintenant insérer cette méthode dans l'appel de la fabrique :"
   ]
  },
  {
   "cell_type": "code",
   "execution_count": null,
   "id": "df00e43d",
   "metadata": {},
   "outputs": [],
   "source": [
    "%%php\n",
    "\n",
    "public function run()\n",
    "{\n",
    "    Employee::factory()\n",
    "        ->count(25)\n",
    "        ->professionalContact()\n",
    "        ->create();\n",
    "\n",
    "}"
   ]
  },
  {
   "cell_type": "markdown",
   "id": "56f415a4",
   "metadata": {},
   "source": [
    "Cette notion d'état (« _state_ ») est très pratique pour configurer une partie de l'objet, certaines propriétés ayant des rapprts entre elle (p.ex.  dans une entreprise, le poste occupé et le salaire). Cela va nous permettre d'engendrer des données aléatoires et néanmoins crédibles.\n",
    "\n",
    "Par ailleurs, les fabriques ccepteraient aussi la sybntaxe suivante :"
   ]
  },
  {
   "cell_type": "code",
   "execution_count": null,
   "id": "27f89544",
   "metadata": {},
   "outputs": [],
   "source": [
    "%%php\n",
    "\n",
    "Employee::factory([\n",
    "    'name' => $this->faker->unique()->company,\n",
    "    'email' => $this->faker->email,\n",
    "])\n",
    "    ->count(50)\n",
    "    ->create();"
   ]
  },
  {
   "cell_type": "markdown",
   "id": "4ded53d6",
   "metadata": {},
   "source": [
    "mais on voit qu'elle nettement moins pratique et uniforme.\n",
    "\n",
    "### Objets factices et associations\n",
    "\n",
    "Généralement, les entités du modèle de données sont liées entre elles par des associations. Les fabriques savent créer ces associations automatiquement avec la méthode `each` :"
   ]
  },
  {
   "cell_type": "code",
   "execution_count": null,
   "id": "529f0bde",
   "metadata": {},
   "outputs": [],
   "source": [
    "%%php\n",
    "\n",
    "Employee::factory()\n",
    "    ->count(50)\n",
    "    ->create()\n",
    "    -each(Task::Factory()->count(5)->create());"
   ]
  },
  {
   "cell_type": "markdown",
   "id": "67d63659",
   "metadata": {},
   "source": [
    "LA procédure peut être un peu plus compliquée si l'on souhaite réutiliser ces objets (p.ex. dans les associations Many-to-Many).\n",
    "\n",
    "## FakerPHP\n",
    "\n",
    "FakerPHP est un outil qui permet d'engendre des données « crédibles » et pas seulement des chaînes de caratères ou des nombres aléatoires.\n",
    "\n",
    "La bibliothèque est intégrée par défaut à Laravel, ce qui fait que, comme nous l'avons vu plus haut,il suffit de l'appeler.\n",
    "\n",
    "La seule configuration de FakerPHP est la langue. Dans une ceraine mesure, il est possible d'engendrer des valeurs dans les langues différentes (des textes, des nom propres, etc.). Cela n'est pas toujours très probant, les classes en dehors de l'anglais ne sont pas exhaustivement développées, mais cela peut être utile.\n",
    "\n",
    "pour clas, il faut aller dans le fichier de configuration `/config/app.php` et changer la valeur :"
   ]
  },
  {
   "cell_type": "code",
   "execution_count": null,
   "id": "468c757e",
   "metadata": {},
   "outputs": [],
   "source": [
    "¨¨php\n",
    "\n",
    "[\n",
    "    // ...\n",
    "    'faker_locale' => 'fr_FR',\n",
    "    // ...\n",
    "]"
   ]
  },
  {
   "cell_type": "markdown",
   "id": "12ae2f97",
   "metadata": {},
   "source": [
    "FakerPHP est une boîte à outils qui fonctionne à partir de « Formatter » pour es types d'informations très variées. \n",
    "\n",
    "Une fonctionnalité importante de FakerPHP est de pouvoir engendre des valeurs uniques avec la méthode `unique` :"
   ]
  },
  {
   "cell_type": "markdown",
   "id": "a70dd945",
   "metadata": {},
   "source": [
    "%%php\n",
    "\n",
    "$name = $this->faker->unique()->company;"
   ]
  },
  {
   "cell_type": "markdown",
   "id": "45867221",
   "metadata": {},
   "source": [
    "Toutes les classes disponibles sont documentées sur le [site de la bibliothèque](https://fakerphp.github.io/)"
   ]
  }
 ],
 "metadata": {
  "kernelspec": {
   "display_name": "Python 3 (ipykernel)",
   "language": "python",
   "name": "python3"
  },
  "language_info": {
   "codemirror_mode": {
    "name": "ipython",
    "version": 3
   },
   "file_extension": ".py",
   "mimetype": "text/x-python",
   "name": "python",
   "nbconvert_exporter": "python",
   "pygments_lexer": "ipython3",
   "version": "3.8.8"
  }
 },
 "nbformat": 4,
 "nbformat_minor": 5
}
