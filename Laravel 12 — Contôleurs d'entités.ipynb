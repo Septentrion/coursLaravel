{
 "cells": [
  {
   "cell_type": "markdown",
   "id": "27c4d23f",
   "metadata": {},
   "source": [
    "# Laravel 9 — Contôleurs d'entités\n",
    "\n",
    "## Introduction\n",
    "\n",
    "Les contrôleurs d'entités sont des fonctions associées à des entités de l'application, c'est-à-dire des composant du **modèle**.\n",
    "\n",
    "Il est typique d'exécuter les mêmes ensembles d'actions sur chaque ressource de votre application. Par exemple, imaginez que votre application contient un modèle Book et un modèle Author. Il est probable que les utilisateurs puissent créer, lire, mettre à jour ou supprimer ces ressources.\n",
    "\n",
    "En raison de ce cas d'utilisation courant, le routage des ressources de Laravel attribue les routes typiques de création, lecture, mise à jour et suppression (\"CRUD\") à un contrôleur avec une seule ligne de code.\n",
    "\n",
    "## Contrôleurs et entités\n",
    "\n",
    "### Création dde la class\n",
    "\n",
    "Pour commencer, nous pouvons utiliser l'option `--resource` de la commande `make:controller` afin de créer rapidement un contrôleur pour gérer ces actions :"
   ]
  },
  {
   "cell_type": "code",
   "execution_count": null,
   "id": "605995e0",
   "metadata": {},
   "outputs": [],
   "source": [
    "%%bash\n",
    "\n",
    "php artisan make:controller BookController --resource"
   ]
  },
  {
   "cell_type": "markdown",
   "id": "2e66cafa",
   "metadata": {},
   "source": [
    "Cette commande générera une classe de contrôleurs dans le dossier habituel. Cette classe contiendra une méthode pour chacune des opérations de ressources disponibles. Ensuite, vous pouvez enregistrer dans le fichier de routage une route qui pointe vers le contrôleur :"
   ]
  },
  {
   "cell_type": "code",
   "execution_count": null,
   "id": "d06c75e2",
   "metadata": {},
   "outputs": [],
   "source": [
    "%%php\n",
    "\n",
    "Route::resource('photos', BookController::class) ;"
   ]
  },
  {
   "cell_type": "markdown",
   "id": "2c8181ef",
   "metadata": {},
   "source": [
    "Cette déclaration spéciale crée plusieurs routes pour gérer une variété d'actions sur lentité choisie. Le contrôleur généré aura déjà des méthodes pour chacune de ces actions. \n",
    "\n",
    "<div class=\"alert alert-block alert-info\">\n",
    "<b>Note :</b> N'oubliez pas que vous pouvez toujours obtenir un aperçu rapide des routes de votre application en exécutant la commande `route:list`.\n",
    "</div>\n",
    "\n",
    "Voici le tableau récapitulatif des des routes:\n",
    "\n",
    "| Méthode |\tURL | Contrôleur | Nom de la route |\n",
    "|---|---|---|---|\n",
    "|GET | /photos | index | photos.index |\n",
    "|GET | /photos/create | create | photos.create |\n",
    "|POST | /photos | store | photos.store |\n",
    "|GET | /photos/{photo} | show | photos.show |\n",
    "|GET | /photos/{photo}/edit | edit | photos.edit |\n",
    "|PUT/PATCH | /photos/{photo} | update | .update |\n",
    "|DELETE | /photos/{photo} | destroy | photos.destroy |\n",
    "\n",
    "<div class=\"alert alert-block alert-info\">\n",
    "<b>Note :</b> Remarquez comment les URL sont normalisées (pour être conformes à REST) etaussi combien elles se ressemblent ; c'est la méthode HTTP qui permet de lé différencier.\n",
    "</div>\n",
    "\n",
    "Il est possible de créer directement des routes pour un ensemble d'entités :"
   ]
  },
  {
   "cell_type": "code",
   "execution_count": null,
   "id": "21836d5c",
   "metadata": {},
   "outputs": [],
   "source": [
    "%%php\n",
    "\n",
    "Route::resources([\n",
    "    'photos' => BookController::class,\n",
    "    'posts' => AuthorController::class,\n",
    "]);"
   ]
  },
  {
   "cell_type": "markdown",
   "id": "ac37e22e",
   "metadata": {},
   "source": []
  }
 ],
 "metadata": {
  "kernelspec": {
   "display_name": "Python 3 (ipykernel)",
   "language": "python",
   "name": "python3"
  },
  "language_info": {
   "codemirror_mode": {
    "name": "ipython",
    "version": 3
   },
   "file_extension": ".py",
   "mimetype": "text/x-python",
   "name": "python",
   "nbconvert_exporter": "python",
   "pygments_lexer": "ipython3",
   "version": "3.8.8"
  }
 },
 "nbformat": 4,
 "nbformat_minor": 5
}
