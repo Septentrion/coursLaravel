{
 "cells": [
  {
   "cell_type": "markdown",
   "id": "db6a7fab",
   "metadata": {},
   "source": [
    "# Laravel Mix"
   ]
  },
  {
   "cell_type": "markdown",
   "id": "720a6bd1",
   "metadata": {},
   "source": [
    "## Introduction\n",
    "\n",
    "`Laravel Mix` est un paquetage de gestion des ressources web reposant sur `Webpack`.\n"
   ]
  },
  {
   "cell_type": "markdown",
   "id": "3b4fe2ea",
   "metadata": {},
   "source": [
    "## Installation\n",
    "\n",
    "`Laravel Mix` est déjà inclus dans les distribtion `Laravel`.il n'y a donc rien de particulier à installer. Il suffit d'installer les modules JS configuré dans le fichier `package.json`.\n",
    "\n",
    "```js\n",
    "npm install\n",
    "```"
   ]
  },
  {
   "cell_type": "markdown",
   "id": "7d0db1cf",
   "metadata": {},
   "source": [
    "## Premiers pas\n",
    "\n",
    "`Laravel Mix` est configuré dans le fichier `webpack.mix.js`.\n",
    "\n",
    "Dans un premier temps, nous devons importer le module `laravel-mix` :\n",
    "\n",
    "```js\n",
    "let mix = require('laravel-mix');\n",
    "```\n",
    "\n",
    "Puis nous pouvons commencer à ajouter des configurations :\n",
    "\n",
    "```js\n",
    "mix.js('assets/app.js', 'assets/js');\n",
    "```\n",
    "\n",
    "Denaas l'exemple ci-dessus, `Mix` va chercher le fichier source `app.js` dans le dossier `assets`, à la racine de l'application, et l'exécute pour le sauvegarder dans le dossier `public/assets/js`.\n",
    "\n",
    "> **Note** Le dossier publicpoeut être modifié en ajoutant la fonction `setPublicPath('...')`\n",
    "\n",
    "Une fois le fichier de configuration modifié, il reste à compiler les ressources avec la commande :\n",
    "```js\n",
    "npm run dev\n",
    "```\n",
    "\n",
    "Toute la configuration se fait par l'intermédiaire de l'objet `mix` etde ses diverses méthodes.\n",
    "\n",
    "Une fois lea compilation terminée, on utilise `Blade`pour intégrer les ressources dans le code HTML :\n",
    "```html\n",
    "<!DOCTYPE html>\n",
    "<html>\n",
    "    <head>\n",
    "        <title>App</title>\n",
    "        <link rel=\"stylesheet\" href=\"{{ mix('css/app.css') }}\" />\n",
    "        <script src=\"{{ mix('js/app.js') }}\" defer></script>\n",
    "    </head>\n",
    "\n",
    "    <body>\n",
    "        <div id=\"app\"><h1>Hello World</h1></div>\n",
    "    </body>\n",
    "</html>\n",
    "```"
   ]
  },
  {
   "cell_type": "markdown",
   "id": "4bcc2ff2",
   "metadata": {},
   "source": [
    "## Compilation"
   ]
  },
  {
   "cell_type": "markdown",
   "id": "bd6cfa8b",
   "metadata": {},
   "source": [
    "### Feuilles de style\n",
    "\n",
    "\n",
    "Pour intégrer une feuille de style, il existe la méthode `css`.\n",
    "```js\n",
    "mix.css('assets/app.css', 'assets/css')\n",
    "```\n",
    "Comme précédemment, le fichier est transféré dans le dossier `public/assets/css`.\n",
    "\n",
    "`Mix` intègre par défautles syntaxes SASS et LESS :\n",
    "```js\n",
    "mix.sass('assets/app.scss', 'assets/css')\n",
    "mix.sass('assets/app.less', 'assets/css')\n",
    "\n",
    "```\n",
    "\n",
    "#### PostCSS\n",
    "\n",
    "En dehors de cela, nous pouvons utilisertous les plugins PostCSS disponibles. Pour cela, il faut :\n",
    "\n",
    "1. installer le plugin\n",
    "```js\n",
    "// Exemple\n",
    "npm install postcss-custom-properties --save-dev\n",
    "```\n",
    "\n",
    "2. Appliquer le plugin\n",
    "```js\n",
    "mix.postCss('src/app.css', 'dist', [\n",
    "    require('postcss-custom-properties')\n",
    "]);\n",
    "```\n",
    "Comme nous le voyons, les plugins sont passés sous forme de tableau, ce qui autorise l'application de plusieurs post-traitements ur un même fichier."
   ]
  },
  {
   "cell_type": "markdown",
   "id": "bce9ede5",
   "metadata": {},
   "source": [
    "### JavaScript\n",
    "\n",
    "#### Versionnage des fichiers\n",
    "\n",
    "Versionner les fichiers peut être très utile, notamment pour outrepasser les règles des caches. Dans ce cas, nous pouvons prévenir `Mix` de créer une nouvelle version :\n",
    "```\n",
    "mix.js('assets/app.js', 'assets/js').version();\n",
    "```\n",
    "Maintenant, chaque compilation créera unnouveau fichier. En revanche, l'intégration dans le code HTML ne change pas.\n",
    "\n",
    "Onpeut naturellement appliquer la même règle aux feuilles de style.\n",
    "\n",
    "#### Découpage des fichiers\n",
    "\n",
    "La généralisation de HTTP/2 arendu relativement obsolète la nécessité de composer des « _bundles_ », c'est-à-dire des fichiers uniques contenant tout le code.\n",
    "\n",
    "`Mix` offre la possiblité de créerdes fichiers séparés pour les différents types de code Js :\n",
    "- le code de l'application\n",
    "- les bibliothèques JS tierces\n",
    "- les utilitiares de Webpack\n",
    "\n",
    "Pour cela, il existe la méthode `extract` :\n",
    "```js\n",
    "mix.extract();\n",
    "```\n",
    "`Mix` crée alors trois fichiers.\n",
    "\n",
    "`extract` propose toute une variété d'options, comme le fait de préciser les noms de certains modules pour les sauvegarder dans des fichiers précis, par exemple :\n",
    "```js\n",
    "mix.extract(['vue', 'lodash-es'], 'vendor-1.js');\n",
    "mix.extract(['jquery', 'axios'], 'vendor-2.js');\n",
    "```\n",
    "\n",
    "On peut également utiliser des expressions régulières :\n",
    "```js\n",
    "mix.extract({\n",
    "  // If you don't specify a location, it defaults to `vendor.js`\n",
    "  to: 'js/vendor-d3.js',\n",
    "\n",
    "  // This can be an array of strings or a regular expression\n",
    "  libraries: /d3|d3-[a-z0-9-]+/\n",
    "});\n",
    "```"
   ]
  },
  {
   "cell_type": "markdown",
   "id": "7a9fa33c",
   "metadata": {},
   "source": [
    "## Autres fonctionnalités\n",
    "\n",
    "\n",
    "`Mix` peut aussi, en particulier :\n",
    "\n",
    "1. engendrer des fichiers adaptés à des environnements JS, comme `Vue` ou `React`:\n",
    "```js\n",
    "// VueJS\n",
    "mix.js('src/app.js', 'js')\n",
    "   .vue();\n",
    "\n",
    "// ReactJS\n",
    "mix.js('src/app.js', 'js')\n",
    "   .react();\n",
    "```\n",
    "\n",
    "2. Crér des « _source maps_ » :\n",
    "```js\n",
    "mix.js('src/app.js', 'js')\n",
    "   .sourceMaps();\n",
    "```\n",
    "\n",
    "3. Travailler en mode « _watch_ » :\n",
    "```js\n",
    "mix.js('src/app.js', 'js')\n",
    "   .browserSync();\n",
    "```"
   ]
  },
  {
   "cell_type": "markdown",
   "id": "2c6659e1",
   "metadata": {},
   "source": [
    "## Ressources\n",
    "\n",
    "- [Documentation Mix](https://laravel-mix.com/docs/6.0/installation)"
   ]
  }
 ],
 "metadata": {
  "kernelspec": {
   "display_name": "Python 3 (ipykernel)",
   "language": "python",
   "name": "python3"
  },
  "language_info": {
   "codemirror_mode": {
    "name": "ipython",
    "version": 3
   },
   "file_extension": ".py",
   "mimetype": "text/x-python",
   "name": "python",
   "nbconvert_exporter": "python",
   "pygments_lexer": "ipython3",
   "version": "3.8.8"
  }
 },
 "nbformat": 4,
 "nbformat_minor": 5
}
