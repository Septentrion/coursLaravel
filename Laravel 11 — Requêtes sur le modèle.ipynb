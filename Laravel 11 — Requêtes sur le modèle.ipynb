{
 "cells": [
  {
   "cell_type": "markdown",
   "id": "f666cd5a",
   "metadata": {},
   "source": [
    "# Requêtes sur le modèle\n",
    "\n",
    "## Introduction\n",
    "\n",
    "\n",
    "\n",
    "### Read : Extraire des données\n",
    "\n",
    "Une fois que vous avez créé un modèle et sa table de base de données associée, vous êtes prêt à commencer à extraire des données de votre base de données. Vous pouvez considérer chaque modèle Eloquent comme un puissant générateur de requêtes vous permettant d'interroger couramment la table de base de données associée au modèle. La méthode all du modèle récupère tous les enregistrements de la table de base de données associée au modèle :"
   ]
  },
  {
   "cell_type": "markdown",
   "id": "3a0205ed",
   "metadata": {},
   "source": [
    "%%php\n",
    "\n",
    "use App\\Models\\Flight ;\n",
    "\n",
    "foreach (Flight::all() as $flight) {\n",
    "    echo $flight->name ;\n",
    "}"
   ]
  },
  {
   "cell_type": "markdown",
   "id": "8f0f7819",
   "metadata": {},
   "source": [
    "#### Création de requêtes\n",
    "\n",
    "La méthode Eloquent `all` renvoie tous les résultats dans le tableau du modèle. Cependant, puisque chaque modèle Eloquent sert de constructeur de requêtes, vous pouvez ajouter des contraintes supplémentaires aux requêtes et ensuite invoquer la méthode get pour récupérer les résultats :"
   ]
  }
 ],
 "metadata": {
  "kernelspec": {
   "display_name": "Python 3 (ipykernel)",
   "language": "python",
   "name": "python3"
  },
  "language_info": {
   "codemirror_mode": {
    "name": "ipython",
    "version": 3
   },
   "file_extension": ".py",
   "mimetype": "text/x-python",
   "name": "python",
   "nbconvert_exporter": "python",
   "pygments_lexer": "ipython3",
   "version": "3.8.8"
  }
 },
 "nbformat": 4,
 "nbformat_minor": 5
}
