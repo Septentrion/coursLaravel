{
 "cells": [
  {
   "cell_type": "markdown",
   "id": "6c4d582f",
   "metadata": {},
   "source": [
    "# Les contrôleurs\n",
    "\n",
    "## Introduction\n",
    "\n",
    "## Un contrôleur simple\n",
    "\n",
    "Une classe de contrôleurs peut être créée très facilement par la ligne de commande avec `Artisan` :"
   ]
  },
  {
   "cell_type": "code",
   "execution_count": null,
   "id": "62bb46d6",
   "metadata": {},
   "outputs": [],
   "source": [
    "%%bash\n",
    "\n",
    "php artisan make:controller BookController"
   ]
  },
  {
   "cell_type": "markdown",
   "id": "0d068aaf",
   "metadata": {},
   "source": [
    "<div class=\"alert alert-block alert-info\">\n",
    "<b>Note:</b> La section `make` des commandes de `artisan` permet de créer les bases des applications Laravel sans écrire de code PHP\n",
    "</div>\n",
    "\n",
    "La classe sera installée dans le dossier `/app/Http/Controllers`. Elle est vide au démarrage. Nous voyons qu'elle hérite d'une classe Laravel nommée `Illuminate\\Routing\\Controller`.\n",
    "\n",
    "Dans cette classe, il nous incombe de créer tous les contrôleurs qui traiteront les requêtes des utilisateurs. Comme :"
   ]
  },
  {
   "cell_type": "code",
   "execution_count": null,
   "id": "40d0f85f",
   "metadata": {},
   "outputs": [],
   "source": [
    "%%php\n",
    "\n",
    "public function show($id)\n",
    "{\n",
    "    return view('user.profile', [\n",
    "        'user' => User::findOrFail($id)\n",
    "    ]);\n",
    "}"
   ]
  },
  {
   "cell_type": "markdown",
   "id": "ee9f3ee7",
   "metadata": {},
   "source": [
    "Un contrôleur est donc une simple fonction :\n",
    "1. qui admet un nombre arbitraire de paramètres, ces paramètres étant de deux ordres :\n",
    "    - des valeurs issues de paramètres de routes (cf. [Routage])\n",
    "    - des objets transmis par injection de dépendance\n",
    "2. dont la valeur de retour consitue la réponse envvoyée au navigateur\n",
    "\n",
    "Dans l'exemple précédent, on utilise une des « fonctions de support » de Laravel pour créer une vue. La syntaxe est plus simple, mais moins claire que `View::make` dont elle est l'équivalent.\n",
    "\n",
    "Bien sûr, un contrôleur sera déclenché par le routeur. Dans notre cas, cela donnerait :"
   ]
  },
  {
   "cell_type": "code",
   "execution_count": null,
   "id": "8bcd002f",
   "metadata": {},
   "outputs": [],
   "source": [
    "%%php\n",
    "\n",
    "Route::get('/profile/{id}', [UserController::class, 'show'])->name('profile')->where('id', \"[0-9]+\");"
   ]
  },
  {
   "cell_type": "markdown",
   "id": "d673cb4a",
   "metadata": {},
   "source": [
    "<div class=\"alert alert-block alert-info\">\n",
    "<b>Note :</b> Notez la syntaxe de l'appel du contôleur sous forme de tableau à deux entrées, classe + méthode\n",
    "</div>\n",
    "\n",
    "### Un classe mono-contrôleur\n",
    "\n",
    "D'une manière générale, un classe de contrôleurs englobe une famile de contrôleurs d'un même domaine, très souvent en fonction des entités de l'application. Il reste néanmoins possible de créer des classes ne contenant qu'un seul contrôleur. Dans ce cas la syntaxe est un peu plus simple, car il suffira d'implémenter une unique méthode `__invoke` (qui fait partie des « méthodes magiques » de PHP."
   ]
  },
  {
   "cell_type": "code",
   "execution_count": null,
   "id": "5dfa1e38",
   "metadata": {},
   "outputs": [],
   "source": [
    "%%php\n",
    "\n",
    "public function __invoke($id)\n",
    "{\n",
    "    return view('user.profile', [\n",
    "        'user' => User::findOrFail($id)\n",
    "    ]);\n",
    "}"
   ]
  },
  {
   "cell_type": "markdown",
   "id": "e9307bb0",
   "metadata": {},
   "source": [
    "Et pour la route, seul le nom de la classe est nécessaire :"
   ]
  },
  {
   "cell_type": "code",
   "execution_count": null,
   "id": "564fbdac",
   "metadata": {},
   "outputs": [],
   "source": [
    "%%php\n",
    "\n",
    "Route::get('/profile/{id}', UserController::class)->name('profile')->where('id', \"[0-9]+\");"
   ]
  },
  {
   "cell_type": "markdown",
   "id": "7422ba90",
   "metadata": {},
   "source": [
    "## Injection de dépendances\n",
    "\n",
    "Une classe de contrôleurs est donc assez simple, d'autant plus qu'elle n'est pas censée faire quoi que ce soit par elle-même, à part rendre une réponse.\n",
    "\n",
    "Les classes de contrôleurs sont, en particulier, de bons exemples du mécanisme de l'injection de dépendances, car totes les méthodes (donc les contrôleurs) supportent ce mécanisme. Dans la plupart des classes, l'injection se fait par le constructeur.\n",
    "\n",
    "Si nous reprenos l'exemple du débit, nous pourrions injecter le service `Request` au cas où nous aurions besoin d'informations sur la requête. Cela se fait se manière qimplement déclarative :"
   ]
  },
  {
   "cell_type": "code",
   "execution_count": null,
   "id": "213ac65b",
   "metadata": {},
   "outputs": [],
   "source": [
    "%%php\n",
    "\n",
    "public function show(Request $request, $id)\n",
    "{\n",
    "    return view('user.profile', [\n",
    "        'productId' => $request->input('productId')\n",
    "        'user' => User::findOrFail($id)\n",
    "    ]);\n",
    "}"
   ]
  },
  {
   "cell_type": "markdown",
   "id": "0500bbbb",
   "metadata": {},
   "source": [
    "Dans cet exemple, nous passons à la vue un information issue d'un formulaire HTML.\n",
    "\n",
    "Laravel sait distinguer, dans la signature de la fonction, les paramètres qui sont des services de ceux qui sont des paramètres de route."
   ]
  }
 ],
 "metadata": {
  "kernelspec": {
   "display_name": "Python 3 (ipykernel)",
   "language": "python",
   "name": "python3"
  },
  "language_info": {
   "codemirror_mode": {
    "name": "ipython",
    "version": 3
   },
   "file_extension": ".py",
   "mimetype": "text/x-python",
   "name": "python",
   "nbconvert_exporter": "python",
   "pygments_lexer": "ipython3",
   "version": "3.8.8"
  }
 },
 "nbformat": 4,
 "nbformat_minor": 5
}
